{
 "cells": [
  {
   "cell_type": "code",
   "execution_count": 2,
   "metadata": {},
   "outputs": [
    {
     "name": "stdout",
     "output_type": "stream",
     "text": [
      "True\n"
     ]
    }
   ],
   "source": [
    "school = \"isb\"\n",
    "print('i' in school)"
   ]
  },
  {
   "cell_type": "code",
   "execution_count": 21,
   "metadata": {},
   "outputs": [
    {
     "name": "stdout",
     "output_type": "stream",
     "text": [
      "strifusing conings\n",
      "n\n"
     ]
    }
   ],
   "source": [
    "x='confusing'\n",
    "y='strings'\n",
    "strr1 = str(x[:3])\n",
    "strr2=str(y[:-3])\n",
    "#print(strr1.capitalize())\n",
    "strr3=str(x)\n",
    "print(strr2 +x[3:] + \" \" + strr1 + y[3:])\n",
    "print(strr3[2])\n",
    "#strr3[2]='p'"
   ]
  },
  {
   "cell_type": "code",
   "execution_count": 145,
   "metadata": {},
   "outputs": [
    {
     "name": "stdout",
     "output_type": "stream",
     "text": [
      "['prem', 'charan']\n",
      "['p', 'r', 's', 'm']\n",
      "pdfrdfsdfm\n"
     ]
    }
   ],
   "source": [
    "list1=['sundar','charan']\n",
    "list1[0]='prem'\n",
    "print(list1)\n",
    "cc=list(list1[0])\n",
    "cc[2]='s'\n",
    "ff=str(cc)\n",
    "print(cc)\n",
    "print('df'.join(cc))\n"
   ]
  },
  {
   "cell_type": "markdown",
   "metadata": {},
   "source": [
    " (For Loop ,While Loop and Reverse Function)"
   ]
  },
  {
   "cell_type": "code",
   "execution_count": 144,
   "metadata": {},
   "outputs": [
    {
     "name": "stdout",
     "output_type": "stream",
     "text": [
      "Using For loop : nohtyp\n",
      "using While Loop : nohtyp\n",
      "Using Reverse function : nohtyp\n"
     ]
    }
   ],
   "source": [
    "#sorted list\n",
    "stri ='python'\n",
    "strlist=list(stri)\n",
    "#strlist.reverse()\n",
    "i=len(strlist)\n",
    "xx=''\n",
    "f=''\n",
    "for v in range(i):\n",
    "    # print(i)\n",
    "    f = f + (strlist[i-1])\n",
    "    #print(f)\n",
    "    i=i-1\n",
    "print('Using For loop : ' + f)\n",
    "\n",
    "i=len(strlist)    \n",
    "while (i > 0):\n",
    "    #print(strlist[i-1])\n",
    "    xx = xx + (strlist[i-1])\n",
    "    #print(xx)\n",
    "    i = i - 1\n",
    "print('using While Loop : '+ xx) \n",
    "g = list(stri)\n",
    "g.reverse()\n",
    "print('Using Reverse function : ' + ''.join(g))\n",
    "\n",
    "\n",
    "\n",
    "#sun=sorted(strlist)\n",
    "#print(xx)\n",
    "#sun=strlist\n",
    "#print(''.join(sun))"
   ]
  }
 ],
 "metadata": {
  "kernelspec": {
   "display_name": "Python 3",
   "language": "python",
   "name": "python3"
  },
  "language_info": {
   "codemirror_mode": {
    "name": "ipython",
    "version": 3
   },
   "file_extension": ".py",
   "mimetype": "text/x-python",
   "name": "python",
   "nbconvert_exporter": "python",
   "pygments_lexer": "ipython3",
   "version": "3.6.4"
  }
 },
 "nbformat": 4,
 "nbformat_minor": 2
}
