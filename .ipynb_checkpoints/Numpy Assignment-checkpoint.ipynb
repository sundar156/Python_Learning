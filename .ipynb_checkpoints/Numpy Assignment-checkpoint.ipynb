{
 "cells": [
  {
   "cell_type": "markdown",
   "metadata": {},
   "source": [
    "Numpy Assignment -Feb 02 19"
   ]
  },
  {
   "cell_type": "code",
   "execution_count": 94,
   "metadata": {},
   "outputs": [
    {
     "name": "stdout",
     "output_type": "stream",
     "text": [
      "[10, 11, 12, 13, 14, 15, 16, 17, 18, 19, 20, 21, 22, 23, 24, 25, 26, 27, 28, 29, 30, 31, 32, 33, 34, 35, 36, 37, 38, 39, 40, 41, 42, 43, 44, 45, 46, 47, 48, 49]\n",
      "[10 11 12 13 14 15 16 17 18 19 20 21 22 23 24 25 26 27 28 29 30 31 32 33\n",
      " 34 35 36 37 38 39 40 41 42 43 44 45 46 47 48 49]\n",
      "[10.         11.05128205 12.1025641  13.15384615 14.20512821 15.25641026\n",
      " 16.30769231 17.35897436 18.41025641 19.46153846 20.51282051 21.56410256\n",
      " 22.61538462 23.66666667 24.71794872 25.76923077 26.82051282 27.87179487\n",
      " 28.92307692 29.97435897 31.02564103 32.07692308 33.12820513 34.17948718\n",
      " 35.23076923 36.28205128 37.33333333 38.38461538 39.43589744 40.48717949\n",
      " 41.53846154 42.58974359 43.64102564 44.69230769 45.74358974 46.79487179\n",
      " 47.84615385 48.8974359  49.94871795 51.        ]\n"
     ]
    }
   ],
   "source": [
    "# 1. Write a Python program to create a vector with values ranging from 10 to 49\n",
    "import numpy as np\n",
    "x=np.array((1,2,3))\n",
    "y=np.array((10))\n",
    "#?np.array()\n",
    "#print(x+3)\n",
    "\n",
    "a = [1,2,3,4,5]\n",
    "b = [10,20,30,40]\n",
    "c=[val +2 for val in a]\n",
    "#?range\n",
    "d=[val+1 for val in range(9,49,1)]\n",
    "print(d)\n",
    "e=np.array(np.arange(10,50,1))\n",
    "print(e)\n",
    "#f=np.array(np.linspace(10,51,40))\n",
    "print(f)\n",
    "#print('Sum is ' , np.sum(f))\n"
   ]
  },
  {
   "cell_type": "markdown",
   "metadata": {},
   "source": [
    "2. Write a Python program to reverse a vector (first element becomes last)"
   ]
  },
  {
   "cell_type": "code",
   "execution_count": 98,
   "metadata": {},
   "outputs": [
    {
     "name": "stdout",
     "output_type": "stream",
     "text": [
      "[9 8 7 6 5 4 3 2 1 0]\n"
     ]
    }
   ],
   "source": [
    "\n",
    "d = np.array(np.arange(10))\n",
    "#Ans : \n",
    "x = np.flip(d,0)\n",
    "#e=d.reshape(2,5)\n",
    "print(x)"
   ]
  },
  {
   "cell_type": "markdown",
   "metadata": {},
   "source": [
    " 3.Write a Python program to create a 3x3 matrix with values ranging from 0 to 8"
   ]
  },
  {
   "cell_type": "code",
   "execution_count": 101,
   "metadata": {},
   "outputs": [
    {
     "name": "stdout",
     "output_type": "stream",
     "text": [
      "[[0 1 2]\n",
      " [3 4 5]\n",
      " [6 7 8]]\n"
     ]
    }
   ],
   "source": [
    "#Ans : \n",
    "f=np.arange(0,9,1).reshape(3,3)\n",
    "print(f)"
   ]
  },
  {
   "cell_type": "markdown",
   "metadata": {},
   "source": [
    "Ques 4. Write a Python program to find indices of non-zero elements from [1,2,0,0,4,0]"
   ]
  },
  {
   "cell_type": "code",
   "execution_count": 105,
   "metadata": {
    "scrolled": true
   },
   "outputs": [
    {
     "name": "stdout",
     "output_type": "stream",
     "text": [
      "(array([0, 1, 4]),)\n"
     ]
    }
   ],
   "source": [
    "#Ans:\n",
    "x=np.array([1,2,0,0,4,0]).nonzero()\n",
    "print(x)\n"
   ]
  },
  {
   "cell_type": "markdown",
   "metadata": {},
   "source": [
    "Ques 5. Write a Python program to create a 3x3x3 array with random values"
   ]
  },
  {
   "cell_type": "code",
   "execution_count": 117,
   "metadata": {},
   "outputs": [
    {
     "name": "stdout",
     "output_type": "stream",
     "text": [
      "Object `xrand` not found.\n",
      "[[[0.5311178  0.92556929 0.29944998]\n",
      "  [0.03636891 0.52088815 0.85644807]\n",
      "  [0.0240163  0.55716387 0.54384881]]\n",
      "\n",
      " [[0.28570062 0.67496243 0.09018528]\n",
      "  [0.98925378 0.33761643 0.29232066]\n",
      "  [0.94110093 0.0537649  0.8978639 ]]\n",
      "\n",
      " [[0.33576545 0.70527242 0.12078616]\n",
      "  [0.54853294 0.48390731 0.11164289]\n",
      "  [0.55239231 0.008627   0.35952988]]]\n",
      "[1 2 3 4 5 6 7 8 9]\n"
     ]
    }
   ],
   "source": [
    "#Ans:\n",
    "x=np.random.rand(3,3,3)\n",
    "y=np.array([1,2,3,4,5,6,7,8,9])\n",
    "#y.rand(3,3,3)\n",
    "?xrand\n",
    "print(x)\n",
    "print(y)"
   ]
  },
  {
   "cell_type": "markdown",
   "metadata": {},
   "source": [
    "Ques 6. Write a Python program to create a 10x10 array with random values and \n",
    "find the minimum and maximum values"
   ]
  },
  {
   "cell_type": "code",
   "execution_count": 133,
   "metadata": {
    "scrolled": false
   },
   "outputs": [
    {
     "name": "stdout",
     "output_type": "stream",
     "text": [
      "[[0.82860958 0.5818999  0.10704652 0.8489348  0.03300209 0.98156947\n",
      "  0.52665097 0.09400356 0.41045695 0.09836525]\n",
      " [0.92559495 0.26888927 0.45712144 0.83081382 0.00715753 0.84617955\n",
      "  0.90569139 0.62726997 0.43721655 0.15051303]\n",
      " [0.51204797 0.13596506 0.81069773 0.29502357 0.38565286 0.20577891\n",
      "  0.06421235 0.625415   0.95104907 0.62188908]\n",
      " [0.69842253 0.33358835 0.28093744 0.20329632 0.24411729 0.18280519\n",
      "  0.12989953 0.86172433 0.94397984 0.76359404]\n",
      " [0.78144194 0.24918118 0.44806294 0.99142653 0.6701651  0.61525055\n",
      "  0.43606003 0.31176703 0.34484597 0.74375206]\n",
      " [0.3490458  0.20363231 0.66285427 0.47531471 0.77619536 0.90517951\n",
      "  0.57241615 0.58088705 0.05961165 0.66572587]\n",
      " [0.22676795 0.0719514  0.6935966  0.25567376 0.79103155 0.18528693\n",
      "  0.61560614 0.17315626 0.23891718 0.50834157]\n",
      " [0.4256554  0.14366744 0.48628576 0.9570176  0.36580569 0.57637479\n",
      "  0.91934888 0.86059284 0.01476706 0.21501559]\n",
      " [0.76956374 0.4087849  0.20241849 0.53756459 0.44315855 0.40467296\n",
      "  0.84867034 0.16660221 0.81997624 0.82457371]\n",
      " [0.39780997 0.04389081 0.51428862 0.99618749 0.1838349  0.80328321\n",
      "  0.61598215 0.04791222 0.47831827 0.44108705]]\n",
      "Min  0.007157528008080782\n",
      "Max  0.9961874915800569\n"
     ]
    }
   ],
   "source": [
    "xx=np.random.rand(10,10)\n",
    "print(xx)\n",
    "print('Min ',xx.min())\n",
    "print('Max ' ,xx.max())"
   ]
  },
  {
   "cell_type": "raw",
   "metadata": {},
   "source": [
    "# Ques 7. Write a Python program to create a 5x5 matrix with row values ranging from 0 to 4"
   ]
  },
  {
   "cell_type": "code",
   "execution_count": 148,
   "metadata": {},
   "outputs": [
    {
     "name": "stdout",
     "output_type": "stream",
     "text": [
      "[[0 1 2 3 4]\n",
      " [1 2 3 4 5]\n",
      " [2 3 4 5 6]\n",
      " [3 4 5 6 7]\n",
      " [4 5 6 7 8]]\n"
     ]
    }
   ],
   "source": [
    "#Ans\n",
    "mtx = np.array(np.arange(0,5))\n",
    "mtx2 = np.array(np.arange(0,5)).reshape(5,1)\n",
    "print(mtx+mtx2)"
   ]
  },
  {
   "cell_type": "markdown",
   "metadata": {},
   "source": [
    "Ques 8. Write a Python program to find the nearest value from a given value in an array."
   ]
  },
  {
   "cell_type": "code",
   "execution_count": 173,
   "metadata": {},
   "outputs": [
    {
     "name": "stdout",
     "output_type": "stream",
     "text": [
      "[1 2 3 4 5 6 5]\n",
      "5\n"
     ]
    }
   ],
   "source": [
    "#Ans:\n",
    "Nmp=np.array([1,2,3,4,5,6,5])\n",
    "print(Nmp)\n",
    "Nearst = np.where(Nmp==6)\n",
    "print(Nmp[Nearst[0][0] -1])"
   ]
  },
  {
   "cell_type": "markdown",
   "metadata": {},
   "source": [
    "Ques 9. Write a Python program to find whether two random arrays A and B are equal."
   ]
  },
  {
   "cell_type": "code",
   "execution_count": 185,
   "metadata": {},
   "outputs": [
    {
     "name": "stdout",
     "output_type": "stream",
     "text": [
      "True\n"
     ]
    }
   ],
   "source": [
    "ArrA=np.array(np.arange(10))\n",
    "ArrB=np.array(np.arange(10))\n",
    "ArrC= np.array(np.arange(10))\n",
    "Boox = np.array_equal(ArrA,ArrB)\n",
    "print(Boox)"
   ]
  },
  {
   "cell_type": "code",
   "execution_count": null,
   "metadata": {},
   "outputs": [],
   "source": []
  },
  {
   "cell_type": "markdown",
   "metadata": {},
   "source": [
    "Ques 10.\n",
    "Consider the vector [1,2,3,4,5]\n",
    "write a Python program to build a new vector with three consecutive zeros interleaved between each value."
   ]
  },
  {
   "cell_type": "code",
   "execution_count": 298,
   "metadata": {},
   "outputs": [
    {
     "name": "stdout",
     "output_type": "stream",
     "text": [
      "[[1 0]\n",
      " [2 0]\n",
      " [3 0]\n",
      " [4 0]\n",
      " [5 0]]\n",
      "s : [[1 0]\n",
      " [2 0]\n",
      " [3 0]\n",
      " [4 0]\n",
      " [5 0]]\n",
      "[[1 0 0 0 2 0 0 0 3 0 0 0 4 0 0 0 5 0 0 0]]\n"
     ]
    }
   ],
   "source": [
    "Sam=np.array([1, 2, 3, 4, 5]).reshape(5,1)\n",
    "apxA = np.array([0])\n",
    "#print(Sam)\n",
    "#y = np.append(Sam)\n",
    "x = np.insert(Sam,1,[0],axis=1)\n",
    "print(x)\n",
    "s= np.repeat(x,1,axis=1)\n",
    "print('s :' ,s)\n",
    "y= np.insert(x,1,[0],axis=1)\n",
    "z= np.insert(y,3,[0],axis=1)\n",
    "print(z.reshape(1,20))\n"
   ]
  },
  {
   "cell_type": "markdown",
   "metadata": {},
   "source": [
    "Ques 11. Write a Python program to find the most frequent value in an array."
   ]
  },
  {
   "cell_type": "code",
   "execution_count": null,
   "metadata": {},
   "outputs": [],
   "source": [
    "#Most frequent values\n"
   ]
  },
  {
   "cell_type": "code",
   "execution_count": 349,
   "metadata": {},
   "outputs": [
    {
     "name": "stdout",
     "output_type": "stream",
     "text": [
      "[ 1  1  2  2  2  3  4  4  5 12]\n",
      "[0 2 3 1 2 1 0 0 0 0 0 0 1]\n",
      "2\n"
     ]
    }
   ],
   "source": [
    "Freq=np.array([1, 2,1, 3, 4, 5,4,2,2,12])\n",
    "g=np.sort(Freq,axis=0)\n",
    "#?np.sort()\n",
    "print(g)\n",
    "#?np.repeat\n",
    "count=np.bincount(Freq)\n",
    "?np.bincount()\n",
    "#Freq.argmax()\n",
    "print(count)\n",
    "print(count.argmax())"
   ]
  },
  {
   "cell_type": "code",
   "execution_count": 330,
   "metadata": {},
   "outputs": [
    {
     "name": "stdout",
     "output_type": "stream",
     "text": [
      "[[1 2]\n",
      " [3 4]\n",
      " [5 6]]\n",
      "[ 1  2  3 11 12  4  5  6]\n",
      "[[ 1  2]\n",
      " [11 11]\n",
      " [ 3  4]\n",
      " [ 5  6]]\n",
      "[[ 1 11  2]\n",
      " [ 3 11  4]\n",
      " [ 5 11  6]]\n",
      "[[1. 0. 0. 0.]\n",
      " [0. 1. 0. 0.]\n",
      " [0. 0. 1. 0.]\n",
      " [0. 0. 0. 1.]]\n",
      "sum  [ 6 12]\n",
      "[[1 2 3]\n",
      " [3 4 5]]\n",
      "[[1 3]\n",
      " [2 4]\n",
      " [3 5]]\n"
     ]
    }
   ],
   "source": [
    "a = np.array([[1,2],[3,4],[5,6]])\n",
    "\n",
    "#print 'First array:' \n",
    "print(a)\n",
    "#print '\\n'  \n",
    "\n",
    "#print 'Axis parameter not passed. The input array is flattened before insertion.'\n",
    "print (np.insert(a,3,[11,12]))\n",
    "#print '\\n'  \n",
    "#print 'Axis parameter passed. The values array is broadcast to match input array.'\n",
    "\n",
    "#print 'Broadcast along axis 0:' \n",
    "print(np.insert(a,1,[11],axis = 0))\n",
    "#print '\\n'  \n",
    "\n",
    "#print 'Broadcast along axis 1:' \n",
    "print(np.insert(a,1,11,axis = 1))\n",
    "b=np.ones(30)+2\n",
    "#use eye to create a identity matrix\n",
    "\n",
    "print(np.eye(4))\n",
    "b=np.eye(4)\n",
    "#use transpose to change the dimension of the array\n",
    "\n",
    "bd=np.array(([1,2,3],[3,4,5]))\n",
    "print('sum ',bd.sum(axis=1))\n",
    "print(bd)\n",
    "print(bd.transpose())\n",
    "#"
   ]
  },
  {
   "cell_type": "code",
   "execution_count": null,
   "metadata": {},
   "outputs": [],
   "source": []
  }
 ],
 "metadata": {
  "kernelspec": {
   "display_name": "Python 3",
   "language": "python",
   "name": "python3"
  },
  "language_info": {
   "codemirror_mode": {
    "name": "ipython",
    "version": 3
   },
   "file_extension": ".py",
   "mimetype": "text/x-python",
   "name": "python",
   "nbconvert_exporter": "python",
   "pygments_lexer": "ipython3",
   "version": "3.6.4"
  }
 },
 "nbformat": 4,
 "nbformat_minor": 2
}
