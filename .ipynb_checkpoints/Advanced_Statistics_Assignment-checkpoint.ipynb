{
 "cells": [
  {
   "cell_type": "markdown",
   "metadata": {},
   "source": [
    "#Advanced_Statistics_Assignment"
   ]
  },
  {
   "cell_type": "markdown",
   "metadata": {},
   "source": [
    "Given the following series of data on Gender and Height for 8 patients.\n"
   ]
  },
  {
   "cell_type": "code",
   "execution_count": 78,
   "metadata": {},
   "outputs": [
    {
     "data": {
      "text/html": [
       "<div>\n",
       "<style scoped>\n",
       "    .dataframe tbody tr th:only-of-type {\n",
       "        vertical-align: middle;\n",
       "    }\n",
       "\n",
       "    .dataframe tbody tr th {\n",
       "        vertical-align: top;\n",
       "    }\n",
       "\n",
       "    .dataframe thead th {\n",
       "        text-align: right;\n",
       "    }\n",
       "</style>\n",
       "<table border=\"1\" class=\"dataframe\">\n",
       "  <thead>\n",
       "    <tr style=\"text-align: right;\">\n",
       "      <th></th>\n",
       "      <th>Gender</th>\n",
       "      <th>Height</th>\n",
       "      <th>Id</th>\n",
       "    </tr>\n",
       "  </thead>\n",
       "  <tbody>\n",
       "    <tr>\n",
       "      <th>0</th>\n",
       "      <td>M</td>\n",
       "      <td>165</td>\n",
       "      <td>1</td>\n",
       "    </tr>\n",
       "    <tr>\n",
       "      <th>1</th>\n",
       "      <td>F</td>\n",
       "      <td>157</td>\n",
       "      <td>2</td>\n",
       "    </tr>\n",
       "    <tr>\n",
       "      <th>2</th>\n",
       "      <td>F</td>\n",
       "      <td>168</td>\n",
       "      <td>3</td>\n",
       "    </tr>\n",
       "    <tr>\n",
       "      <th>3</th>\n",
       "      <td>M</td>\n",
       "      <td>178</td>\n",
       "      <td>4</td>\n",
       "    </tr>\n",
       "    <tr>\n",
       "      <th>4</th>\n",
       "      <td>F</td>\n",
       "      <td>171</td>\n",
       "      <td>5</td>\n",
       "    </tr>\n",
       "    <tr>\n",
       "      <th>5</th>\n",
       "      <td>M</td>\n",
       "      <td>182</td>\n",
       "      <td>6</td>\n",
       "    </tr>\n",
       "    <tr>\n",
       "      <th>6</th>\n",
       "      <td>M</td>\n",
       "      <td>182</td>\n",
       "      <td>7</td>\n",
       "    </tr>\n",
       "    <tr>\n",
       "      <th>7</th>\n",
       "      <td>F</td>\n",
       "      <td>153</td>\n",
       "      <td>8</td>\n",
       "    </tr>\n",
       "  </tbody>\n",
       "</table>\n",
       "</div>"
      ],
      "text/plain": [
       "  Gender  Height  Id\n",
       "0      M     165   1\n",
       "1      F     157   2\n",
       "2      F     168   3\n",
       "3      M     178   4\n",
       "4      F     171   5\n",
       "5      M     182   6\n",
       "6      M     182   7\n",
       "7      F     153   8"
      ]
     },
     "execution_count": 78,
     "metadata": {},
     "output_type": "execute_result"
    }
   ],
   "source": [
    "import pandas as pd\n",
    "import numpy as np\n",
    "import matplotlib.pyplot as plt\n",
    "from scipy.stats import norm\n",
    "\n",
    "#pd.DataFrame()\n",
    "ds=pd.DataFrame({'Id':[1,2,3,4,5,6,7,8],'Height':[165,157,168,178,171,182,182,153],\n",
    "                 'Gender':['M','F','F','M','F','M','M','F']})\n",
    "ds"
   ]
  },
  {
   "cell_type": "code",
   "execution_count": 51,
   "metadata": {},
   "outputs": [
    {
     "name": "stdout",
     "output_type": "stream",
     "text": [
      "        count    mean       std    min     25%    50%     75%    max\n",
      "Gender                                                              \n",
      "F         4.0  162.25  8.616844  153.0  156.00  162.5  168.75  171.0\n",
      "M         4.0  176.75  8.057088  165.0  174.75  180.0  182.00  182.0\n",
      "([64.80250000000001], [74.30439999999999], [119.68359999999998])\n"
     ]
    }
   ],
   "source": [
    "#np.mean(ds['Height'].groupby('Gender')\n",
    "#print(ds.groupby(['Gender']).mean()['Height'])\n",
    "print(ds.groupby(['Gender']).describe()['Height'])\n",
    "variaceM=([8.05 **2],[8.62 **2],[10.94 **2])\n",
    "print(variaceM)\n"
   ]
  },
  {
   "cell_type": "code",
   "execution_count": null,
   "metadata": {},
   "outputs": [],
   "source": [
    "                   Mean.       Median      Variance.   SD.      Degree of Freedom\n",
    "    M           :  176.75      162.5        64.8        8.05        3\n",
    "    --------------------------------------------------------------------------\n",
    "    F           :  162.25      180          74.30       8.62        3\n",
    "    --------------------------------------------------------------------------\n",
    "    Population  :  169.5.      169.5        119.68      10.94       7"
   ]
  },
  {
   "cell_type": "markdown",
   "metadata": {},
   "source": [
    "Ques 2: \n",
    "186 patients were given a therapy for a certain disease; \n",
    "122 had therapy A, the other 64 had therapy B. \n",
    "In group A, there were 37 responders (patients who had benefit from the therapy).\n",
    "In group B, there were 32 responders. \n",
    "\n",
    "1.Which was the best treatment? \n",
    "2.How can we measure the advantage with this treatment? \n",
    "3.Among responders, how many had treatment B?\n",
    "\n",
    "                   Total Treated.     Total Responded\n",
    "   group A         122                37\n",
    "   Group B          64                32\n",
    "   ---------------------------------------------\n",
    "   Total           186                69\n",
    "   ---------------------------------------------\n",
    " \n",
    " Ans 1. Percent responded in group A:  37/122 *100 = 30.32 %\n",
    "        Percent responded in group B:  32/64  * 100 = 50\n",
    "        so based on the respose, Group B is best reatment\n",
    "    \n",
    " Ans 2: how good is this better than the other: \n",
    "         50/30.32 * 100 = 164.9 %  .so B is 164.9% better than A\n",
    " Ans 3: 32/69 * 100 = 46.37 %\n",
    "   \n",
    "***************\n"
   ]
  },
  {
   "cell_type": "markdown",
   "metadata": {},
   "source": [
    "Ques 3:\n",
    "\n",
    "A certain treatment is used in two different centres, A and B; \n",
    "patients in centre A were 25 and were on average 54 years old; \n",
    "patients treated in centre B were 62 and had mean age equal to 58 years. \n",
    "What is the overall mean among all patients who got the treatment?"
   ]
  },
  {
   "cell_type": "markdown",
   "metadata": {},
   "source": [
    "            Total patients.      Mean Age \n",
    "--------------------------------------------------\n",
    "Center A         25               54\n",
    "Center B         62               58\n",
    "--------------------------------------------------\n",
    "Total            87\n",
    "--------------------\n",
    "\n",
    "overall mean : (25*54) + (62*58) /(25+62) =56.85\n",
    "\n"
   ]
  },
  {
   "cell_type": "code",
   "execution_count": 58,
   "metadata": {},
   "outputs": [
    {
     "name": "stdout",
     "output_type": "stream",
     "text": [
      "56.85057471264368\n"
     ]
    }
   ],
   "source": [
    "x= ((25*54) + (62*58) )/ (25+62)\n",
    "print(x)"
   ]
  },
  {
   "cell_type": "markdown",
   "metadata": {},
   "source": [
    "Ques 4:\n",
    "Pregnant women (within month 4) who are being followed-up by a nutritionist had weights (kg) equal to: 64.3; 65.2; 70.0; 54.5; 58.8; 81.5; 61.0; 62.0. \n",
    "What was the mean? and the median? \n",
    "Do data suggest a strong skewness of the distribution of the Weight?"
   ]
  },
  {
   "cell_type": "code",
   "execution_count": 88,
   "metadata": {},
   "outputs": [
    {
     "name": "stdout",
     "output_type": "stream",
     "text": [
      "64.6625\n",
      "64.75\n"
     ]
    },
    {
     "data": {
      "image/png": "[encoded data removed]",
      "text/plain": [
       "<matplotlib.figure.Figure at 0x10f80d470>"
      ]
     },
     "metadata": {},
     "output_type": "display_data"
    }
   ],
   "source": [
    "import scipy.stats as stats\n",
    "import matplotlib.pyplot as plt\n",
    "\n",
    "weights=np.array([64.3, 65.2, 70.0, 54.5, 58.8, 81.5, 61.0, 62.0])\n",
    "mn=weights.mean()\n",
    "print(mn)\n",
    "c=np.sort(weights)\n",
    "print(np.sum(c[[4,5]])/2)\n",
    "\n",
    "# draw a graph to check the distribution\n",
    "hstd = np.std(c)\n",
    "pdf = stats.norm.pdf(c, mn, hstd)\n",
    "plt.plot(c, pdf)\n",
    "\n",
    "plt.show()\n"
   ]
  },
  {
   "cell_type": "markdown",
   "metadata": {},
   "source": [
    "Ans: \n",
    "Mean = 64.66\n",
    "Median=64.75\n",
    "since Mean ~ median , it is a normal distribution and there is no skew."
   ]
  },
  {
   "cell_type": "markdown",
   "metadata": {},
   "source": [
    "The Age quartiles in a sample of participants in a clinical trial were respectively 27, 41, 59.\n",
    "0.    27.    41.   59.   100\n",
    "\n",
    "a) This means that:\n",
    "- 1 out of 4 was younger than _27__ years o\n",
    "- 1 out of 4 was older than _59___ years o\n",
    "- 2 out of 4 were between __27__ and _59__ years old o -\n",
    "    half of them was more than_41_ years old\n",
    "\n",
    "b) Additionally we know that mean and standard deviation were respectively equal to 42 and 12. \n",
    "  Can we say whether the distribution was approximately Normal or not?\n",
    "\n",
    "  Ans: Since mean and meadin were around same value it should symmetric distribution\n",
    "  but it is not a normal distribution based the SD given and z-scores.\n",
    " \n",
    "c)Which index of position is appropriate to give a Better description of the distribution?\n",
    "  neither mean nor median can be used as indexes here since it is not a normal discribution.\n"
   ]
  },
  {
   "cell_type": "markdown",
   "metadata": {},
   "source": [
    "EX 6\n",
    "The guaranteed average life of a certain type of electric bulb is 1000 hours with a standard deviation of 125 hours. \n",
    "It is decided to sample the output so as to ensure that 90% of the bulbs do not fall short of the guaranteed average \n",
    "by more than 2.5%.\n",
    "Use Central limit theorem to find minimum sample size.\n",
    "\n"
   ]
  }
 ],
 "metadata": {
  "kernelspec": {
   "display_name": "Python 3",
   "language": "python",
   "name": "python3"
  },
  "language_info": {
   "codemirror_mode": {
    "name": "ipython",
    "version": 3
   },
   "file_extension": ".py",
   "mimetype": "text/x-python",
   "name": "python",
   "nbconvert_exporter": "python",
   "pygments_lexer": "ipython3",
   "version": "3.6.4"
  }
 },
 "nbformat": 4,
 "nbformat_minor": 2
}
