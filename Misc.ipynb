{
 "cells": [
  {
   "cell_type": "code",
   "execution_count": 1,
   "metadata": {},
   "outputs": [
    {
     "name": "stdout",
     "output_type": "stream",
     "text": [
      "[1, 2, 4, 5]\n",
      "['five', 'four', 'one', 'two']\n"
     ]
    }
   ],
   "source": [
    "str1=\"Hello\"\n",
    "dic1={1:'one',2:'two',5:'five',4:'four'}\n",
    "print(sorted(dic1.keys()))\n",
    "print(sorted(dic1.values()))"
   ]
  },
  {
   "cell_type": "code",
   "execution_count": 20,
   "metadata": {},
   "outputs": [
    {
     "name": "stdout",
     "output_type": "stream",
     "text": [
      "-inf\n",
      "c\n"
     ]
    }
   ],
   "source": [
    "nums=[1,2,3,4]\n",
    "print(float(\"-inf\"))\n",
    "\n",
    "'''\n",
    "def find_max(nums):\n",
    "\n",
    "    max_num = float(\"-inf\") # smaller than all other numbers\n",
    "for num in nums:\n",
    "    if num > max_num:\n",
    "           x=num \n",
    "# (Fill in the missing line here)\n",
    "return max_num '''\n",
    "print('c')"
   ]
  },
  {
   "cell_type": "code",
   "execution_count": 42,
   "metadata": {},
   "outputs": [
    {
     "name": "stdout",
     "output_type": "stream",
     "text": [
      "Tet\n",
      "sas\n",
      "True\n"
     ]
    }
   ],
   "source": [
    "class Palindrome:\n",
    "  @staticmethod\n",
    "  def is_palindrome(word):\n",
    "    #Please write your code here.\n",
    "    x=word[::-1]\n",
    "    msg=\"\"\n",
    "    if(word.lower()) == (x.lower()):\n",
    "        print('sas')\n",
    "        return True\n",
    "    else:\n",
    "        return False\n",
    "   \n",
    "word = input()\n",
    "print(Palindrome.is_palindrome(word))"
   ]
  },
  {
   "cell_type": "code",
   "execution_count": 38,
   "metadata": {},
   "outputs": [
    {
     "ename": "NameError",
     "evalue": "name 'Heloh' is not defined",
     "output_type": "error",
     "traceback": [
      "\u001b[0;31m---------------------------------------------------------------------------\u001b[0m",
      "\u001b[0;31mNameError\u001b[0m                                 Traceback (most recent call last)",
      "\u001b[0;32m<ipython-input-38-f91c527d1db0>\u001b[0m in \u001b[0;36m<module>\u001b[0;34m()\u001b[0m\n\u001b[0;32m----> 1\u001b[0;31m \u001b[0mHeloh\u001b[0m\u001b[0;34m\u001b[0m\u001b[0m\n\u001b[0m",
      "\u001b[0;31mNameError\u001b[0m: name 'Heloh' is not defined"
     ]
    }
   ],
   "source": []
  }
 ],
 "metadata": {
  "kernelspec": {
   "display_name": "Python 3",
   "language": "python",
   "name": "python3"
  },
  "language_info": {
   "codemirror_mode": {
    "name": "ipython",
    "version": 3
   },
   "file_extension": ".py",
   "mimetype": "text/x-python",
   "name": "python",
   "nbconvert_exporter": "python",
   "pygments_lexer": "ipython3",
   "version": "3.6.4"
  }
 },
 "nbformat": 4,
 "nbformat_minor": 2
}
