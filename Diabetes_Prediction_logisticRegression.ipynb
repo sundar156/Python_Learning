{
 "cells": [
  {
   "cell_type": "code",
   "execution_count": 6,
   "metadata": {
    "scrolled": true
   },
   "outputs": [
    {
     "data": {
      "text/html": [
       "<div>\n",
       "<style scoped>\n",
       "    .dataframe tbody tr th:only-of-type {\n",
       "        vertical-align: middle;\n",
       "    }\n",
       "\n",
       "    .dataframe tbody tr th {\n",
       "        vertical-align: top;\n",
       "    }\n",
       "\n",
       "    .dataframe thead th {\n",
       "        text-align: right;\n",
       "    }\n",
       "</style>\n",
       "<table border=\"1\" class=\"dataframe\">\n",
       "  <thead>\n",
       "    <tr style=\"text-align: right;\">\n",
       "      <th></th>\n",
       "      <th>Pregnancies</th>\n",
       "      <th>Glucose</th>\n",
       "      <th>BloodPressure</th>\n",
       "      <th>SkinThickness</th>\n",
       "      <th>Insulin</th>\n",
       "      <th>BMI</th>\n",
       "      <th>DiabetesPedigreeFunction</th>\n",
       "      <th>Age</th>\n",
       "      <th>Outcome</th>\n",
       "    </tr>\n",
       "  </thead>\n",
       "  <tbody>\n",
       "    <tr>\n",
       "      <th>0</th>\n",
       "      <td>6</td>\n",
       "      <td>148</td>\n",
       "      <td>72</td>\n",
       "      <td>35</td>\n",
       "      <td>0</td>\n",
       "      <td>33.6</td>\n",
       "      <td>0.627</td>\n",
       "      <td>50</td>\n",
       "      <td>1</td>\n",
       "    </tr>\n",
       "    <tr>\n",
       "      <th>1</th>\n",
       "      <td>1</td>\n",
       "      <td>85</td>\n",
       "      <td>66</td>\n",
       "      <td>29</td>\n",
       "      <td>0</td>\n",
       "      <td>26.6</td>\n",
       "      <td>0.351</td>\n",
       "      <td>31</td>\n",
       "      <td>0</td>\n",
       "    </tr>\n",
       "    <tr>\n",
       "      <th>2</th>\n",
       "      <td>8</td>\n",
       "      <td>183</td>\n",
       "      <td>64</td>\n",
       "      <td>0</td>\n",
       "      <td>0</td>\n",
       "      <td>23.3</td>\n",
       "      <td>0.672</td>\n",
       "      <td>32</td>\n",
       "      <td>1</td>\n",
       "    </tr>\n",
       "    <tr>\n",
       "      <th>3</th>\n",
       "      <td>1</td>\n",
       "      <td>89</td>\n",
       "      <td>66</td>\n",
       "      <td>23</td>\n",
       "      <td>94</td>\n",
       "      <td>28.1</td>\n",
       "      <td>0.167</td>\n",
       "      <td>21</td>\n",
       "      <td>0</td>\n",
       "    </tr>\n",
       "    <tr>\n",
       "      <th>4</th>\n",
       "      <td>0</td>\n",
       "      <td>137</td>\n",
       "      <td>40</td>\n",
       "      <td>35</td>\n",
       "      <td>168</td>\n",
       "      <td>43.1</td>\n",
       "      <td>2.288</td>\n",
       "      <td>33</td>\n",
       "      <td>1</td>\n",
       "    </tr>\n",
       "  </tbody>\n",
       "</table>\n",
       "</div>"
      ],
      "text/plain": [
       "   Pregnancies  Glucose  BloodPressure  SkinThickness  Insulin   BMI  \\\n",
       "0            6      148             72             35        0  33.6   \n",
       "1            1       85             66             29        0  26.6   \n",
       "2            8      183             64              0        0  23.3   \n",
       "3            1       89             66             23       94  28.1   \n",
       "4            0      137             40             35      168  43.1   \n",
       "\n",
       "   DiabetesPedigreeFunction  Age  Outcome  \n",
       "0                     0.627   50        1  \n",
       "1                     0.351   31        0  \n",
       "2                     0.672   32        1  \n",
       "3                     0.167   21        0  \n",
       "4                     2.288   33        1  "
      ]
     },
     "execution_count": 6,
     "metadata": {},
     "output_type": "execute_result"
    }
   ],
   "source": [
    "#Diabetes_Prediction_logisticRegression\n",
    "import pandas as pd\n",
    "import numpy as np\n",
    "import os\n",
    "cwd = os.getcwd()\n",
    "cwd\n",
    "Dataset_Diabetes=pd.read_csv('../Machine_Learning/Logistic_regression_assignment/diabetes.csv')\n",
    "Dataset_Diabetes.head()"
   ]
  },
  {
   "cell_type": "code",
   "execution_count": 3,
   "metadata": {},
   "outputs": [
    {
     "data": {
      "text/html": [
       "<div>\n",
       "<style scoped>\n",
       "    .dataframe tbody tr th:only-of-type {\n",
       "        vertical-align: middle;\n",
       "    }\n",
       "\n",
       "    .dataframe tbody tr th {\n",
       "        vertical-align: top;\n",
       "    }\n",
       "\n",
       "    .dataframe thead th {\n",
       "        text-align: right;\n",
       "    }\n",
       "</style>\n",
       "<table border=\"1\" class=\"dataframe\">\n",
       "  <thead>\n",
       "    <tr style=\"text-align: right;\">\n",
       "      <th></th>\n",
       "      <th>Pregnancies</th>\n",
       "      <th>Glucose</th>\n",
       "      <th>BloodPressure</th>\n",
       "      <th>SkinThickness</th>\n",
       "      <th>Insulin</th>\n",
       "      <th>BMI</th>\n",
       "      <th>DiabetesPedigreeFunction</th>\n",
       "      <th>Age</th>\n",
       "      <th>Outcome</th>\n",
       "    </tr>\n",
       "  </thead>\n",
       "  <tbody>\n",
       "    <tr>\n",
       "      <th>Pregnancies</th>\n",
       "      <td>1.000000</td>\n",
       "      <td>0.129459</td>\n",
       "      <td>0.141282</td>\n",
       "      <td>-0.081672</td>\n",
       "      <td>-0.073535</td>\n",
       "      <td>0.017683</td>\n",
       "      <td>-0.033523</td>\n",
       "      <td>0.544341</td>\n",
       "      <td>0.221898</td>\n",
       "    </tr>\n",
       "    <tr>\n",
       "      <th>Glucose</th>\n",
       "      <td>0.129459</td>\n",
       "      <td>1.000000</td>\n",
       "      <td>0.152590</td>\n",
       "      <td>0.057328</td>\n",
       "      <td>0.331357</td>\n",
       "      <td>0.221071</td>\n",
       "      <td>0.137337</td>\n",
       "      <td>0.263514</td>\n",
       "      <td>0.466581</td>\n",
       "    </tr>\n",
       "    <tr>\n",
       "      <th>BloodPressure</th>\n",
       "      <td>0.141282</td>\n",
       "      <td>0.152590</td>\n",
       "      <td>1.000000</td>\n",
       "      <td>0.207371</td>\n",
       "      <td>0.088933</td>\n",
       "      <td>0.281805</td>\n",
       "      <td>0.041265</td>\n",
       "      <td>0.239528</td>\n",
       "      <td>0.065068</td>\n",
       "    </tr>\n",
       "    <tr>\n",
       "      <th>SkinThickness</th>\n",
       "      <td>-0.081672</td>\n",
       "      <td>0.057328</td>\n",
       "      <td>0.207371</td>\n",
       "      <td>1.000000</td>\n",
       "      <td>0.436783</td>\n",
       "      <td>0.392573</td>\n",
       "      <td>0.183928</td>\n",
       "      <td>-0.113970</td>\n",
       "      <td>0.074752</td>\n",
       "    </tr>\n",
       "    <tr>\n",
       "      <th>Insulin</th>\n",
       "      <td>-0.073535</td>\n",
       "      <td>0.331357</td>\n",
       "      <td>0.088933</td>\n",
       "      <td>0.436783</td>\n",
       "      <td>1.000000</td>\n",
       "      <td>0.197859</td>\n",
       "      <td>0.185071</td>\n",
       "      <td>-0.042163</td>\n",
       "      <td>0.130548</td>\n",
       "    </tr>\n",
       "    <tr>\n",
       "      <th>BMI</th>\n",
       "      <td>0.017683</td>\n",
       "      <td>0.221071</td>\n",
       "      <td>0.281805</td>\n",
       "      <td>0.392573</td>\n",
       "      <td>0.197859</td>\n",
       "      <td>1.000000</td>\n",
       "      <td>0.140647</td>\n",
       "      <td>0.036242</td>\n",
       "      <td>0.292695</td>\n",
       "    </tr>\n",
       "    <tr>\n",
       "      <th>DiabetesPedigreeFunction</th>\n",
       "      <td>-0.033523</td>\n",
       "      <td>0.137337</td>\n",
       "      <td>0.041265</td>\n",
       "      <td>0.183928</td>\n",
       "      <td>0.185071</td>\n",
       "      <td>0.140647</td>\n",
       "      <td>1.000000</td>\n",
       "      <td>0.033561</td>\n",
       "      <td>0.173844</td>\n",
       "    </tr>\n",
       "    <tr>\n",
       "      <th>Age</th>\n",
       "      <td>0.544341</td>\n",
       "      <td>0.263514</td>\n",
       "      <td>0.239528</td>\n",
       "      <td>-0.113970</td>\n",
       "      <td>-0.042163</td>\n",
       "      <td>0.036242</td>\n",
       "      <td>0.033561</td>\n",
       "      <td>1.000000</td>\n",
       "      <td>0.238356</td>\n",
       "    </tr>\n",
       "    <tr>\n",
       "      <th>Outcome</th>\n",
       "      <td>0.221898</td>\n",
       "      <td>0.466581</td>\n",
       "      <td>0.065068</td>\n",
       "      <td>0.074752</td>\n",
       "      <td>0.130548</td>\n",
       "      <td>0.292695</td>\n",
       "      <td>0.173844</td>\n",
       "      <td>0.238356</td>\n",
       "      <td>1.000000</td>\n",
       "    </tr>\n",
       "  </tbody>\n",
       "</table>\n",
       "</div>"
      ],
      "text/plain": [
       "                          Pregnancies   Glucose  BloodPressure  SkinThickness  \\\n",
       "Pregnancies                  1.000000  0.129459       0.141282      -0.081672   \n",
       "Glucose                      0.129459  1.000000       0.152590       0.057328   \n",
       "BloodPressure                0.141282  0.152590       1.000000       0.207371   \n",
       "SkinThickness               -0.081672  0.057328       0.207371       1.000000   \n",
       "Insulin                     -0.073535  0.331357       0.088933       0.436783   \n",
       "BMI                          0.017683  0.221071       0.281805       0.392573   \n",
       "DiabetesPedigreeFunction    -0.033523  0.137337       0.041265       0.183928   \n",
       "Age                          0.544341  0.263514       0.239528      -0.113970   \n",
       "Outcome                      0.221898  0.466581       0.065068       0.074752   \n",
       "\n",
       "                           Insulin       BMI  DiabetesPedigreeFunction  \\\n",
       "Pregnancies              -0.073535  0.017683                 -0.033523   \n",
       "Glucose                   0.331357  0.221071                  0.137337   \n",
       "BloodPressure             0.088933  0.281805                  0.041265   \n",
       "SkinThickness             0.436783  0.392573                  0.183928   \n",
       "Insulin                   1.000000  0.197859                  0.185071   \n",
       "BMI                       0.197859  1.000000                  0.140647   \n",
       "DiabetesPedigreeFunction  0.185071  0.140647                  1.000000   \n",
       "Age                      -0.042163  0.036242                  0.033561   \n",
       "Outcome                   0.130548  0.292695                  0.173844   \n",
       "\n",
       "                               Age   Outcome  \n",
       "Pregnancies               0.544341  0.221898  \n",
       "Glucose                   0.263514  0.466581  \n",
       "BloodPressure             0.239528  0.065068  \n",
       "SkinThickness            -0.113970  0.074752  \n",
       "Insulin                  -0.042163  0.130548  \n",
       "BMI                       0.036242  0.292695  \n",
       "DiabetesPedigreeFunction  0.033561  0.173844  \n",
       "Age                       1.000000  0.238356  \n",
       "Outcome                   0.238356  1.000000  "
      ]
     },
     "execution_count": 3,
     "metadata": {},
     "output_type": "execute_result"
    }
   ],
   "source": [
    "Dataset_Diabetes.corr()"
   ]
  },
  {
   "cell_type": "code",
   "execution_count": 9,
   "metadata": {},
   "outputs": [],
   "source": [
    "\n",
    "#Dataset_Diabetes.plot(kind='scatter',x='Pregnancies',y='Outcome')\n",
    "from sklearn.cross_validation import train_test_split\n",
    "from sklearn import metrics\n",
    " \n",
    "features=['Pregnancies','Glucose','BloodPressure','SkinThickness','Insulin','BMI','DiabetesPedigreeFunction','Age']\n",
    "x=Dataset_Diabetes[features]\n",
    "y=Dataset_Diabetes['Outcome']\n",
    "x_train,x_test,y_train,y_test = train_test_split(x,y,random_state=2)\n",
    "\n",
    "#X_train, X_test, y_train, y_test = train_test_split(X, y, random_state=123)\n",
    "\n",
    "\n",
    "from sklearn.linear_model import LogisticRegression\n",
    "logistReg = LogisticRegression(class_weight='balanced')\n",
    "logistReg.fit(x_train,y_train)\n",
    "#y_predict = logistReg.predict_proba(x_test)\n",
    "y_predict = logistReg.predict(x_test)\n",
    "rmse = metrics.mean_squared_error(y_test,y_predict)\n",
    "accuracy = metrics.accuracy_score(y_test,y_predict)\n",
    "#y_predict_class=logistReg."
   ]
  },
  {
   "cell_type": "code",
   "execution_count": 11,
   "metadata": {},
   "outputs": [
    {
     "name": "stdout",
     "output_type": "stream",
     "text": [
      "0.23958333333333334\n",
      "0.7604166666666666\n"
     ]
    }
   ],
   "source": [
    "#print(rmse)\n",
    "print(accuracy)"
   ]
  },
  {
   "cell_type": "code",
   "execution_count": 18,
   "metadata": {},
   "outputs": [
    {
     "data": {
      "text/plain": [
       "0.6979166666666667"
      ]
     },
     "execution_count": 18,
     "metadata": {},
     "output_type": "execute_result"
    }
   ],
   "source": [
    "y_test.value_counts()\n",
    "1-y_test.mean()"
   ]
  },
  {
   "cell_type": "code",
   "execution_count": 19,
   "metadata": {},
   "outputs": [
    {
     "data": {
      "text/plain": [
       "0.6979166666666667"
      ]
     },
     "execution_count": 19,
     "metadata": {},
     "output_type": "execute_result"
    }
   ],
   "source": [
    "#calculate null accuracy\n",
    "max(y_test.mean() ,1-y_test.mean())"
   ]
  },
  {
   "cell_type": "code",
   "execution_count": 26,
   "metadata": {},
   "outputs": [
    {
     "name": "stdout",
     "output_type": "stream",
     "text": [
      "test [0 0 0 1 1 0 0 0 0 1 0 1 0 0 0 1 1 0 0 1]\n",
      "pred [0 0 0 0 1 0 0 1 0 1 1 1 1 0 0 1 1 0 0 1]\n"
     ]
    }
   ],
   "source": [
    "print('test',y_test.values[0:20])\n",
    "print('pred',y_predict[0:20])\n",
    "\n"
   ]
  },
  {
   "cell_type": "code",
   "execution_count": 30,
   "metadata": {},
   "outputs": [
    {
     "name": "stdout",
     "output_type": "stream",
     "text": [
      "[[107  27]\n",
      " [ 19  39]]\n"
     ]
    },
    {
     "data": {
      "text/plain": [
       "array([[107,  27],\n",
       "       [ 19,  39]])"
      ]
     },
     "execution_count": 30,
     "metadata": {},
     "output_type": "execute_result"
    }
   ],
   "source": [
    "#confusion matric\n",
    "print(metrics.confusion_matrix(y_test,y_predict))\n",
    "confm=metrics.confusion_matrix(y_test,y_predict)\n",
    "#confm"
   ]
  },
  {
   "cell_type": "code",
   "execution_count": 46,
   "metadata": {},
   "outputs": [
    {
     "data": {
      "text/plain": [
       "<matplotlib.axes._subplots.AxesSubplot at 0x121d546a0>"
      ]
     },
     "execution_count": 46,
     "metadata": {},
     "output_type": "execute_result"
    },
    {
     "data": {
      "image/png": "[encoded data removed]",
      "text/plain": [
       "<Figure size 432x288 with 2 Axes>"
      ]
     },
     "metadata": {},
     "output_type": "display_data"
    }
   ],
   "source": [
    "import seaborn as sns\n",
    "cmap=sns.cubehelix_palette(50,hue=0.04,rot=0,light=0.9,dark=0.1,as_cmap=True)\n",
    "sns.heatmap(confm,cmap=cmap,fmt='d',annot=True,xticklabels=['predicted 0','predicted 1'],yticklabels=['Actual 0','Actual 1'])"
   ]
  },
  {
   "cell_type": "code",
   "execution_count": 48,
   "metadata": {},
   "outputs": [
    {
     "name": "stdout",
     "output_type": "stream",
     "text": [
      "0.6724137931034483\n"
     ]
    }
   ],
   "source": [
    "#sensitivity = TP/TP + FN it is also called recall\n",
    "sensitivity = metrics.recall_score(y_test,y_predict)\n",
    "print(sensitivity)"
   ]
  },
  {
   "cell_type": "code",
   "execution_count": 52,
   "metadata": {},
   "outputs": [
    {
     "name": "stdout",
     "output_type": "stream",
     "text": [
      "0.20149253731343286\n"
     ]
    }
   ],
   "source": [
    "TN = confm[0,0]\n",
    "FP=confm[0,1]\n",
    "false_positive_rate=FP/(TN + FP)\n",
    "\n",
    "specifity =  TN /(TN+FP)\n",
    "print(1-specifity)"
   ]
  },
  {
   "cell_type": "code",
   "execution_count": 54,
   "metadata": {},
   "outputs": [
    {
     "name": "stdout",
     "output_type": "stream",
     "text": [
      "0.5909090909090909\n"
     ]
    }
   ],
   "source": [
    "#percision TP/TP+FP\n",
    "preci = metrics.precision_score(y_test,y_predict)\n",
    "print(preci)"
   ]
  },
  {
   "cell_type": "code",
   "execution_count": 80,
   "metadata": {},
   "outputs": [
    {
     "data": {
      "text/plain": [
       "array([0, 0, 0, 0, 1, 0, 0, 1, 0, 1])"
      ]
     },
     "execution_count": 80,
     "metadata": {},
     "output_type": "execute_result"
    }
   ],
   "source": [
    "logistReg.predict(x_test)[0:10]"
   ]
  },
  {
   "cell_type": "code",
   "execution_count": 84,
   "metadata": {},
   "outputs": [
    {
     "data": {
      "text/plain": [
       "array([[0.86804153, 0.13195847],\n",
       "       [0.70556272, 0.29443728],\n",
       "       [0.821932  , 0.178068  ],\n",
       "       [0.67892393, 0.32107607],\n",
       "       [0.38837768, 0.61162232],\n",
       "       [0.75365603, 0.24634397],\n",
       "       [0.83511612, 0.16488388],\n",
       "       [0.45840077, 0.54159923],\n",
       "       [0.84491289, 0.15508711],\n",
       "       [0.33471299, 0.66528701],\n",
       "       [0.45473681, 0.54526319],\n",
       "       [0.40966918, 0.59033082],\n",
       "       [0.20701402, 0.79298598],\n",
       "       [0.70111165, 0.29888835],\n",
       "       [0.91997358, 0.08002642],\n",
       "       [0.13780006, 0.86219994],\n",
       "       [0.13484463, 0.86515537],\n",
       "       [0.89566348, 0.10433652],\n",
       "       [0.55504727, 0.44495273],\n",
       "       [0.11429197, 0.88570803],\n",
       "       [0.04952114, 0.95047886],\n",
       "       [0.13333115, 0.86666885],\n",
       "       [0.74949268, 0.25050732],\n",
       "       [0.53791041, 0.46208959],\n",
       "       [0.78536037, 0.21463963],\n",
       "       [0.82486052, 0.17513948],\n",
       "       [0.31686826, 0.68313174],\n",
       "       [0.4975699 , 0.5024301 ],\n",
       "       [0.71019647, 0.28980353],\n",
       "       [0.57405599, 0.42594401],\n",
       "       [0.63610981, 0.36389019],\n",
       "       [0.4283991 , 0.5716009 ],\n",
       "       [0.91203035, 0.08796965],\n",
       "       [0.61664433, 0.38335567],\n",
       "       [0.46480349, 0.53519651],\n",
       "       [0.04688176, 0.95311824],\n",
       "       [0.51755967, 0.48244033],\n",
       "       [0.15916527, 0.84083473],\n",
       "       [0.56684818, 0.43315182],\n",
       "       [0.84076324, 0.15923676],\n",
       "       [0.65507116, 0.34492884],\n",
       "       [0.84403458, 0.15596542],\n",
       "       [0.30909998, 0.69090002],\n",
       "       [0.67952782, 0.32047218],\n",
       "       [0.90988037, 0.09011963],\n",
       "       [0.87706255, 0.12293745],\n",
       "       [0.62096425, 0.37903575],\n",
       "       [0.42828746, 0.57171254],\n",
       "       [0.80149098, 0.19850902],\n",
       "       [0.44440132, 0.55559868],\n",
       "       [0.01867714, 0.98132286],\n",
       "       [0.82941792, 0.17058208],\n",
       "       [0.52709219, 0.47290781],\n",
       "       [0.1772029 , 0.8227971 ],\n",
       "       [0.49507289, 0.50492711],\n",
       "       [0.39838232, 0.60161768],\n",
       "       [0.06919207, 0.93080793],\n",
       "       [0.476895  , 0.523105  ],\n",
       "       [0.59112553, 0.40887447],\n",
       "       [0.8660864 , 0.1339136 ],\n",
       "       [0.47147549, 0.52852451],\n",
       "       [0.11459279, 0.88540721],\n",
       "       [0.13335507, 0.86664493],\n",
       "       [0.10281445, 0.89718555],\n",
       "       [0.55754675, 0.44245325],\n",
       "       [0.80679024, 0.19320976],\n",
       "       [0.03990549, 0.96009451],\n",
       "       [0.54295977, 0.45704023],\n",
       "       [0.5660391 , 0.4339609 ],\n",
       "       [0.5258714 , 0.4741286 ],\n",
       "       [0.78365562, 0.21634438],\n",
       "       [0.8237463 , 0.1762537 ],\n",
       "       [0.40296635, 0.59703365],\n",
       "       [0.80307232, 0.19692768],\n",
       "       [0.79600819, 0.20399181],\n",
       "       [0.37101219, 0.62898781],\n",
       "       [0.49198216, 0.50801784],\n",
       "       [0.82209933, 0.17790067],\n",
       "       [0.5911916 , 0.4088084 ],\n",
       "       [0.49976999, 0.50023001],\n",
       "       [0.8766483 , 0.1233517 ],\n",
       "       [0.68617498, 0.31382502],\n",
       "       [0.88269062, 0.11730938],\n",
       "       [0.64713173, 0.35286827],\n",
       "       [0.24485919, 0.75514081],\n",
       "       [0.57013742, 0.42986258],\n",
       "       [0.81544748, 0.18455252],\n",
       "       [0.78084662, 0.21915338],\n",
       "       [0.6846408 , 0.3153592 ],\n",
       "       [0.34442628, 0.65557372],\n",
       "       [0.75431083, 0.24568917],\n",
       "       [0.60767328, 0.39232672],\n",
       "       [0.74455024, 0.25544976],\n",
       "       [0.87758991, 0.12241009],\n",
       "       [0.74385368, 0.25614632],\n",
       "       [0.2699714 , 0.7300286 ],\n",
       "       [0.54165592, 0.45834408],\n",
       "       [0.35506458, 0.64493542],\n",
       "       [0.27499647, 0.72500353],\n",
       "       [0.87433552, 0.12566448],\n",
       "       [0.46941716, 0.53058284],\n",
       "       [0.34027856, 0.65972144],\n",
       "       [0.78429705, 0.21570295],\n",
       "       [0.79315941, 0.20684059],\n",
       "       [0.64359415, 0.35640585],\n",
       "       [0.75694782, 0.24305218],\n",
       "       [0.021918  , 0.978082  ],\n",
       "       [0.70629195, 0.29370805],\n",
       "       [0.78714762, 0.21285238],\n",
       "       [0.99037244, 0.00962756],\n",
       "       [0.88588565, 0.11411435],\n",
       "       [0.54404481, 0.45595519],\n",
       "       [0.42489048, 0.57510952],\n",
       "       [0.83523105, 0.16476895],\n",
       "       [0.58881008, 0.41118992],\n",
       "       [0.27263262, 0.72736738],\n",
       "       [0.40157148, 0.59842852],\n",
       "       [0.54863808, 0.45136192],\n",
       "       [0.71618001, 0.28381999],\n",
       "       [0.70534686, 0.29465314],\n",
       "       [0.93571966, 0.06428034],\n",
       "       [0.62931673, 0.37068327],\n",
       "       [0.76003471, 0.23996529],\n",
       "       [0.76830819, 0.23169181],\n",
       "       [0.60233323, 0.39766677],\n",
       "       [0.11638103, 0.88361897],\n",
       "       [0.72228416, 0.27771584],\n",
       "       [0.44752445, 0.55247555],\n",
       "       [0.51980019, 0.48019981],\n",
       "       [0.41841503, 0.58158497],\n",
       "       [0.29752653, 0.70247347],\n",
       "       [0.6117316 , 0.3882684 ],\n",
       "       [0.43576136, 0.56423864],\n",
       "       [0.8452335 , 0.1547665 ],\n",
       "       [0.24686658, 0.75313342],\n",
       "       [0.31877491, 0.68122509],\n",
       "       [0.57505276, 0.42494724],\n",
       "       [0.57728988, 0.42271012],\n",
       "       [0.68689849, 0.31310151],\n",
       "       [0.3537637 , 0.6462363 ],\n",
       "       [0.75277332, 0.24722668],\n",
       "       [0.30446466, 0.69553534],\n",
       "       [0.74114836, 0.25885164],\n",
       "       [0.53705156, 0.46294844],\n",
       "       [0.61385267, 0.38614733],\n",
       "       [0.63174721, 0.36825279],\n",
       "       [0.90760032, 0.09239968],\n",
       "       [0.44882976, 0.55117024],\n",
       "       [0.90465702, 0.09534298],\n",
       "       [0.72311849, 0.27688151],\n",
       "       [0.81691291, 0.18308709],\n",
       "       [0.66434373, 0.33565627],\n",
       "       [0.36692169, 0.63307831],\n",
       "       [0.91511674, 0.08488326],\n",
       "       [0.74347705, 0.25652295],\n",
       "       [0.851029  , 0.148971  ],\n",
       "       [0.75092231, 0.24907769],\n",
       "       [0.1059023 , 0.8940977 ],\n",
       "       [0.85157009, 0.14842991],\n",
       "       [0.1518902 , 0.8481098 ],\n",
       "       [0.68387827, 0.31612173],\n",
       "       [0.98464557, 0.01535443],\n",
       "       [0.5226049 , 0.4773951 ],\n",
       "       [0.86295348, 0.13704652],\n",
       "       [0.72806052, 0.27193948],\n",
       "       [0.83620242, 0.16379758],\n",
       "       [0.51305566, 0.48694434],\n",
       "       [0.09625778, 0.90374222],\n",
       "       [0.59694409, 0.40305591],\n",
       "       [0.81247142, 0.18752858],\n",
       "       [0.59575511, 0.40424489],\n",
       "       [0.2056437 , 0.7943563 ],\n",
       "       [0.74753595, 0.25246405],\n",
       "       [0.69372042, 0.30627958],\n",
       "       [0.7616353 , 0.2383647 ],\n",
       "       [0.59558508, 0.40441492],\n",
       "       [0.4164761 , 0.5835239 ],\n",
       "       [0.52670902, 0.47329098],\n",
       "       [0.63107027, 0.36892973],\n",
       "       [0.84319546, 0.15680454],\n",
       "       [0.72057889, 0.27942111],\n",
       "       [0.88115503, 0.11884497],\n",
       "       [0.17332208, 0.82667792],\n",
       "       [0.44439007, 0.55560993],\n",
       "       [0.87520072, 0.12479928],\n",
       "       [0.84160912, 0.15839088],\n",
       "       [0.81921552, 0.18078448],\n",
       "       [0.48169947, 0.51830053],\n",
       "       [0.76021598, 0.23978402],\n",
       "       [0.21825476, 0.78174524],\n",
       "       [0.64909067, 0.35090933],\n",
       "       [0.69805988, 0.30194012]])"
      ]
     },
     "execution_count": 84,
     "metadata": {},
     "output_type": "execute_result"
    }
   ],
   "source": [
    "logistReg.predict_proba(x_test)\n",
    "#y_pred_probs=logistReg.predict_proba(x_test)[:,1]\n",
    "#y_pred_probs"
   ]
  },
  {
   "cell_type": "code",
   "execution_count": 96,
   "metadata": {},
   "outputs": [],
   "source": [
    "logistReg.predict_proba(x_test)[0:10,1]\n",
    "y_pred_probs=logistReg.predict_proba(x_test)[0:,1]\n",
    "\n",
    "#y_pred_probs"
   ]
  },
  {
   "cell_type": "code",
   "execution_count": 98,
   "metadata": {},
   "outputs": [
    {
     "data": {
      "text/plain": [
       "Text(0.5, 1.0, 'Histogram of predicted probabilities')"
      ]
     },
     "execution_count": 98,
     "metadata": {},
     "output_type": "execute_result"
    },
    {
     "data": {
      "image/png": "[encoded data removed]",
      "text/plain": [
       "<Figure size 432x288 with 1 Axes>"
      ]
     },
     "metadata": {},
     "output_type": "display_data"
    }
   ],
   "source": [
    "import matplotlib.pyplot as plt\n",
    "%matplotlib inline\n",
    "plt.rcParams['font.size']=12\n",
    "plt.hist(y_pred_probs,bins=8)\n",
    "plt.xlim(0,1)\n",
    "plt.xlabel(\"Predicted probability of diabetes\")\n",
    "plt.ylabel('frequency')\n",
    "plt.title('Histogram of predicted probabilities')"
   ]
  },
  {
   "cell_type": "code",
   "execution_count": 111,
   "metadata": {},
   "outputs": [
    {
     "data": {
      "text/plain": [
       "array([0., 0., 0., 0., 1., 0., 0., 1., 0., 1.])"
      ]
     },
     "execution_count": 111,
     "metadata": {},
     "output_type": "execute_result"
    }
   ],
   "source": [
    "#use binarize\n",
    "from sklearn.preprocessing import binarize\n",
    "y_pred_probs2=logistReg.predict_proba(x_test)\n",
    "y_pred_class = binarize(y_pred_probs2,0.4)[:,1]\n",
    "y_pred_class[0:10]"
   ]
  },
  {
   "cell_type": "code",
   "execution_count": 112,
   "metadata": {},
   "outputs": [
    {
     "data": {
      "text/plain": [
       "array([[107,  27],\n",
       "       [ 19,  39]])"
      ]
     },
     "execution_count": 112,
     "metadata": {},
     "output_type": "execute_result"
    }
   ],
   "source": [
    "confm"
   ]
  },
  {
   "cell_type": "code",
   "execution_count": 113,
   "metadata": {},
   "outputs": [
    {
     "data": {
      "text/plain": [
       "array([[86, 48],\n",
       "       [13, 45]])"
      ]
     },
     "execution_count": 113,
     "metadata": {},
     "output_type": "execute_result"
    }
   ],
   "source": [
    "metrics.confusion_matrix(y_test,y_pred_class)"
   ]
  },
  {
   "cell_type": "code",
   "execution_count": 114,
   "metadata": {},
   "outputs": [
    {
     "data": {
      "image/png": "[encoded data removed]",
      "text/plain": [
       "<Figure size 432x288 with 1 Axes>"
      ]
     },
     "metadata": {},
     "output_type": "display_data"
    }
   ],
   "source": [
    "#ROC Curve: and AUC ..Cross Validation\n",
    "fpr,tpr,thresholds = metrics.roc_curve(y_test,y_pred_probs)\n",
    "\n",
    "plt.plot(fpr,tpr)\n",
    "plt.xlim([0.0,1.0])\n",
    "plt.ylim([0.0,1.0])\n",
    "plt.rcParams['font.size']=12\n",
    "plt.title('ROC Curve for Diabetes Classifier')\n",
    "plt.xlabel('False Positive Rate')\n",
    "plt.ylabel('True Posiitive Rate')\n",
    "plt.grid(True)"
   ]
  },
  {
   "cell_type": "code",
   "execution_count": 115,
   "metadata": {},
   "outputs": [
    {
     "name": "stdout",
     "output_type": "stream",
     "text": [
      "0.7848687596500257\n"
     ]
    }
   ],
   "source": [
    "print(metrics.roc_auc_score(y_test,y_pred_probs))"
   ]
  },
  {
   "cell_type": "code",
   "execution_count": 119,
   "metadata": {},
   "outputs": [
    {
     "name": "stderr",
     "output_type": "stream",
     "text": [
      "[Parallel(n_jobs=1)]: Done  10 out of  10 | elapsed:    0.1s finished\n"
     ]
    }
   ],
   "source": [
    "from sklearn.cross_validation import cross_val_score\n",
    "cross_val_score(logistReg,x,y,cv=10,scoring='roc_auc',verbose=True).mean()\n"
   ]
  },
  {
   "cell_type": "code",
   "execution_count": null,
   "metadata": {},
   "outputs": [],
   "source": []
  }
 ],
 "metadata": {
  "kernelspec": {
   "display_name": "Python 3",
   "language": "python",
   "name": "python3"
  },
  "language_info": {
   "codemirror_mode": {
    "name": "ipython",
    "version": 3
   },
   "file_extension": ".py",
   "mimetype": "text/x-python",
   "name": "python",
   "nbconvert_exporter": "python",
   "pygments_lexer": "ipython3",
   "version": "3.6.4"
  }
 },
 "nbformat": 4,
 "nbformat_minor": 2
}
