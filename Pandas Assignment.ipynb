{
 "cells": [
  {
   "cell_type": "code",
   "execution_count": 2,
   "metadata": {},
   "outputs": [],
   "source": [
    "#Pandas Assignment"
   ]
  },
  {
   "cell_type": "markdown",
   "metadata": {},
   "source": [
    "The assignment contains data of the obesity of patients in a hospital in the file obes-phys-acti- diet.xls. The first file consists of obesity count of males and females of patients during different years. The second file consists of age breakage of obesity count.\n",
    "\n",
    "1. Write a Python program to read .xls file through Excelfiles."
   ]
  },
  {
   "cell_type": "code",
   "execution_count": 43,
   "metadata": {},
   "outputs": [],
   "source": [
    "import pandas as pd\n",
    "import chardet\n",
    "import os\n",
    "#print(os.getcwd())\n",
    "#with open(r'obes-phys-acti-diet.xls', 'rb') as f:\n",
    " #   result = chardet.detect(f.read())\n",
    "  #  print(result)    \n",
    "data1 = pd.ExcelFile('obes-phys-acti-diet.xls')\n"
   ]
  },
  {
   "cell_type": "markdown",
   "metadata": {},
   "source": [
    "Ques 2.Print sheet names"
   ]
  },
  {
   "cell_type": "code",
   "execution_count": 45,
   "metadata": {},
   "outputs": [
    {
     "name": "stdout",
     "output_type": "stream",
     "text": [
      "['Chapter 7', '7.1', '7.2', '7.3', '7.4', '7.5', '7.6', '7.7', '7.8', '7.9', '7.10']\n"
     ]
    }
   ],
   "source": [
    "print(data1.sheet_names)"
   ]
  },
  {
   "cell_type": "markdown",
   "metadata": {},
   "source": [
    "ques 3.\n",
    ". Write a Python program to create a list of six columns:\n",
    " Year\n",
    " Total\n",
    " Males\n",
    " Females  Nan\n",
    " None"
   ]
  },
  {
   "cell_type": "code",
   "execution_count": 50,
   "metadata": {},
   "outputs": [
    {
     "name": "stdout",
     "output_type": "stream",
     "text": [
      "         0\n",
      "0     Year\n",
      "1    Total\n",
      "2    Males\n",
      "3  Females\n",
      "4      Nan\n",
      "5     None\n"
     ]
    }
   ],
   "source": [
    "col = pd.DataFrame([['Year'],['Total'],['Males'],['Females'],['Nan'],['None']])\n",
    "print(col)"
   ]
  },
  {
   "cell_type": "markdown",
   "metadata": {},
   "source": [
    "Ques 4. Write a python program to parse the data and read the six columns present in 7.1\n",
    "sheet of data and skip first six rows and set skipfooter=14 and the column names as\n",
    "the list defined above. Assign the dataframe to data_gender."
   ]
  },
  {
   "cell_type": "code",
   "execution_count": null,
   "metadata": {},
   "outputs": [],
   "source": []
  }
 ],
 "metadata": {
  "kernelspec": {
   "display_name": "Python 3",
   "language": "python",
   "name": "python3"
  },
  "language_info": {
   "codemirror_mode": {
    "name": "ipython",
    "version": 3
   },
   "file_extension": ".py",
   "mimetype": "text/x-python",
   "name": "python",
   "nbconvert_exporter": "python",
   "pygments_lexer": "ipython3",
   "version": "3.6.4"
  }
 },
 "nbformat": 4,
 "nbformat_minor": 2
}
