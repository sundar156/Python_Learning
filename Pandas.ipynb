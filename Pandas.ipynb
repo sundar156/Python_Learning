{
 "cells": [
  {
   "cell_type": "markdown",
   "metadata": {},
   "source": [
    "Slice Array"
   ]
  },
  {
   "cell_type": "code",
   "execution_count": 4,
   "metadata": {},
   "outputs": [
    {
     "name": "stdout",
     "output_type": "stream",
     "text": [
      "[2.   2.25 2.5  2.75 3.   3.25 3.5  3.75 4.  ]\n"
     ]
    }
   ],
   "source": [
    "import numpy as np\n",
    "import pandas as pd\n",
    "x = np.array(np.linspace(2,4,9))\n",
    "print(x)"
   ]
  },
  {
   "cell_type": "code",
   "execution_count": 39,
   "metadata": {},
   "outputs": [
    {
     "name": "stdout",
     "output_type": "stream",
     "text": [
      "[[5 6]]\n",
      "[[ 2  4  6]\n",
      " [ 4  6  8]\n",
      " [ 6  8 10]\n",
      " [ 9  4  7]]\n"
     ]
    }
   ],
   "source": [
    "xd=np.array(([2,3,4],\n",
    "             [4,5,6],\n",
    "             [6,7,8],\n",
    "             [9,3,5]))\n",
    "f=xd[1:2,1:]\n",
    "print(f)\n",
    "bcast=np.array(([0,1,2]))\n",
    "nwar=xd+bcast\n",
    "print(nwar)"
   ]
  },
  {
   "cell_type": "code",
   "execution_count": 3,
   "metadata": {},
   "outputs": [
    {
     "data": {
      "text/plain": [
       "array([[0.59957838, 0.43232561, 0.57689297],\n",
       "       [0.40014526, 0.42938595, 0.26397228]])"
      ]
     },
     "execution_count": 3,
     "metadata": {},
     "output_type": "execute_result"
    }
   ],
   "source": [
    "np.random.rand(2,3)"
   ]
  },
  {
   "cell_type": "code",
   "execution_count": 12,
   "metadata": {},
   "outputs": [
    {
     "data": {
      "text/plain": [
       "dtype('int64')"
      ]
     },
     "execution_count": 12,
     "metadata": {},
     "output_type": "execute_result"
    }
   ],
   "source": [
    "x = pd.Series([1,2,3],index=['a','b','c'])\n",
    "x['a']\n",
    "x.dtype\n"
   ]
  },
  {
   "cell_type": "code",
   "execution_count": 26,
   "metadata": {},
   "outputs": [
    {
     "data": {
      "text/plain": [
       "1    3.316625\n",
       "2    3.464102\n",
       "3    3.605551\n",
       "4    3.741657\n",
       "5    3.872983\n",
       "dtype: float64"
      ]
     },
     "execution_count": 26,
     "metadata": {},
     "output_type": "execute_result"
    }
   ],
   "source": [
    "seq=[1,2,3,4,5]\n",
    "val=[11,12,13,14,15]\n",
    "df = pd.Series(val,seq)\n",
    "df[[1,2]]\n",
    "#df*2\n",
    "#df+2\n",
    "#df[df >13]\n",
    "#df >14\n",
    "#np.sqrt(df)"
   ]
  },
  {
   "cell_type": "code",
   "execution_count": 63,
   "metadata": {},
   "outputs": [
    {
     "name": "stdout",
     "output_type": "stream",
     "text": [
      "15\n",
      "a     3\n",
      "b     8\n",
      "5    12\n",
      "7    12\n",
      "dtype: int64\n"
     ]
    }
   ],
   "source": [
    "ind=['a','b',5,4]\n",
    "f={'a':2,'b':4,5:6,7:8}\n",
    "ff={'a':1,'b':4,5:6,7:4}\n",
    "firm = pd.Series(ff)\n",
    "firm2 = pd.Series(f)\n",
    "print(sum(firm))\n",
    "#f+ff\n",
    "print(firm+firm2)"
   ]
  },
  {
   "cell_type": "code",
   "execution_count": 65,
   "metadata": {},
   "outputs": [],
   "source": [
    "#DataFrame"
   ]
  },
  {
   "cell_type": "code",
   "execution_count": null,
   "metadata": {},
   "outputs": [],
   "source": []
  }
 ],
 "metadata": {
  "kernelspec": {
   "display_name": "Python 3",
   "language": "python",
   "name": "python3"
  },
  "language_info": {
   "codemirror_mode": {
    "name": "ipython",
    "version": 3
   },
   "file_extension": ".py",
   "mimetype": "text/x-python",
   "name": "python",
   "nbconvert_exporter": "python",
   "pygments_lexer": "ipython3",
   "version": "3.6.4"
  }
 },
 "nbformat": 4,
 "nbformat_minor": 2
}
