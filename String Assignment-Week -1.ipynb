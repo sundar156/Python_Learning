{
 "cells": [
  {
   "cell_type": "markdown",
   "metadata": {},
   "source": [
    "#String Assignment"
   ]
  },
  {
   "cell_type": "markdown",
   "metadata": {},
   "source": [
    "Q 1: I want to print the below string as it is. \n",
    "How do I do that? \n",
    "“Apples are better than \\n Oranges”"
   ]
  },
  {
   "cell_type": "code",
   "execution_count": 5,
   "metadata": {},
   "outputs": [
    {
     "name": "stdout",
     "output_type": "stream",
     "text": [
      "Apples are better than \\n Oranges\n"
     ]
    }
   ],
   "source": [
    "print(\"Apples are better than \\\\n Oranges\")"
   ]
  },
  {
   "cell_type": "markdown",
   "metadata": {},
   "source": [
    "Q 2: string_ex = “I love python because it is so easy to use it and also it is used by many other IT companies”\n",
    "I want you to split the above string on the separator “it”. \n",
    "How will you do it?\n"
   ]
  },
  {
   "cell_type": "code",
   "execution_count": 21,
   "metadata": {},
   "outputs": [
    {
     "name": "stdout",
     "output_type": "stream",
     "text": [
      "['I love python because ', ' is so easy to use ', ' and also ', ' is used by many other IT companies']\n"
     ]
    }
   ],
   "source": [
    "string_ex = \"I love python because it is so easy to use it and also it is used by many other IT companies\"\n",
    "x = string_ex.split(\"it\")\n",
    "print(x)"
   ]
  },
  {
   "cell_type": "markdown",
   "metadata": {},
   "source": [
    "Q 3 : str_ex = “I Love Pyton”\n",
    "How do you swap the cases of letters in the above input string?\n"
   ]
  },
  {
   "cell_type": "code",
   "execution_count": 41,
   "metadata": {},
   "outputs": [
    {
     "name": "stdout",
     "output_type": "stream",
     "text": [
      "i lOVE pYTHON\n"
     ]
    }
   ],
   "source": [
    "str_ex = \"I Love Python\"\n",
    "y = str_ex.swapcase()\n",
    "print(y)"
   ]
  },
  {
   "cell_type": "markdown",
   "metadata": {},
   "source": [
    "Q 4 : str_input = “Hey how are you doing. I am doing great”\n",
    "Get the first 10 characters and the last 10 characters of the above the string and join them with a \"_\"."
   ]
  },
  {
   "cell_type": "code",
   "execution_count": 33,
   "metadata": {},
   "outputs": [
    {
     "name": "stdout",
     "output_type": "stream",
     "text": [
      "Hey how aing great_\n"
     ]
    }
   ],
   "source": [
    "strinput = \"Hey how are you doing.I am doing great\"\n",
    "print(strinput[:9] + strinput[-9:] + \"_\")\n"
   ]
  },
  {
   "cell_type": "markdown",
   "metadata": {},
   "source": [
    "Q 5 : string1 = “Hotelspace” string2=”Facilities”\n",
    "I want you to swap the first three letters and last three letters of both the strings and print the output by separating them with a “@”"
   ]
  },
  {
   "cell_type": "code",
   "execution_count": 55,
   "metadata": {},
   "outputs": [
    {
     "name": "stdout",
     "output_type": "stream",
     "text": [
      "aceelspHot@iesilitFac\n"
     ]
    }
   ],
   "source": [
    "string1 = \"Hotelspace\" \n",
    "string2 = \"Facilities\"\n",
    "xx=list(string1)\n",
    "yy = string1[-3:] + string1[3:len(string1)-3] + string1[:3] \n",
    "zz= string2[-3:] + string2[3:len(string2)-3] + string2[:3]\n",
    "print(yy + \"@\" + zz)"
   ]
  },
  {
   "cell_type": "markdown",
   "metadata": {},
   "source": [
    "Question 6: strr = 'Hello World'\n",
    "How do you extract the string ‘Worl’ from the above string using negative index?\n"
   ]
  },
  {
   "cell_type": "code",
   "execution_count": 60,
   "metadata": {},
   "outputs": [
    {
     "name": "stdout",
     "output_type": "stream",
     "text": [
      "Worl\n"
     ]
    }
   ],
   "source": [
    "strr = 'Hello World'\n",
    "print(strr[-5:-1])"
   ]
  },
  {
   "cell_type": "markdown",
   "metadata": {},
   "source": [
    "Question 7: Reverse the string '5+6 * 3-45'. The output should be \"45-3*6+5\"."
   ]
  },
  {
   "cell_type": "code",
   "execution_count": 114,
   "metadata": {},
   "outputs": [
    {
     "name": "stdout",
     "output_type": "stream",
     "text": [
      "54-3*6+5\n"
     ]
    }
   ],
   "source": [
    "st=\"5+6*3-45\"\n",
    "\n",
    "print(st[::-1])"
   ]
  },
  {
   "cell_type": "code",
   "execution_count": 131,
   "metadata": {},
   "outputs": [
    {
     "name": "stdout",
     "output_type": "stream",
     "text": [
      "['57', '+', '6', '*', '3', '-', '45']\n"
     ]
    },
    {
     "data": {
      "text/plain": [
       "'45-3*6+57'"
      ]
     },
     "execution_count": 131,
     "metadata": {},
     "output_type": "execute_result"
    }
   ],
   "source": [
    "import re\n",
    "string1='57+6*3-45'\n",
    "list1=re.findall('[+-/*]|\\\\d+',string1)\n",
    "print(list1)\n",
    "output_string=list1[::-1]\n",
    "''.join(output_string)"
   ]
  },
  {
   "cell_type": "code",
   "execution_count": null,
   "metadata": {},
   "outputs": [],
   "source": []
  },
  {
   "cell_type": "markdown",
   "metadata": {},
   "source": [
    "Question 8\n",
    "str_s = “India is a great country with a lot of heritage”\n",
    "str_x = “South Africa is a great country with a lot of freedom”\n",
    "\n",
    "I want you to remove the common words appearing in the above strings and display the left- over words as one single string."
   ]
  },
  {
   "cell_type": "code",
   "execution_count": 78,
   "metadata": {},
   "outputs": [
    {
     "name": "stdout",
     "output_type": "stream",
     "text": [
      "India heritage South Africa freedom\n"
     ]
    }
   ],
   "source": [
    "str_s = 'India is a great country with a lot of heritage'\n",
    "str_x = 'South Africa is a great country with a lot of freedom'\n",
    "\n",
    "ab = str_s\n",
    "yy =(ab.split())\n",
    "d=str_s.split()\n",
    "e=str_x.split()\n",
    "f=''\n",
    "for item in yy:\n",
    "    ind = yy.count(item)\n",
    "    if item in e:\n",
    "            for x in range(ind):\n",
    "                d.remove(item)\n",
    "                e.remove(item)\n",
    "f =' '.join(d + e)    \n",
    "print(f)   \n"
   ]
  },
  {
   "cell_type": "markdown",
   "metadata": {},
   "source": []
  },
  {
   "cell_type": "code",
   "execution_count": 41,
   "metadata": {},
   "outputs": [],
   "source": [
    "str_s1 = 'India is a great country with a lot of heritage'\n",
    "str_x1 = 'South Africa is a great country with a lot of freedom'"
   ]
  },
  {
   "cell_type": "markdown",
   "metadata": {},
   "source": [
    "Question 9:\n",
    "variable1=”This is a test to check the unique characters in the string”\n",
    "I want you to identify all the unique characters in the above string and also mention the number of times these unique characters are repeated in the above string.\n",
    "    "
   ]
  },
  {
   "cell_type": "code",
   "execution_count": 57,
   "metadata": {},
   "outputs": [
    {
     "name": "stdout",
     "output_type": "stream",
     "text": [
      "Character : e ,Count :6\n",
      "Character : r ,Count :3\n",
      "Character : n ,Count :3\n",
      "Character : q ,Count :1\n",
      "Character : u ,Count :2\n",
      "Character : g ,Count :1\n",
      "Character : h ,Count :5\n",
      "Character : o ,Count :1\n",
      "Character : s ,Count :5\n",
      "Character : i ,Count :5\n",
      "Character : k ,Count :1\n",
      "Character : a ,Count :3\n",
      "Character : t ,Count :8\n",
      "Character : c ,Count :4\n",
      "{'e', 'r', 'n', 'q', 'u', 'g', 'h', 'o', 's', 'i', 'k', 'a', 't', 'c'}\n"
     ]
    }
   ],
   "source": [
    "variable1=\"This is a test to check the unique characters in the string\"\n",
    "\n",
    "v = variable1.lower()\n",
    "ff = list(v.replace(' ',''))\n",
    "b=set(ff)\n",
    "for item in b:\n",
    "    print(\"Character : \" + item + ' ,Count :'+ str(ff.count(item)))\n",
    "print(b)"
   ]
  },
  {
   "cell_type": "markdown",
   "metadata": {},
   "source": [
    "var3 = \"abcdefgh\" \n",
    "I want you to transform the above string to “a2c4e8g10”"
   ]
  },
  {
   "cell_type": "code",
   "execution_count": 81,
   "metadata": {},
   "outputs": [
    {
     "name": "stdout",
     "output_type": "stream",
     "text": [
      "a2c4e8g10\n",
      "a2c4e8g10\n"
     ]
    }
   ],
   "source": [
    "var3 = \"abcdefgh\"\n",
    "var4=var3.replace('b','2').replace('d','4').replace('f','8').replace('h','10')\n",
    "print(var4)\n",
    "\n",
    "#Solution 2: \n",
    "\n",
    "f=list(var3)\n",
    "f[1]='2'\n",
    "f[3]='4'\n",
    "f[5]='8'\n",
    "f[7]='10'\n",
    "print(''.join(f))\n"
   ]
  }
 ],
 "metadata": {
  "kernelspec": {
   "display_name": "Python 3",
   "language": "python",
   "name": "python3"
  },
  "language_info": {
   "codemirror_mode": {
    "name": "ipython",
    "version": 3
   },
   "file_extension": ".py",
   "mimetype": "text/x-python",
   "name": "python",
   "nbconvert_exporter": "python",
   "pygments_lexer": "ipython3",
   "version": "3.6.4"
  }
 },
 "nbformat": 4,
 "nbformat_minor": 2
}
