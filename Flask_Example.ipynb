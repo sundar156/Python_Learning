{
 "cells": [
  {
   "cell_type": "code",
   "execution_count": null,
   "metadata": {},
   "outputs": [
    {
     "name": "stderr",
     "output_type": "stream",
     "text": [
      " * Running on http://127.0.0.1:5000/ (Press CTRL+C to quit)\n"
     ]
    }
   ],
   "source": [
    "from flask import Flask\n",
    "app=Flask(__name__)\n",
    "\n",
    "@app.route('/hello')\n",
    "\n",
    "def hello_world():\n",
    "    return \"Hello World\"\n",
    "if __name__== '__main__':\n",
    "    app.run()"
   ]
  },
  {
   "cell_type": "code",
   "execution_count": 2,
   "metadata": {},
   "outputs": [
    {
     "name": "stderr",
     "output_type": "stream",
     "text": [
      " * Running on http://127.0.0.1:5000/ (Press CTRL+C to quit)\n",
      "127.0.0.1 - - [04/Mar/2019 16:31:26] \"GET /python/rev/3.2 HTTP/1.1\" 404 -\n",
      "127.0.0.1 - - [04/Mar/2019 16:31:28] \"GET / HTTP/1.1\" 404 -\n",
      "127.0.0.1 - - [04/Mar/2019 16:31:30] \"GET /integ HTTP/1.1\" 404 -\n",
      "127.0.0.1 - - [04/Mar/2019 16:31:31] \"GET /integ HTTP/1.1\" 404 -\n",
      "127.0.0.1 - - [04/Mar/2019 16:31:34] \"GET /integ/2 HTTP/1.1\" 200 -\n",
      "127.0.0.1 - - [04/Mar/2019 16:31:35] \"GET /integ/09 HTTP/1.1\" 200 -\n",
      "127.0.0.1 - - [04/Mar/2019 16:31:36] \"GET /favicon.ico HTTP/1.1\" 404 -\n"
     ]
    }
   ],
   "source": [
    "from flask import Flask\n",
    "app=Flask(__name__)\n",
    "@app.route('/integ/<int:posId>')\n",
    "def hello_python(posId):\n",
    "    return 'Blog Number %d'% posId\n",
    "\n",
    "if __name__== '__main__':\n",
    "    app.run()"
   ]
  },
  {
   "cell_type": "code",
   "execution_count": 1,
   "metadata": {},
   "outputs": [
    {
     "name": "stderr",
     "output_type": "stream",
     "text": [
      " * Running on http://127.0.0.1:5000/ (Press CTRL+C to quit)\n",
      "127.0.0.1 - - [04/Mar/2019 16:31:08] \"GET /python/rev/3.2 HTTP/1.1\" 200 -\n",
      "127.0.0.1 - - [04/Mar/2019 16:31:13] \"GET /python/rev/3.29 HTTP/1.1\" 200 -\n",
      "127.0.0.1 - - [04/Mar/2019 16:31:13] \"GET /favicon.ico HTTP/1.1\" 404 -\n"
     ]
    }
   ],
   "source": [
    "from flask import Flask\n",
    "app=Flask(__name__)\n",
    "@app.route('/python/rev/<float:posId2>')\n",
    "def hello_python(posId2):\n",
    "    return 'Blog Number %f'% posId2\n",
    "\n",
    "if __name__== '__main__':\n",
    "    app.run()"
   ]
  },
  {
   "cell_type": "markdown",
   "metadata": {},
   "source": [
    "# URL building"
   ]
  },
  {
   "cell_type": "code",
   "execution_count": null,
   "metadata": {},
   "outputs": [],
   "source": [
    "from flask import Flask,redirect,url_for\n",
    "app=Flask(__name__)\n",
    "\n",
    "@app.route('/admin')\n",
    "def hello_admin():\n",
    "    return 'Welcome Admin'\n",
    "\n",
    "@app.route('/quest/<quest>')\n",
    "def hello_quest(quest):\n",
    "    return 'Welcome %s'% quest\n",
    "\n",
    "@app.route('/user/<name>')\n",
    "\n",
    "def hello_user(name):\n",
    "    if name=='admin':\n",
    "        return redirect(url_for('hello_admin'))\n",
    "    else:\n",
    "        return redirect(url_for('hello_quest',quest = name))\n",
    "\n",
    "\n",
    "if __name__== '__main__':\n",
    "    app.run()"
   ]
  },
  {
   "cell_type": "code",
   "execution_count": null,
   "metadata": {},
   "outputs": [
    {
     "name": "stderr",
     "output_type": "stream",
     "text": [
      " * Running on http://127.0.0.1:5000/ (Press CTRL+C to quit)\n"
     ]
    }
   ],
   "source": [
    "from flask import Flask, redirect, url_for, request\n",
    "app = Flask(__name__)\n",
    "\n",
    "@app.route('/success/<name>')\n",
    "def success_method(name):\n",
    "   return 'Welcome to Flask %s' % name\n",
    "\n",
    "@app.route('/login',methods = ['GET'])\n",
    "def login():\n",
    "   if request.method == 'POST':\n",
    "      user = request.form['nm']\n",
    "      return redirect(url_for('success_method',name = user))\n",
    "   else:\n",
    "      user = request.args.get('nm')\n",
    "      return redirect(url_for('success_method',name = user))\n",
    "\n",
    "if __name__ == '__main__':\n",
    "   app.run()"
   ]
  },
  {
   "cell_type": "code",
   "execution_count": null,
   "metadata": {},
   "outputs": [],
   "source": []
  }
 ],
 "metadata": {
  "kernelspec": {
   "display_name": "Python 3",
   "language": "python",
   "name": "python3"
  },
  "language_info": {
   "codemirror_mode": {
    "name": "ipython",
    "version": 3
   },
   "file_extension": ".py",
   "mimetype": "text/x-python",
   "name": "python",
   "nbconvert_exporter": "python",
   "pygments_lexer": "ipython3",
   "version": "3.6.4"
  }
 },
 "nbformat": 4,
 "nbformat_minor": 2
}
