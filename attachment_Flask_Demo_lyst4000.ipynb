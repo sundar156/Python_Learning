{
 "cells": [
  {
   "cell_type": "code",
   "execution_count": 14,
   "metadata": {},
   "outputs": [
    {
     "name": "stdout",
     "output_type": "stream",
     "text": [
      "Hello World\n"
     ]
    }
   ],
   "source": [
    "print (\"Hello World\")"
   ]
  },
  {
   "cell_type": "markdown",
   "metadata": {},
   "source": [
    "# Introduction to Flask"
   ]
  },
  {
   "cell_type": "code",
   "execution_count": 16,
   "metadata": {
    "scrolled": true
   },
   "outputs": [
    {
     "name": "stderr",
     "output_type": "stream",
     "text": [
      " * Running on http://127.0.0.1:5000/ (Press CTRL+C to quit)\n",
      "127.0.0.1 - - [21/Feb/2019 19:34:44] \"\u001b[33mGET /hello HTTP/1.1\u001b[0m\" 404 -\n",
      "127.0.0.1 - - [21/Feb/2019 19:35:00] \"\u001b[37mGET / HTTP/1.1\u001b[0m\" 200 -\n"
     ]
    }
   ],
   "source": [
    "from flask import Flask\n",
    "app = Flask(__name__)\n",
    "\n",
    "@app.route('/')\n",
    "def hello_world():\n",
    "   return \"Hello World\"\n",
    "\n",
    "if __name__ == '__main__':\n",
    "    app.run()"
   ]
  },
  {
   "cell_type": "markdown",
   "metadata": {},
   "source": [
    "Importing flask module in the project is mandatory. An object of Flask class is our WSGI application.\n",
    "\n",
    "Flask constructor takes the name of current module (__name__) as argument."
   ]
  },
  {
   "cell_type": "markdown",
   "metadata": {},
   "source": [
    "The route() function of the Flask class is a decorator, which tells the application which URL should call the associated function."
   ]
  },
  {
   "cell_type": "markdown",
   "metadata": {},
   "source": [
    "The rule parameter represents URL binding with the function.\n",
    "\n",
    "The options is a list of parameters to be forwarded to the underlying Rule object.\n",
    "\n",
    "In the above example, ‘/hello’ URL is bound with hello_world() function. Hence, when the home page of web server is opened in browser, the output of this function will be rendered.\n",
    "\n",
    "Finally the run() method of Flask class runs the application on the local development server."
   ]
  },
  {
   "cell_type": "code",
   "execution_count": null,
   "metadata": {},
   "outputs": [],
   "source": [
    "from flask import Flask\n",
    "app = Flask(__name__)\n",
    "\n",
    "@app.route('/hello/<name>')\n",
    "def hello_name(name):\n",
    "   return \"Hello %s!\" % name\n",
    "\n",
    "if __name__ == '__main__':\n",
    "   app.run()"
   ]
  },
  {
   "cell_type": "markdown",
   "metadata": {},
   "source": [
    "# Variable Rules"
   ]
  },
  {
   "cell_type": "code",
   "execution_count": 2,
   "metadata": {},
   "outputs": [
    {
     "name": "stderr",
     "output_type": "stream",
     "text": [
      " * Running on http://127.0.0.1:5000/ (Press CTRL+C to quit)\n",
      "127.0.0.1 - - [21/Feb/2019 19:42:13] \"\u001b[37mGET /blog/21 HTTP/1.1\u001b[0m\" 200 -\n",
      "127.0.0.1 - - [21/Feb/2019 19:42:26] \"\u001b[33mGET /blog/ HTTP/1.1\u001b[0m\" 404 -\n",
      "127.0.0.1 - - [21/Feb/2019 19:42:44] \"\u001b[37mGET /blog/26 HTTP/1.1\u001b[0m\" 200 -\n",
      "127.0.0.1 - - [21/Feb/2019 19:43:07] \"\u001b[33mGET /blog/26.5 HTTP/1.1\u001b[0m\" 404 -\n",
      "127.0.0.1 - - [21/Feb/2019 19:43:34] \"\u001b[37mGET /rev/13.5 HTTP/1.1\u001b[0m\" 200 -\n",
      "127.0.0.1 - - [21/Feb/2019 19:43:46] \"\u001b[37mGET /rev/13.578990 HTTP/1.1\u001b[0m\" 200 -\n",
      "127.0.0.1 - - [21/Feb/2019 19:43:51] \"\u001b[37mGET /rev/13.57899 HTTP/1.1\u001b[0m\" 200 -\n",
      "127.0.0.1 - - [21/Feb/2019 19:44:18] \"\u001b[33mGET /rev/13 HTTP/1.1\u001b[0m\" 404 -\n"
     ]
    }
   ],
   "source": [
    "from flask import Flask\n",
    "app = Flask(__name__)\n",
    "\n",
    "@app.route('/blog/<int:postID>')\n",
    "def show_blog(postID):\n",
    "   return \"Blog Number %d\" % postID\n",
    "\n",
    "@app.route('/rev/<float:revNo>')\n",
    "def revision(revNo):\n",
    "   return \"Revision Number %f\" % revNo\n",
    "\n",
    "if __name__ == '__main__':\n",
    "   app.run()"
   ]
  },
  {
   "cell_type": "code",
   "execution_count": 1,
   "metadata": {},
   "outputs": [
    {
     "name": "stderr",
     "output_type": "stream",
     "text": [
      " * Running on http://127.0.0.1:5000/ (Press CTRL+C to quit)\n",
      "127.0.0.1 - - [21/Feb/2019 19:39:39] \"\u001b[37mGET /sai HTTP/1.1\u001b[0m\" 200 -\n"
     ]
    }
   ],
   "source": [
    "from flask import Flask\n",
    "app = Flask(__name__)\n",
    "\n",
    "@app.route('/flask')\n",
    "def hello_flask():\n",
    "   return 'Hello Flask'\n",
    "\n",
    "@app.route('/python/')\n",
    "def hello_python():\n",
    "   return 'Hello Python'\n",
    "\n",
    "@app.route('/sai')\n",
    "def hello_sai():\n",
    "    return 'Hello Sai'\n",
    "\n",
    "if __name__ == '__main__':\n",
    "   app.run()"
   ]
  },
  {
   "cell_type": "markdown",
   "metadata": {},
   "source": [
    "# URL Building"
   ]
  },
  {
   "cell_type": "code",
   "execution_count": 3,
   "metadata": {},
   "outputs": [
    {
     "name": "stderr",
     "output_type": "stream",
     "text": [
      " * Running on http://127.0.0.1:5000/ (Press CTRL+C to quit)\n",
      "127.0.0.1 - - [21/Feb/2019 19:56:00] \"\u001b[37mGET /admin HTTP/1.1\u001b[0m\" 200 -\n",
      "127.0.0.1 - - [21/Feb/2019 19:56:06] \"\u001b[33mGET /guest HTTP/1.1\u001b[0m\" 404 -\n",
      "127.0.0.1 - - [21/Feb/2019 19:56:18] \"\u001b[37mGET /guest/sai HTTP/1.1\u001b[0m\" 200 -\n",
      "127.0.0.1 - - [21/Feb/2019 19:57:07] \"\u001b[32mGET /user/sai HTTP/1.1\u001b[0m\" 302 -\n",
      "127.0.0.1 - - [21/Feb/2019 19:57:07] \"\u001b[37mGET /guest/sai HTTP/1.1\u001b[0m\" 200 -\n",
      "127.0.0.1 - - [21/Feb/2019 19:57:45] \"\u001b[37mGET /guest/admin HTTP/1.1\u001b[0m\" 200 -\n",
      "127.0.0.1 - - [21/Feb/2019 19:58:02] \"\u001b[32mGET /user/admin HTTP/1.1\u001b[0m\" 302 -\n",
      "127.0.0.1 - - [21/Feb/2019 19:58:02] \"\u001b[37mGET /admin HTTP/1.1\u001b[0m\" 200 -\n",
      "127.0.0.1 - - [21/Feb/2019 19:58:23] \"\u001b[32mGET /user/sai HTTP/1.1\u001b[0m\" 302 -\n",
      "127.0.0.1 - - [21/Feb/2019 19:58:23] \"\u001b[37mGET /guest/sai HTTP/1.1\u001b[0m\" 200 -\n"
     ]
    }
   ],
   "source": [
    "from flask import Flask, redirect, url_for\n",
    "app = Flask(__name__)\n",
    "\n",
    "@app.route('/admin')\n",
    "def hello_admin():\n",
    "   return 'Hello Admin'\n",
    "\n",
    "@app.route('/guest/<guest>')\n",
    "def hello_guest(guest):\n",
    "   return 'Hello %s as Guest' % guest\n",
    "\n",
    "@app.route('/user/<name>')\n",
    "def hello_user(name):\n",
    "   if name =='admin':\n",
    "      return redirect(url_for('hello_admin'))\n",
    "   else:\n",
    "      return redirect(url_for('hello_guest',guest = name))\n",
    "\n",
    "if __name__ == '__main__':\n",
    "   app.run()"
   ]
  },
  {
   "cell_type": "markdown",
   "metadata": {},
   "source": [
    "# HTTP Demo"
   ]
  },
  {
   "cell_type": "code",
   "execution_count": null,
   "metadata": {},
   "outputs": [
    {
     "name": "stderr",
     "output_type": "stream",
     "text": [
      " * Running on http://127.0.0.1:5000/ (Press CTRL+C to quit)\n",
      "127.0.0.1 - - [21/Feb/2019 20:14:13] \"\u001b[32mGET /login?nm=Boggeey HTTP/1.1\u001b[0m\" 302 -\n",
      "127.0.0.1 - - [21/Feb/2019 20:14:13] \"\u001b[37mGET /success/Boggeey HTTP/1.1\u001b[0m\" 200 -\n",
      "127.0.0.1 - - [21/Feb/2019 20:17:10] \"\u001b[32mGET /login?nm=2300 HTTP/1.1\u001b[0m\" 302 -\n",
      "127.0.0.1 - - [21/Feb/2019 20:17:10] \"\u001b[37mGET /success/2300 HTTP/1.1\u001b[0m\" 200 -\n"
     ]
    }
   ],
   "source": [
    "from flask import Flask, redirect, url_for, request\n",
    "app = Flask(__name__)\n",
    "\n",
    "@app.route('/success/<name>')\n",
    "def success_method(name):\n",
    "   return 'Welcome to Flask %s' % name\n",
    "\n",
    "@app.route('/login',methods = ['GET'])\n",
    "def login():\n",
    "   if request.method == 'POST':\n",
    "      user = request.form['nm']\n",
    "      return redirect(url_for('success_method',name = user))\n",
    "   else:\n",
    "      user = request.args.get('nm')\n",
    "      return redirect(url_for('success_method',name = user))\n",
    "\n",
    "if __name__ == '__main__':\n",
    "   app.run()"
   ]
  },
  {
   "cell_type": "markdown",
   "metadata": {},
   "source": [
    "Here, args is dictionary object containing a list of pairs of form parameter and its corresponding value. The value corresponding to ‘nm’ parameter is passed on to ‘/success’ URL as before."
   ]
  },
  {
   "cell_type": "code",
   "execution_count": null,
   "metadata": {},
   "outputs": [],
   "source": []
  }
 ],
 "metadata": {
  "kernelspec": {
   "display_name": "Python 3",
   "language": "python",
   "name": "python3"
  },
  "language_info": {
   "codemirror_mode": {
    "name": "ipython",
    "version": 3
   },
   "file_extension": ".py",
   "mimetype": "text/x-python",
   "name": "python",
   "nbconvert_exporter": "python",
   "pygments_lexer": "ipython3",
   "version": "3.6.4"
  }
 },
 "nbformat": 4,
 "nbformat_minor": 2
}
