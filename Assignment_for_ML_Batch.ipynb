{
 "cells": [
  {
   "cell_type": "markdown",
   "metadata": {},
   "source": [
    "Assignment for ML Batch"
   ]
  },
  {
   "cell_type": "markdown",
   "metadata": {},
   "source": [
    "1)Which of the below represents a 'Regression' problem? [EASY] [Algebra]\n",
    "\n",
    "a)Predicting whether an email is SPAM or not\n",
    "b)Predicting whether a loan request is going to get approved or not \n",
    "c)Predicting the amount of time by which a flight is getting delayed\n",
    "d)Predict the trending topic based on social media activity\n",
    "\n",
    "Ans: c)"
   ]
  },
  {
   "cell_type": "markdown",
   "metadata": {},
   "source": [
    "2)Can you identify the 'Unsupervised Learning' problem from the below? [EASY] [Algebra]\n",
    "\n",
    "a)From the user usage patterns on a website, figure out what different groups of users exist. \n",
    "b)Given many emails, you want to determine if they are spam or non-spam emails.\n",
    "c)Given historical data, predicting the future stock price of a company\n",
    "d)Given historical weather records, predict if tomorrow’s climate is going to be sunny or rainy.\n",
    "\n",
    "Ans:a)\n",
    "    "
   ]
  },
  {
   "cell_type": "markdown",
   "metadata": {},
   "source": [
    "3)Suppose you want to perform Min-Max normalization to the below dataset. How will the dataset look like after applying the transformation? [HARD] [Algebra] [Equations]\n",
    "X : [5,9,2,6]\n",
    "\n",
    "   Xi,0 to 1=Xi-X min\n",
    "            -------------\n",
    "            X max - X min\n",
    "        \n",
    "a) [0,1,1,0]\n",
    "b) [0.43,1,0,0.57]\n",
    "c) [0.17,0.29,0.43,0.38] \n",
    "d)[4,9,2,4]\n",
    "\n",
    "Ans: b) [0.43,1,0,0.57]"
   ]
  },
  {
   "cell_type": "markdown",
   "metadata": {},
   "source": [
    "4)Which of the below features (columns) is least important for predicting whether someone is going to get promotion or not? [Medium] [Statistics] [Central Tendency]\n",
    "\n",
    "a)Gender\n",
    "b)Work Experience c)Age\n",
    "d)Salary\n",
    "Ans:  a)Gender"
   ]
  },
  {
   "cell_type": "markdown",
   "metadata": {},
   "source": [
    "5)Below is a confusion matrix that evaluates the classifications done by a Logistic Regression model. Can you calculate the accuracy of the model? [Medium] [Algebra] [Matrices]\n",
    "\n",
    "a.99.09% \n",
    "b.57.14% \n",
    "c.63.63% \n",
    "d.90.90%\n",
    "\n",
    "Ans: d.90.90%"
   ]
  },
  {
   "cell_type": "markdown",
   "metadata": {},
   "source": [
    "6)Below is a confusion matrix that evaluates the classifications done by a Logistic Regression model. \n",
    "  Can you calculate the misclassification rate of the model? [Easy] [Algebra] [Matrices]\n",
    "a)90.90% b)57.14% c)9.09% d)63.63%\n",
    "Ans:  c)9.09%"
   ]
  },
  {
   "cell_type": "markdown",
   "metadata": {},
   "source": [
    "7)Below is a confusion matrix that evaluates the classifications done by a Logistic Regression model. When it's actually no, how often does the model predict no(Specificity)?\n",
    "\n",
    "a)90.90% b)57.14% c)9.09% d)83.33%\n",
    "\n",
    "Ans: d)83.33%"
   ]
  },
  {
   "cell_type": "markdown",
   "metadata": {},
   "source": [
    "8) A decision tree model was used to predict whether a loan request is going to get approved or rejected. In the below 'Confusion Matrix', when the loan request was actually approved, how often is the prediction correct(Recall)? \n",
    "\n",
    "a)21.50% b)40% c)60% d)78.50%\n",
    "Ans : b)40%"
   ]
  },
  {
   "cell_type": "markdown",
   "metadata": {},
   "source": [
    "9)Jaccard Similarity is a measure that quantifies how similar two vectors are. In the below dataset, \n",
    "can you calculate the similarity between the ratings given by persons A and B : sim(A,B)?"
   ]
  },
  {
   "cell_type": "markdown",
   "metadata": {},
   "source": [
    "10).Consider the ratings given by 4 people for some of the most popular movies of all-time. Which of the below options represents the relationship between similar users?\n",
    "a.SIM(A,B) > SIM(A,C) \n",
    "b.SIM(A,C) < SIM(A,B) \n",
    "c.SIM(A,B) = SIM(A,C)"
   ]
  },
  {
   "cell_type": "markdown",
   "metadata": {},
   "source": [
    "11)Distance from the point (-3,-4) to the line 5x+6y-10 is\n",
    "a.7.5 \n",
    "b.8.3 \n",
    "c.2.5 \n",
    "d.6.2"
   ]
  },
  {
   "cell_type": "markdown",
   "metadata": {},
   "source": [
    "12)What is the euclidean distance between two points (4,5) and (5,6)?\n",
    "a.1.414 \n",
    "b.2.828 \n",
    "c.1.732 \n",
    "d.3.456"
   ]
  },
  {
   "cell_type": "markdown",
   "metadata": {},
   "source": [
    "13)Which of the below distance measures was used to determine the distance between points (13,5,8) and (11,2,1) as 7 units? \n",
    "\n",
    "a.Euclidean Distance \n",
    "b.Manhattan Distance \n",
    "c.Chebyshev Distance \n",
    "d.None of the above\n"
   ]
  },
  {
   "cell_type": "markdown",
   "metadata": {},
   "source": [
    "14)Mr.Divakar has two children. If the older child is a boy, what are the odds that the other child is also a boy?\n",
    "a.1:2 \n",
    "b.2:1 \n",
    "c.1:1 \n",
    "d.0.5:0.75\n",
    "\n",
    "Ans: 2:1"
   ]
  },
  {
   "cell_type": "markdown",
   "metadata": {},
   "source": [
    "15)Divakar received a total of 1500 emails, 950 emails are genuine and rest are spam. What is the probability of a spam email appearing in Divakar's account?\n",
    "\n",
    "a.0.63 \n",
    "b.0.37 \n",
    "c.0.5 \n",
    "d.0.49\n",
    "\n",
    "Ans: b.)0.37 "
   ]
  },
  {
   "cell_type": "markdown",
   "metadata": {},
   "source": [
    "16)Below is a breakdown of the emails received by Divakar. What is the joint probability of word 'Jackpot' appearing in spam emails?\n",
    "a.13% \n",
    "b.14%\n",
    "c.27% \n",
    "d.15%\n",
    "\n",
    "Ans: 13%\n"
   ]
  },
  {
   "cell_type": "markdown",
   "metadata": {},
   "source": [
    "17)What is the probability that an email is spam given that it contains the word 'Jackpot'? Below is a breakdown of the emails. \n",
    "\n",
    "a.0.52 b.0.48 c.0.36 d.0.24\n",
    "\n",
    "Ans: b)0.48 "
   ]
  },
  {
   "cell_type": "markdown",
   "metadata": {},
   "source": [
    "18)There are 4 aces in a deck of cards. There are 52 outcomes in a deck of cards. There are 13 spades in a deck of cards. What is the probability of drawing an ace, replacing it and then drawing a spade? \n",
    "\n",
    "a.13/52 \n",
    "b.4/52\n",
    "c.17/52\n",
    "d.1/52\n",
    "Ans: c)17/52\n"
   ]
  },
  {
   "cell_type": "markdown",
   "metadata": {},
   "source": [
    "19)Identify the 'K' value(the question mark value) from the below equation. A and 'v' are matrices. \n",
    "a.4 b.6 c.8 d.2"
   ]
  },
  {
   "cell_type": "markdown",
   "metadata": {},
   "source": [
    "20)What are the values of a,b,c,d from the below equation?\n",
    "\n",
    "a. a=5, b=4, c=3, d=5 \n",
    "b.a=4,b=5,c=5,d=3 \n",
    "c.a=3,b=4,c=5,d=5 \n",
    "d.a=5,b=3,c=4,d=5"
   ]
  }
 ],
 "metadata": {
  "kernelspec": {
   "display_name": "Python 3",
   "language": "python",
   "name": "python3"
  },
  "language_info": {
   "codemirror_mode": {
    "name": "ipython",
    "version": 3
   },
   "file_extension": ".py",
   "mimetype": "text/x-python",
   "name": "python",
   "nbconvert_exporter": "python",
   "pygments_lexer": "ipython3",
   "version": "3.6.4"
  }
 },
 "nbformat": 4,
 "nbformat_minor": 2
}
