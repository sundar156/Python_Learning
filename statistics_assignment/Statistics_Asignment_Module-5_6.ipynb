{
 "cells": [
  {
   "cell_type": "code",
   "execution_count": 1,
   "metadata": {},
   "outputs": [],
   "source": [
    "#Statistics Asignment --Self-Assessment (Session 5 & 6)"
   ]
  },
  {
   "cell_type": "markdown",
   "metadata": {},
   "source": [
    "Question 1) \n",
    "'''1.For a normal distribution, both the median and mean happen to be 75.\n",
    "Can you guess approximately what will be the value of the mode?\n",
    "a)150\n",
    "b)0\n",
    "c)75 '''\n",
    "\n",
    "#Ans: c)75"
   ]
  },
  {
   "cell_type": "markdown",
   "metadata": {},
   "source": [
    "Question 2 : #Which of the below distributions have the highest Inter-Quartile Range?\n",
    "\n",
    "#Ans: c)3"
   ]
  },
  {
   "cell_type": "markdown",
   "metadata": {},
   "source": [
    "Question - 3 )\n",
    "You are a Data Scientist working with FlipKart. The Category Manager who is tasked with increasing the sales of Sports\n",
    "Merchandise on the site comes up to you and asks\n",
    "“How are the sales of Sports Merchandise doing this year? Are we better off this year than in the past?”\n",
    "  \n",
    "You have the yearly data of the Sports Merchandise sales for the last decade. You also have monthly data for the six months lapsed this year. This is the only data at your disposal. \n",
    "Which of the below measures will you generate to support your response?\n",
    "\n",
    "**\n",
    "\n",
    "a)Kurtosis\n",
    "b)Sample Variance\n",
    "c)Mean/Median/Mode\n",
    "d)Z-score\n",
    "\n",
    "**\n",
    "\n",
    "my Ans : b) Sample Variance\n",
    "\n",
    "Actual Ans: c) Mean/Median /Mode"
   ]
  },
  {
   "cell_type": "markdown",
   "metadata": {},
   "source": [
    "Q 4)\n",
    "As a Data Scientist, you are always intrigued by how well you are paid compared with the rest of the folks in \n",
    "other departments within your organization. You somehow got access to an excel that lists out all the monthly \n",
    "salaries of individuals (9500 employees). You quickly calculated the mean and S.D as 65,000/- and 15,000/-. \n",
    "Your salary is 71,000/- What would be your rank in the organization when it comes to salary payout?\n",
    "\n",
    "a)3325 \n",
    "b)5675 \n",
    "c)4325 \n",
    "d)9500\n",
    " use the z-score :\n",
    " = (71000-65000)/15000 = 6/15 =0.4 \n",
    " from z table . 0.4 resolves to 65.54 (round off to 65%) so the salary is in top 35%.\n",
    " which is (9500/100)*35 = 3325\n",
    " \n",
    "Ans : a) 3325 -> Rank"
   ]
  },
  {
   "cell_type": "markdown",
   "metadata": {},
   "source": [
    "Ques 5)\n",
    "5.Your company is gearing up to organize its annual conference this year. They came to you and asked for an estimate of the approximate number of attendees for this year’s conference so that they can prepare better with the logistics. They gave you the below data. Which number will you quote them as the possible number of attendees for this year’s conference?\n",
    "Conference Year\n",
    " \n",
    " Total number of Attendees\n",
    " **\n",
    "2008 900\n",
    "2009 365\n",
    "2010 900\n",
    "2011 610\n",
    "2012 930\n",
    "2013 340\n",
    "2014 610\n",
    "2015 900\n",
    "2016 714\n",
    " **\n",
    " a)700 \n",
    " b)718 \n",
    " c)900\n",
    " Ans:  I will take the mode here based on the problem statement \n",
    " i.e c) 900"
   ]
  },
  {
   "cell_type": "markdown",
   "metadata": {},
   "source": [
    "Question : 6) \n",
    "\n",
    "You are trying to estimate on an average, how many movies does a Data Scientist watch in a year. Since you do not know how many Data Scientists are there in the entire world and the movies-watched data of all these people, you decide to make-do with enquiring your fellow batch mates. You ask 10 of your batch mates the number of movies they watch in a year.\n",
    "\n",
    "Below is the data: Student\n",
    "**\n",
    "No.of Movies watched in a year\n",
    "Ram 12\n",
    "Shreya 17\n",
    "Midhun 8\n",
    "Frank 13\n",
    "Robert 4\n",
    "Pulkit 9\n",
    "Avinash 7\n",
    "Nidhi 11\n",
    "Mrinal 15\n",
    "Nataraj 6\n",
    "\n",
    "What is the sample variance? a)15\n",
    "b)17\n",
    "c)13\n",
    "d)19\n",
    "\n",
    "Ans:\n",
    "(4+6+7+8+9+11+12+13+15+17)/10 =10.2  (mean)\n",
    "Variance = (datapoint - mean) + ( next datapoint - mean) ...( n data point - mean)/ no.of data points -1 (we get better results if we divide my n-1 instead of n here,\n",
    "so\n",
    "(4-10.2)^2 + (6-10.2)^2 + (7-10.2)^2 +(8-10.2)^2 + (9-10.2)^2 + (11-10.2)^2 + (12 -10.2)^2 + (13-10.2)^2 ...*(17-10.2)^2)/9 \n",
    "=17.06 ( round off to 17)\n",
    "\n",
    "Ans : b )17\n",
    "\n",
    "\n"
   ]
  },
  {
   "cell_type": "markdown",
   "metadata": {},
   "source": [
    "Question 7:\n",
    " A Sales Manager is trying to understand the average size of the deals that his Sales Reps are closing every year. He came up to you and presented the below data. You saw the data and it represented a bell curve. You performed a quick calculation and said “Your sales reps on an average sell somewhere between $282,403 and $419,928.” How confident were you in quoting that range?\n",
    "Year\n",
    "\n",
    "Total Deals Closed ($)\n",
    "\n",
    "**\n",
    "\n",
    "2010 359000\n",
    "2011 321230\n",
    "2012 290090\n",
    "2013 343210\n",
    "2014 383450\n",
    "2015 361230\n",
    "2016 399950\n",
    "\n",
    "**\n",
    "\n",
    "a) 75% \n",
    "b) 68% \n",
    "c) 95% \n",
    "d) 99%\n",
    "\n",
    "mean = 351165\n",
    "\n",
    "c) 99%  -> In a normal distribution,the range lies between the 2 extremes.\n",
    "Actual ans: 95%\n",
    "*** *******"
   ]
  },
  {
   "cell_type": "markdown",
   "metadata": {},
   "source": [
    "Ques 9:\n",
    "    You are working on fine-tuning several models to predict the adoption rate of the ‘Chat bot’ feature in your product. 3 of the models are powered by the Random Forest algorithm, 2 of them are based on Clustering, 5 of them are using Decision tree algorithm. When you tell the Product Manager that you need more time to decide upon a model, he asks you “What are the chances of the Random Forest algorithm successfully predicting the adoption rate?” Your immediate response would be:\n",
    "\n",
    "  a)50% b) 300% c)40% d)30%\n",
    "\n",
    "\n",
    "I give equal weightage to each algo  i.e 3 * (Random forest) + 2*(Clsutering) + 5 (Dec tr)\n",
    "so (30 + 20 + 50)/3+2+5 =10. \n",
    "\n",
    "** This is probability = 3/10 = 30%\n",
    "\n",
    "\n",
    "Ans d) 30\n"
   ]
  },
  {
   "cell_type": "markdown",
   "metadata": {},
   "source": [
    "Ques 8)\n",
    "\n",
    "You are working as a Data Scientist at BlueStone.com. When the CEO asks you “Can you mine the data and tell me something interesting?”, you get all excited. You collect data about all the purchases made by all the customers on Bluestone.com. You plot a normal distribution curve like the one below and tell the CEO “We need to focus our marketing efforts to the people who made transactions in the highlighted region as they constitute the bulk of the revenue”. CEO shakes his head and says, ‘Nah..I need to target the people\n",
    "in the regions(tails) outside the highlighted area to grow the business’. Which measure did you overlook and was understood by the CEO?\n",
    " \n",
    "\n",
    "a)Skewness \n",
    "b)Kurtosis \n",
    "c)Sample Variance \n",
    "d)Mean\n",
    " \n",
    "b) kurtosis.\n",
    "\n",
    "**>"
   ]
  },
  {
   "cell_type": "markdown",
   "metadata": {},
   "source": [
    "Ques 10). From the below graph, what is the approximate average height of people(in feet) \n",
    "who weigh below 40 kgs?\n",
    "\n",
    "Answer: d)2.4 --> taken the mean "
   ]
  }
 ],
 "metadata": {
  "kernelspec": {
   "display_name": "Python 3",
   "language": "python",
   "name": "python3"
  },
  "language_info": {
   "codemirror_mode": {
    "name": "ipython",
    "version": 3
   },
   "file_extension": ".py",
   "mimetype": "text/x-python",
   "name": "python",
   "nbconvert_exporter": "python",
   "pygments_lexer": "ipython3",
   "version": "3.6.4"
  }
 },
 "nbformat": 4,
 "nbformat_minor": 2
}
