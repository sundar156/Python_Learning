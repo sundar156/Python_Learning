{
 "cells": [
  {
   "cell_type": "markdown",
   "metadata": {},
   "source": [
    "# Gender Classification using Decision Tree:"
   ]
  },
  {
   "cell_type": "code",
   "execution_count": 29,
   "metadata": {},
   "outputs": [
    {
     "name": "stdout",
     "output_type": "stream",
     "text": [
      "['female']\n"
     ]
    }
   ],
   "source": [
    "from sklearn import tree\n",
    "\n",
    "classifier = tree.DecisionTreeClassifier()\n",
    "\n",
    "#x=# [height, weight, shoe_size]\n",
    "\n",
    "x=[[181,80,44],[177,70,43],[160,60,38],[154,54,37],[166,65,40],[190,90,47],\n",
    "   [175,64,39],[177,70,40],[155,55,37],[171,75,42],[181,85,43]]\n",
    "\n",
    "y= ['male','male','female','female','male','male','female','female','female','male','male']\n",
    "\n",
    "# Train the model with the data\n",
    "clf  = classifier.fit(x,y)\n",
    "\n",
    "#inout new data\n",
    "prediction = clf.predict([[170, 5, 37]])\n",
    "\n",
    "#print result\n",
    "print(prediction)\n"
   ]
  }
 ],
 "metadata": {
  "kernelspec": {
   "display_name": "Python 3",
   "language": "python",
   "name": "python3"
  },
  "language_info": {
   "codemirror_mode": {
    "name": "ipython",
    "version": 3
   },
   "file_extension": ".py",
   "mimetype": "text/x-python",
   "name": "python",
   "nbconvert_exporter": "python",
   "pygments_lexer": "ipython3",
   "version": "3.6.4"
  }
 },
 "nbformat": 4,
 "nbformat_minor": 2
}
