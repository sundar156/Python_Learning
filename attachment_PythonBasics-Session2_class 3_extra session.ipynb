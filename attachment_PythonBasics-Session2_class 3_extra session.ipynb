{
 "cells": [
  {
   "cell_type": "markdown",
   "metadata": {},
   "source": [
    "<img src=\"https://shwetkm.github.io/upxlogo.png\"></img>\n",
    "\n",
    "# Python Basics - Data Science Foundation\n",
    "\n",
    "**SET THE WORKING DIRECTORY SO THAT WE DO NOT HAVE TO THINK ABOUT PATH PROBLEMS**\n",
    "\n",
    "Please ensure all your folder names <font color='red'><b>do not have a space & use forward slash (/)</b></font>"
   ]
  },
  {
   "cell_type": "code",
   "execution_count": 43,
   "metadata": {
    "collapsed": true
   },
   "outputs": [],
   "source": [
    "your_local_path=\"C:/Users/tejks/Desktop/ML/practice/\""
   ]
  },
  {
   "cell_type": "markdown",
   "metadata": {},
   "source": [
    "**How to search different functions within a package**"
   ]
  },
  {
   "cell_type": "code",
   "execution_count": 2,
   "metadata": {
    "collapsed": true
   },
   "outputs": [],
   "source": [
    "import numpy as np\n",
    "#np.mean*?\n",
    "np.*?"
   ]
  },
  {
   "cell_type": "markdown",
   "metadata": {},
   "source": [
    "Tab is a very handy feature in Python. It gives you a list of all the functions and commands that are associated with a package (such as NumPy). For example, if you type np. and then press tab, a dropdown will come up with the list of all the functions associate with np. By using this, you do not have to rememeber the functions specifics and can just use tab completion."
   ]
  },
  {
   "cell_type": "markdown",
   "metadata": {},
   "source": [
    "If you want to know the history of commands, make use of history command. This feature also allows you to extract code from a IPython notebook to a separate file. "
   ]
  },
  {
   "cell_type": "code",
   "execution_count": 48,
   "metadata": {},
   "outputs": [
    {
     "name": "stdout",
     "output_type": "stream",
     "text": [
      "strin = \"This is Python\"\n",
      "print (strin.count('s'))\n",
      "print (strin.split(' '))\n",
      "print (strin.upper())\n",
      "print (strin.lower())\n",
      "print (strin.swapcase())\n",
      "a = [3, 2, 1]\n",
      "print (sorted(a)) # new list\n",
      "print (a)         # is not modified\n",
      "a = [2, 1, 3]\n",
      "print (a.sort(reverse = True))\n",
      "print (a)         # it's modified\n",
      "f=\"isis This is String  isis\"\n",
      "print(f.lstrip('is'))\n",
      "print(f.rstrip('is'))\n",
      "print(f.strip(' is'))\n",
      "str1 = \"    This is a bright, sunny day      \"\n",
      "print (str1)\n",
      "print (str1.rstrip())                   # Remove spaces to the right \n",
      "print (str1.lstrip())                   # Remove spaces to the left \n",
      "print (str1.strip())                    # Remove spaces on both side \n",
      "print (\":\".join(str1))                  # Sequence of elements to be joined\n",
      "\n",
      "print (\"   \".join([\"banana\",\"grapes\"]))   # How to do string concatenation. Treat it as a list. One element is nothing but a word.\n",
      "print (len(str1.rstrip()))\n",
      "print (\"   banana\")\n",
      "print(\"----------------------Ran fruit.py----------------------\")\n",
      "file = your_local_path + \"fruit.py\"   # Run fruit.py directly\n",
      "%run $file\n",
      "print(\"----------------------Ran apple.py----------------------\")\n",
      "file = your_local_path + \"apple.py\"   # Import fruit.py and then call it's function\n",
      "%run $file\n",
      "your_local_path=\"C:/Users/tejks/Desktop/ML/practice/\"\n",
      "%history\n",
      "import numpy as np\n",
      "#np.mean*?\n",
      "np?\n",
      "print(\"----------------------Ran fruit.py----------------------\")\n",
      "file = your_local_path + \"fruit.py\"   # Run fruit.py directly\n",
      "%run $file\n",
      "print(\"----------------------Ran apple.py----------------------\")\n",
      "file = your_local_path + \"apple.py\"   # Import fruit.py and then call it's function\n",
      "%run $file\n",
      "def avg( numList ):\n",
      "    \"\"\"Raises TypeError or ZeroDivisionError exceptions.\"\"\"\n",
      "    sum = 0\n",
      "    for v in numList:\n",
      "        sum = sum + v\n",
      "    return float(sum)/len(numList)\n",
      "\n",
      "def avgReport(numList):\n",
      "     try:\n",
      "         m= avg(numList)\n",
      "         print (\"Average = \", m)\n",
      "     except TypeError as ex:\n",
      "         print (\"TypeError:\", ex)\n",
      "     except ZeroDivisionError as ex:\n",
      "         print (\"ZeroDivisionError:\", ex)\n",
      "                    \n",
      "list1 = [10,20,30,40]                      # If used this should run fine\n",
      "list2 = []                                 # If used this is empty, it would throw ZeroDivisionError\n",
      "list3 = [10,20,30,'abc']                   # If used this should throw TypeError \n",
      "\n",
      "\n",
      "print (avgReport(list2))\n",
      "avgReport(list1)\n",
      "print (avgReport(list3))\n",
      "#You can even pass your own function\n",
      "mylist = ['abcg', 'zzzd', 'hijd', 'lmi']\n",
      "salist = ['k','g','h','f']\n",
      "\n",
      "salist.sort()\n",
      "print (salist)\n",
      "\n",
      "def func1(input):\n",
      "    return input[-1]                    # Sort based on last element\n",
      "\n",
      "print (func1([3,4,5]))\n",
      "print (func1(mylist))\n",
      "print (sorted(salist, key=func1))\n",
      "#You can even pass your own function\n",
      "mylist = ['abcg', 'zzzd', 'hijd', 'lmi']\n",
      "salist = ['k','g','h','f']\n",
      "\n",
      "salist.sort()\n",
      "print (salist)\n",
      "\n",
      "def func1(input):\n",
      "    return input[-1]                    # Sort based on last element\n",
      "\n",
      "print (func1([3,4,5]))\n",
      "print (func1(mylist))\n",
      "print (sorted(mylist, key=func1))\n",
      "np.BUFSIZE\n",
      "#Format 1\n",
      "date1=date.today().strftime('%Y-%m-%d')\n",
      "print(\"Date in YYYY-MM-DD Formart:\"+date1)\n",
      "#Format 2\n",
      "date2=date.today().strftime('%Y-%B-%d')\n",
      "print(\"Date in YYYY-MONTH-Day:\"+date2)\n",
      "#Format 3\n",
      "date3=date.today().strftime('%D')\n",
      "print (\"Date in mm/dd/yy Formart:\"+date3)\n",
      "#Format 4\n",
      "import time\n",
      "now = time.strftime(\"%c\")\n",
      "## date and time representation\n",
      "print (\"Current date & time \" + time.strftime(\"%c\"))\n",
      "from datetime import datetime, date, time\n",
      "#Format 1\n",
      "date1=date.today().strftime('%Y-%m-%d')\n",
      "print(\"Date in YYYY-MM-DD Formart:\"+date1)\n",
      "#Format 2\n",
      "date2=date.today().strftime('%Y-%B-%d')\n",
      "print(\"Date in YYYY-MONTH-Day:\"+date2)\n",
      "#Format 3\n",
      "date3=date.today().strftime('%D')\n",
      "print (\"Date in mm/dd/yy Formart:\"+date3)\n",
      "#Format 4\n",
      "import time\n",
      "now = time.strftime(\"%c\")\n",
      "## date and time representation\n",
      "print (\"Current date & time \" + time.strftime(\"%c\"))\n",
      "import datetime\n",
      "bday=datetime.date(1985,12,30)\n",
      "type(bday)\n",
      "newday = str(bday)\n",
      "print (newday)\n",
      "type(newday)\n",
      "alist = [ 'abcd', 786 , 2.23, 'ISB', 70.2 ]\n",
      "blist = alist\n",
      "alist = alist*2\n",
      "print (alist)\n",
      "#Check the behavior\n",
      "print (blist)\n",
      "#Sorting\n",
      "numberlist = [1, 5, 23, 1 ,54,2, 54,23, 54,76, 76,34,87,45.5]\n",
      "numberlist.sort()\n",
      "print(numberlist)\n",
      "print (len(numberlist))\n",
      "print (max(numberlist))\n",
      "print (min(numberlist))\n",
      "your_local_path=\"C:/Users/tejks/Desktop/ML/practice/\"\n",
      "import numpy as np\n",
      "#np.mean*?\n",
      "np?\n",
      "%history\n",
      "filepath = your_local_path + \"HelloWorld.py\"\n",
      "print(filepath)\n",
      "%run $filepath\n",
      "filepath = your_local_path + \"fruit.py\"\n",
      "print(filepath)\n",
      "%run $filepath\n",
      "# Let see how to get the type of the variables\n",
      "x='X-DSPAM-Confidence:   0.9032'\n",
      "pos = x.find(':')\n",
      "print (pos)\n",
      "num=int(x[pos+1:])\n",
      "#num=(x[pos+1:])\n",
      "print (num)\n",
      "#print (len(num))\n",
      "print (num, type(num))\n",
      "# Let see how to get the type of the variables\n",
      "x='X-DSPAM-Confidence:   0.9032'\n",
      "pos = x.find(':')\n",
      "print (pos)\n",
      "num=float(x[pos+1:])\n",
      "#num=(x[pos+1:])\n",
      "print (num)\n",
      "#print (len(num))\n",
      "print (num, type(num))\n",
      "f.seek(-3, 2) # move to the 3rd character from the end of the file\n",
      "f.read()\n",
      "f.seek(-2, 2) # move to the 3rd character from the end of the file\n",
      "f.read()\n",
      "print(your_local_path)\n",
      "#f = open(your_local_path+'file1.txt', 'r')\n",
      "f = open(your_local_path+'capm_dem.txt', 'r')\n",
      "for line in f:   \n",
      "    print (line)                       \n",
      "f.close()\n",
      "f = open(your_local_path+'test.txt', 'rb')\n",
      "f.seek(2,0)\n",
      "f.read()\n",
      "f.seek(2)    # move two characters ahead\n",
      "f.seek(2, 1) # move two characters ahead from the current position\n",
      "f.read()\n",
      "f.seek(-2, 2) # move to the 3rd character from the end of the file\n",
      "f.read()\n",
      "f = open(your_local_path+'test.txt', 'rb')\n",
      "f.seek(2,0)\n",
      "f.read()\n",
      "f.seek(2)    # move two characters ahead\n",
      "f.seek(2, 1) # move two characters ahead from the current position\n",
      "f.read()\n",
      "f.seek(-2, 2) # move to the 3rd character from the end of the file\n",
      "f.read()\n",
      "f = open(your_local_path+'test.txt', 'rb')\n",
      "f.seek(2,0)\n",
      "f.read()\n",
      "f = open(your_local_path+'test.txt', 'rb')\n",
      "f.seek(2,0)\n",
      "f.read()\n",
      "f = open(your_local_path+'testing.txt', 'rb')\n",
      "f.seek(2,0)\n",
      "f.read()\n",
      "f.seek(2)    # move two characters ahead\n",
      "f.seek(2, 1) # move two characters ahead from the current position\n",
      "f.read()\n",
      "f.seek(-3, 2) # move to the 3rd character from the end of the file\n",
      "f.read()\n",
      "f.seek(-4, 2) # move to the 3rd character from the end of the file\n",
      "f.read()\n",
      "your_local_path=\"C:/Users/tejks/Desktop/ML/practice/\"\n",
      "import numpy as np\n",
      "#np.mean*?\n",
      "np?\n",
      "import numpy as np\n",
      "np.*mean*?\n",
      "#np?\n",
      "import numpy as np\n",
      "np.mean*?\n",
      "#np?\n",
      "%history\n",
      "%history\n"
     ]
    }
   ],
   "source": [
    "%history"
   ]
  },
  {
   "cell_type": "markdown",
   "metadata": {},
   "source": [
    "**Running external code files in IPython**\n",
    "\n",
    "If you want to run external code files in Python, make use of %run command followed by the path of the file. IPython shell will execute the code and will display the results."
   ]
  },
  {
   "cell_type": "code",
   "execution_count": 51,
   "metadata": {},
   "outputs": [
    {
     "name": "stdout",
     "output_type": "stream",
     "text": [
      "C:/Users/tejks/Desktop/ML/practice/fruit.py\n",
      "I am running from fruit.py & will get printed irrespective from where I am called\n",
      "**Inside function printmyfruitname()**\n",
      "Value of __name__ is: __main__\n",
      "Name of fruit:  Fruit\n",
      "**Completed function printmyfruitname()**\n",
      "We are running fruit.py directly\n"
     ]
    }
   ],
   "source": [
    "filepath = your_local_path + \"fruit.py\"\n",
    "print(filepath)\n",
    "%run $filepath\n",
    "  "
   ]
  },
  {
   "cell_type": "code",
   "execution_count": 53,
   "metadata": {},
   "outputs": [
    {
     "name": "stdout",
     "output_type": "stream",
     "text": [
      "9\n"
     ]
    }
   ],
   "source": [
    "x = 9\n",
    "y = 25\n",
    "print (x)\n",
    "if x>10:\n",
    "    print(x)\n",
    "    print(y)"
   ]
  },
  {
   "cell_type": "markdown",
   "metadata": {},
   "source": [
    "**Strings**\n",
    "\n",
    "+ Built-in <b>string class</b> named <b>\"str\"</b> with many handy features\n",
    "+ In addition to numerical data processing, Python has very strong string processing capabilities. \n",
    "+ <b>Subsets</b> of strings can be taken using the <b>slice operator ( [ ] and [ : ] )</b> with indexes starting at 0 in the beginning of the string and working their way from -1 at the end.\n",
    "+ The plus ( + ) sign is the string concatenation operator and the asterisk ( * ) is the repetition operator.\n",
    "+ Strings in Python are <b>immutable</b>. Unlike other datasets such as lists, you cannot manipulate individual string values. In order to do so, you have to take subsets of strings and form a new string. \n",
    "+ A string can be converted to a numerical type and vice versa (wherever applicable). Many a times, raw data, although numeric, is coded in string format. This feature provides a clean way to make sure all of the data is in numeric form.\n",
    "+ Strings are sequence of characters and can be <b>tokenized</b>.\n",
    "+ Strings and numbers can also be <b>formatted</b>.\n",
    "\n"
   ]
  },
  {
   "cell_type": "code",
   "execution_count": 59,
   "metadata": {},
   "outputs": [
    {
     "name": "stdout",
     "output_type": "stream",
     "text": [
      "2\n",
      "['Thi', ' i', ' Python']\n",
      "THIS IS PYTHON\n",
      "this is python\n",
      "tHIS IS pYTHON\n"
     ]
    }
   ],
   "source": [
    "strin = \"This is Python\"\n",
    "print (strin.count('s'))\n",
    "print (strin.split('s'))\n",
    "print (strin.upper())\n",
    "print (strin.lower())\n",
    "print (strin.swapcase())"
   ]
  },
  {
   "cell_type": "code",
   "execution_count": 64,
   "metadata": {},
   "outputs": [
    {
     "name": "stdout",
     "output_type": "stream",
     "text": [
      "[1, 2, 3]\n",
      "[3, 2, 1]\n"
     ]
    }
   ],
   "source": [
    "a = [3, 2, 1]\n",
    "sorted(a)\n",
    "\n",
    "print (sorted(a)) # new list\n",
    "print (a)         # is not modified"
   ]
  },
  {
   "cell_type": "code",
   "execution_count": 65,
   "metadata": {},
   "outputs": [
    {
     "name": "stdout",
     "output_type": "stream",
     "text": [
      "None\n",
      "[3, 2, 1]\n"
     ]
    }
   ],
   "source": [
    "a = [2, 1, 3]\n",
    "print (a.sort(reverse = True))\n",
    "print (a)         # it's modified"
   ]
  },
  {
   "cell_type": "code",
   "execution_count": 69,
   "metadata": {},
   "outputs": [
    {
     "name": "stdout",
     "output_type": "stream",
     "text": [
      " This is String  isis\n",
      "isis This is String  \n",
      " This is String  \n"
     ]
    }
   ],
   "source": [
    "f=\"isis This is String  isis\"\n",
    "print(f.lstrip('is'))\n",
    "print(f.rstrip('is'))\n",
    "print(f.strip('is'))"
   ]
  },
  {
   "cell_type": "code",
   "execution_count": 77,
   "metadata": {},
   "outputs": [
    {
     "name": "stdout",
     "output_type": "stream",
     "text": [
      "    This is a bright, sunny day      \n",
      "    This is a bright, sunny day\n",
      "This is a bright, sunny day      \n",
      "This is a bright, sunny day\n",
      " :a :a :a :aT:ah:ai:as:a :ai:as:a :aa:a :ab:ar:ai:ag:ah:at:a,:a :as:au:an:an:ay:a :ad:aa:ay:a :a :a :a :a :a \n",
      "banana,grapes\n",
      "31\n",
      "   banana\n"
     ]
    }
   ],
   "source": [
    "str1 = \"    This is a bright, sunny day      \"\n",
    "print (str1)\n",
    "print (str1.rstrip())                   # Remove spaces to the right \n",
    "print (str1.lstrip())                   # Remove spaces to the left \n",
    "print (str1.strip())                    # Remove spaces on both side \n",
    "print (\":a\".join(str1))                  # Sequence of elements to be joined\n",
    "\n",
    "print (\",\".join([\"banana\",\"grapes\"]))   # How to do string concatenation. Treat it as a list. One element is nothing but a word.\n",
    "print (len(str1.rstrip()))\n",
    "print (\"   banana\")"
   ]
  },
  {
   "cell_type": "code",
   "execution_count": 85,
   "metadata": {},
   "outputs": [
    {
     "name": "stdout",
     "output_type": "stream",
     "text": [
      "18\n"
     ]
    },
    {
     "ename": "ValueError",
     "evalue": "invalid literal for int() with base 10: '   0.9032'",
     "output_type": "error",
     "traceback": [
      "\u001b[1;31m---------------------------------------------------------------------------\u001b[0m",
      "\u001b[1;31mValueError\u001b[0m                                Traceback (most recent call last)",
      "\u001b[1;32m<ipython-input-85-d47c9882b089>\u001b[0m in \u001b[0;36m<module>\u001b[1;34m()\u001b[0m\n\u001b[0;32m      3\u001b[0m \u001b[0mpos\u001b[0m \u001b[1;33m=\u001b[0m \u001b[0mx\u001b[0m\u001b[1;33m.\u001b[0m\u001b[0mfind\u001b[0m\u001b[1;33m(\u001b[0m\u001b[1;34m':'\u001b[0m\u001b[1;33m)\u001b[0m\u001b[1;33m\u001b[0m\u001b[0m\n\u001b[0;32m      4\u001b[0m \u001b[0mprint\u001b[0m \u001b[1;33m(\u001b[0m\u001b[0mpos\u001b[0m\u001b[1;33m)\u001b[0m\u001b[1;33m\u001b[0m\u001b[0m\n\u001b[1;32m----> 5\u001b[1;33m \u001b[0mnum\u001b[0m\u001b[1;33m=\u001b[0m\u001b[0mint\u001b[0m\u001b[1;33m(\u001b[0m\u001b[0mx\u001b[0m\u001b[1;33m[\u001b[0m\u001b[0mpos\u001b[0m\u001b[1;33m+\u001b[0m\u001b[1;36m1\u001b[0m\u001b[1;33m:\u001b[0m\u001b[1;33m]\u001b[0m\u001b[1;33m)\u001b[0m\u001b[1;33m\u001b[0m\u001b[0m\n\u001b[0m\u001b[0;32m      6\u001b[0m \u001b[1;31m#num=(x[pos+1:])\u001b[0m\u001b[1;33m\u001b[0m\u001b[1;33m\u001b[0m\u001b[0m\n\u001b[0;32m      7\u001b[0m \u001b[0mprint\u001b[0m \u001b[1;33m(\u001b[0m\u001b[0mnum\u001b[0m\u001b[1;33m)\u001b[0m\u001b[1;33m\u001b[0m\u001b[0m\n",
      "\u001b[1;31mValueError\u001b[0m: invalid literal for int() with base 10: '   0.9032'"
     ]
    }
   ],
   "source": [
    "# Let see how to get the type of the variables\n",
    "x='X-DSPAM-Confidence:   0.9032'\n",
    "pos = x.find(':')\n",
    "print (pos)\n",
    "num=int(x[pos+1:])\n",
    "#num=(x[pos+1:])\n",
    "print (num)\n",
    "print (len(num))\n",
    "print (num, type(num))\n"
   ]
  },
  {
   "cell_type": "code",
   "execution_count": 86,
   "metadata": {
    "scrolled": true
   },
   "outputs": [
    {
     "name": "stdout",
     "output_type": "stream",
     "text": [
      "Hey how ar@doing good\n"
     ]
    }
   ],
   "source": [
    "# Let us do some exercises\n",
    "# Excercise 1\n",
    "# Given below string, get first 10 characters, and last 10 characters.\n",
    "# Now join them to form a new string with an underscore in between\n",
    "strr = 'Hey how are you doing. We are doing good'\n",
    "print (strr[:10]+ \"@\" +strr[-10:])\n"
   ]
  },
  {
   "cell_type": "markdown",
   "metadata": {},
   "source": [
    "**Datetime**\n",
    "\n",
    "Python has a <b>built-in datetime module</b> for working with dates and times.\n",
    "One can create strings from date objects and vice versa. \n",
    "\n",
    "\n",
    "Python offers very powerful and flexible datetime capabilities that are capable of operating at a scale of time measured in nano-seconds. "
   ]
  },
  {
   "cell_type": "code",
   "execution_count": 87,
   "metadata": {},
   "outputs": [
    {
     "name": "stdout",
     "output_type": "stream",
     "text": [
      "Date in YYYY-MM-DD Formart:2018-01-03\n",
      "Date in YYYY-MONTH-Day:2018-January-03\n",
      "Date in mm/dd/yy Formart:01/03/18\n",
      "Current date & time Wed Jan  3 20:32:35 2018\n"
     ]
    }
   ],
   "source": [
    "from datetime import datetime, date, time\n",
    "#Format 1\n",
    "date1=date.today().strftime('%Y-%m-%d')\n",
    "print(\"Date in YYYY-MM-DD Formart:\"+date1)\n",
    "#Format 2\n",
    "date2=date.today().strftime('%Y-%B-%d')\n",
    "print(\"Date in YYYY-MONTH-Day:\"+date2)\n",
    "#Format 3\n",
    "date3=date.today().strftime('%D')\n",
    "print (\"Date in mm/dd/yy Formart:\"+date3)\n",
    "#Format 4\n",
    "import time\n",
    "now = time.strftime(\"%c\")\n",
    "## date and time representation\n",
    "print (\"Current date & time \" + time.strftime(\"%c\"))"
   ]
  },
  {
   "cell_type": "code",
   "execution_count": 91,
   "metadata": {},
   "outputs": [
    {
     "name": "stdout",
     "output_type": "stream",
     "text": [
      "1985-12-30\n"
     ]
    },
    {
     "data": {
      "text/plain": [
       "str"
      ]
     },
     "execution_count": 91,
     "metadata": {},
     "output_type": "execute_result"
    }
   ],
   "source": [
    "import datetime\n",
    "bday=datetime.date(1985,12,30)\n",
    "type(bday)\n",
    "newday = str(bday)\n",
    "print (newday)\n",
    "type(newday)"
   ]
  },
  {
   "cell_type": "markdown",
   "metadata": {},
   "source": [
    "**Lists**\n",
    "\n",
    "+ Lists, along with dictionary, are perhaps most important data types.\n",
    "+ A list contains items separated by commas and enclosed within square brackets ([]).\n",
    "+ All the items belonging to a list can be of <b>different data type</b>.\n",
    "+ Lists are similar to arrays in C language.\n",
    "+ The <b>plus ( + )</b> sign is the list concatenation operator, and the <b>asterisk ( * )</b> is the repetition operator.\n"
   ]
  },
  {
   "cell_type": "code",
   "execution_count": 92,
   "metadata": {},
   "outputs": [
    {
     "name": "stdout",
     "output_type": "stream",
     "text": [
      "['abcd', 786, 2.23, 'ISB', 70.2, 'abcd', 786, 2.23, 'ISB', 70.2]\n"
     ]
    }
   ],
   "source": [
    "alist = [ 'abcd', 786 , 2.23, 'ISB', 70.2 ]\n",
    "blist = alist\n",
    "alist = alist*2\n",
    "print (alist)"
   ]
  },
  {
   "cell_type": "code",
   "execution_count": 93,
   "metadata": {},
   "outputs": [
    {
     "name": "stdout",
     "output_type": "stream",
     "text": [
      "['abcd', 786, 2.23, 'ISB', 70.2]\n"
     ]
    }
   ],
   "source": [
    "#Check the behavior\n",
    "print (blist)"
   ]
  },
  {
   "cell_type": "code",
   "execution_count": 94,
   "metadata": {},
   "outputs": [
    {
     "name": "stdout",
     "output_type": "stream",
     "text": [
      "[1, 1, 2, 5, 23, 23, 34, 45.5, 54, 54, 54, 76, 76, 87]\n",
      "14\n",
      "87\n",
      "1\n"
     ]
    }
   ],
   "source": [
    "#Sorting\n",
    "numberlist = [1, 5, 23, 1 ,54,2, 54,23, 54,76, 76,34,87,45.5]\n",
    "numberlist.sort()\n",
    "print(numberlist)\n",
    "print (len(numberlist))\n",
    "print (max(numberlist))\n",
    "print (min(numberlist))"
   ]
  },
  {
   "cell_type": "code",
   "execution_count": 100,
   "metadata": {},
   "outputs": [
    {
     "name": "stdout",
     "output_type": "stream",
     "text": [
      "['f', 'g', 'h', 'k']\n",
      "5\n",
      "lmi\n",
      "['abcg', 'hijd', 'lmi', 'zzzd']\n",
      "['hijd', 'zzzd', 'abcg', 'lmi']\n"
     ]
    }
   ],
   "source": [
    "#You can even pass your own function\n",
    "mylist = ['abcg', 'hijd', 'zzzd', 'lmi']\n",
    "salist = ['k','g','h','f']\n",
    "\n",
    "salist.sort()\n",
    "print (salist)\n",
    "\n",
    "def func1(input):\n",
    "    return input[-1]                    # Sort based on last element\n",
    "\n",
    "print (func1([3,4,5]))\n",
    "print (func1(mylist))\n",
    "print (sorted(mylist))\n",
    "print (sorted(mylist, key=func1))"
   ]
  },
  {
   "cell_type": "markdown",
   "metadata": {},
   "source": [
    "**Operators**\n",
    "\n",
    "+ \\+ (plus) : Adds two objects \n",
    "+ \\- (minus) Gives the subtraction of one number from the other; if the first operand is absent it is assumed to be zero.\n",
    "+ \\* (multiply) Gives the multiplication of the two numbers or returns the string repeated that many times.\n",
    "+ ** (power) Returns x to the power of y\n",
    "+ / (divide) Divide x by y\n",
    "+ // (floor division) Returns the floor of the quotient\n",
    "+ % (modulo) Returns the remainder of the division\n",
    "+ < (less than) Returns whether x is less than y. All comparison operators return True or False. Note the capitalization of these names.\n",
    "+ \\> (greater than) Returns whether x is greater than y\n",
    "+ <= (less than or equal to) Returns whether x is less than or equal to y\n",
    "+ \\>= (greater than or equal to) Returns whether x is greater than or equal to y\n",
    "+ == (equal to) Compares if the objects are equal\n",
    "+ != (not equal to) Compares if the objects are not equal\n",
    "+ not (boolean NOT) If x is True, it returns False. If x is False, it returns True.\n",
    "+ and (boolean AND) x and y returns False if x is False, else it returns evaluation of y\n",
    "+ or (boolean OR) If x is True, it returns True, else it returns evaluation of y"
   ]
  },
  {
   "cell_type": "code",
   "execution_count": 104,
   "metadata": {},
   "outputs": [
    {
     "name": "stdout",
     "output_type": "stream",
     "text": [
      "1 True\n",
      "2 False\n",
      "3 True\n",
      "4 False\n",
      "5 True\n",
      "6 True\n",
      "7 False\n",
      "8 True\n",
      "9 False\n"
     ]
    }
   ],
   "source": [
    "a = 6\n",
    "b = 7\n",
    "c = 42\n",
    "print (1, a == 6)\n",
    "print (2, a == 7)\n",
    "print (3, a == 6 and b == 7)\n",
    "print (4, a == 7 and b == 7)\n",
    "print (5, not a == 7 and b == 7)\n",
    "print (6, a == 7 or b == 7)\n",
    "print (7, a == 7 or b == 6)\n",
    "print (8, not (False))\n",
    "print (9, not a == 7 and b == 6)\n"
   ]
  },
  {
   "cell_type": "markdown",
   "metadata": {},
   "source": [
    "**Python Advanced Concepts**\n"
   ]
  },
  {
   "cell_type": "markdown",
   "metadata": {},
   "source": [
    "**Closing and Opening Files**\n",
    "\n",
    "+ Python, along with associated packages, supports a number of formats for file reading and writing. \n",
    "+ The file types supported are txt, csv, xls, xlsx, doc, docx, dat, output, sql (and some specialized formats such as R, .dta, sas7bdat)\n",
    "+ Here, we will cover some of the options and will look at the rest in session on pandas.\n",
    "+ In order to open a file, use open() method specifying file name and mode of opening (read, write, append, etc)\n",
    "+ Open returns a file handle \n",
    "+ handle = open(filename, mode)\n",
    "+ Once work is done, it is always better to close the file otherwise other programs might not be able to access the file.\n",
    "+ File closing is done using close() method\n"
   ]
  },
  {
   "cell_type": "code",
   "execution_count": 105,
   "metadata": {
    "scrolled": false
   },
   "outputs": [
    {
     "name": "stdout",
     "output_type": "stream",
     "text": [
      "C:/Users/tejks/Desktop/ML/practice/\n",
      "00195710 880211 -0.012605 0.003871\n",
      "\n",
      "00195710 880212 -0.008511 0.007406\n",
      "\n",
      "00195710 880216 0.008584 0.001411\n",
      "\n",
      "00195710 880217 -0.004255 0.002414\n",
      "\n",
      "00195710 880218 0 0.002845\n",
      "\n",
      "00195710 880219 0.008547 0.004753\n",
      "\n",
      "00195710 880222 0.012712 0.006375\n",
      "\n",
      "00195710 880223 -0.008368 0.001864\n",
      "\n",
      "00195710 880224 -0.008439 0.004237\n",
      "\n",
      "00195710 880225 -0.004255 0.005164\n",
      "\n",
      "00195710 880226 -0.008547 0.001747\n",
      "\n",
      "00195710 880229 0.012931 0.011278\n",
      "\n",
      "00195710 880301 -0.008511 0.001305\n",
      "\n",
      "00195710 880302 0.008584 0.005652\n",
      "\n",
      "00195710 880303 -0.017021 0.002895\n",
      "\n",
      "00195710 880304 0.004329 0.004586\n",
      "\n",
      "00195710 880307 -0.017241 0.00374\n",
      "\n",
      "00195710 880308 -0.008772 0.006258\n",
      "\n",
      "00195710 880309 0.00885 0.008291\n",
      "\n",
      "00195710 880310 -0.008772 -0.004363\n",
      "\n",
      "00195710 880311 -0.00885 0.000796\n",
      "\n",
      "00195710 880314 0.013393 0.002721\n",
      "\n",
      "00195710 880315 0.008811 0.001341\n",
      "\n",
      "00195710 880316 0.004367 0.004319\n",
      "\n",
      "00195710 880317 0.008696 0.005612\n",
      "\n",
      "00195710 880318 -0.008621 0.003249\n",
      "\n",
      "00195710 880321 -0.004348 -0.004265\n",
      "\n",
      "00195710 880322 -0.008734 0.00276\n",
      "\n",
      "00195710 880323 -0.004405 0.003259\n",
      "\n",
      "00195710 880324 -0.017699 -0.006748\n",
      "\n",
      "00195710 880325 -0.011712 -0.006075\n",
      "\n",
      "00195710 880328 -0.013825 -0.006236\n",
      "\n",
      "00195710 880329 0.004673 0.006625\n",
      "\n",
      "00195710 880330 -0.013953 -0.001708\n",
      "\n",
      "00195710 880331 0.018868 0.007634\n",
      "\n",
      "00195710 880404 -0.013889 -0.005177\n",
      "\n",
      "00195710 880405 0.00939 0.002342\n",
      "\n",
      "00195710 880406 0.046512 0.007862\n",
      "\n",
      "00195710 880407 -0.004444 0.003649\n",
      "\n",
      "00195710 880408 0.004464 0.008284\n",
      "\n",
      "00195710 880411 -0.008889 0.000455\n",
      "\n",
      "00195710 880412 0.008969 0.004093\n",
      "\n",
      "00195710 880413 -0.004444 0.000273\n",
      "\n",
      "00195710 880414 -0.049107 -0.017634\n",
      "\n",
      "00195710 880415 0 -0.001734\n",
      "\n",
      "00195710 880418 -0.00939 0.002671\n",
      "\n",
      "00195710 880419 0.004739 0.004033\n",
      "\n",
      "00195710 880420 0 -0.004894\n",
      "\n",
      "00195710 880421 0.004717 -0.000031\n",
      "\n",
      "00195710 880422 0.018779 0.003857\n",
      "\n",
      "00195710 880425 0.004608 0.002482\n",
      "\n",
      "00195710 880426 -0.018349 0.004963\n",
      "\n",
      "00195710 880427 -0.004673 0.002056\n",
      "\n",
      "00195710 880428 -0.00939 0.001157\n",
      "\n",
      "00195710 880429 0.004739 0.003796\n",
      "\n",
      "00195710 880502 0 -0.001114\n",
      "\n",
      "00195710 880503 0.018868 0.002655\n",
      "\n",
      "00195710 880504 -0.023148 -0.000176\n",
      "\n",
      "00195710 880505 -0.009479 -0.001624\n",
      "\n",
      "00195710 880506 -0.004785 0.000376\n",
      "\n",
      "00195710 880509 0.014423 -0.005489\n",
      "\n",
      "00195710 880510 0.028436 0.000986\n",
      "\n",
      "00195710 880511 -0.009217 -0.012381\n",
      "\n",
      "00195710 880512 0.018605 0.002235\n",
      "\n",
      "00195710 880513 -0.004566 0.005115\n",
      "\n",
      "00195710 880516 0 0.000834\n",
      "\n",
      "00195710 880517 -0.027523 -0.001624\n",
      "\n",
      "00195710 880518 -0.018868 -0.010956\n",
      "\n",
      "00195710 880519 0.024038 -0.001865\n",
      "\n",
      "00195710 880520 0.004695 0.003239\n",
      "\n",
      "00195710 880523 -0.014019 -0.003542\n",
      "\n",
      "00195710 880524 0.004739 0.0017\n",
      "\n",
      "00195710 880525 -0.014151 0.001598\n",
      "\n",
      "00282410 880225 -0.00495 0.005164\n",
      "\n",
      "00282410 880226 -0.007463 0.001747\n",
      "\n",
      "00282410 880229 0.042607 0.011278\n",
      "\n",
      "00282410 880301 -0.004808 0.001305\n",
      "\n",
      "00282410 880302 -0.002415 0.005652\n",
      "\n",
      "00282410 880303 0.002421 0.002895\n",
      "\n",
      "00282410 880304 -0.002415 0.004586\n",
      "\n",
      "00282410 880307 -0.002421 0.00374\n",
      "\n",
      "00282410 880308 -0.024272 0.006258\n",
      "\n",
      "00282410 880309 0 0.008291\n",
      "\n",
      "00282410 880310 -0.0199 -0.004363\n",
      "\n",
      "00282410 880311 -0.025381 0.000796\n",
      "\n",
      "00282410 880314 0.010417 0.002721\n",
      "\n",
      "00282410 880315 0.002577 0.001341\n",
      "\n",
      "00282410 880316 -0.002571 0.004319\n",
      "\n",
      "00282410 880317 0.018041 0.005612\n",
      "\n",
      "00282410 880318 0.017722 0.003249\n",
      "\n",
      "00282410 880321 -0.00995 -0.004265\n",
      "\n",
      "00282410 880322 -0.01005 0.00276\n",
      "\n",
      "00282410 880323 -0.017766 0.003259\n",
      "\n",
      "00282410 880324 -0.010336 -0.006748\n",
      "\n",
      "00282410 880325 -0.031332 -0.006075\n",
      "\n",
      "00282410 880328 0.002695 -0.006236\n",
      "\n",
      "00282410 880329 0.010753 0.006625\n",
      "\n",
      "00282410 880330 -0.00266 -0.001708\n",
      "\n",
      "00282410 880331 0 0.007634\n",
      "\n",
      "00282410 880404 -0.013333 -0.005177\n",
      "\n",
      "00282410 880405 0.013514 0.002342\n",
      "\n",
      "00282410 880406 0.016 0.007862\n",
      "\n",
      "00282410 880407 0.026247 0.003649\n",
      "\n",
      "00282410 880408 0.033248 0.008284\n",
      "\n",
      "00282410 880411 -0.001485 0.000455\n",
      "\n",
      "00282410 880412 0.004988 0.004093\n",
      "\n",
      "00282410 880413 -0.002481 0.000273\n",
      "\n",
      "00282410 880414 -0.039801 -0.017634\n",
      "\n",
      "00282410 880415 -0.010363 -0.001734\n",
      "\n",
      "00282410 880418 -0.005236 0.002671\n",
      "\n",
      "00282410 880419 -0.021053 0.004033\n",
      "\n",
      "00282410 880420 -0.013441 -0.004894\n",
      "\n",
      "00282410 880421 -0.013624 -0.000031\n",
      "\n",
      "00282410 880422 0.022099 0.003857\n",
      "\n",
      "00282410 880425 0.024324 0.002482\n",
      "\n",
      "00282410 880426 0.01847 0.004963\n",
      "\n",
      "00282410 880427 -0.023316 0.002056\n",
      "\n",
      "00282410 880428 -0.013263 0.001157\n",
      "\n",
      "00282410 880429 -0.018817 0.003796\n",
      "\n",
      "00282410 880502 0.013699 -0.001114\n",
      "\n",
      "00282410 880503 -0.005405 0.002655\n",
      "\n",
      "00282410 880504 -0.008152 -0.000176\n",
      "\n",
      "00282410 880505 -0.010959 -0.001624\n",
      "\n",
      "00282410 880506 -0.019391 0.000376\n",
      "\n",
      "00282410 880509 0.008475 -0.005489\n",
      "\n",
      "00282410 880510 -0.014006 0.000986\n",
      "\n",
      "00282410 880511 -0.019886 -0.012381\n",
      "\n",
      "00282410 880512 -0.002899 0.002235\n",
      "\n",
      "00282410 880513 0.017442 0.005115\n",
      "\n",
      "00282410 880516 0.028571 0.000834\n",
      "\n",
      "00282410 880517 -0.011111 -0.001624\n",
      "\n",
      "00282410 880518 -0.019663 -0.010956\n",
      "\n",
      "00282410 880519 -0.002865 -0.001865\n",
      "\n",
      "00282410 880520 0.005747 0.003239\n",
      "\n",
      "00282410 880523 -0.014286 -0.003542\n",
      "\n",
      "00282410 880524 0.014493 0.0017\n",
      "\n",
      "00282410 880525 0.008571 0.001598\n",
      "\n",
      "00282410 880526 0.031161 0.003151\n",
      "\n",
      "00282410 880527 -0.008242 -0.000359\n",
      "\n",
      "00282410 880531 0.027701 0.006501\n",
      "\n",
      "00790310 880225 -0.020408 0.005164\n",
      "\n",
      "00790310 880226 -0.010417 0.001747\n",
      "\n",
      "00790310 880229 0.010526 0.011278\n",
      "\n",
      "00790310 880301 -0.020833 0.001305\n",
      "\n",
      "00790310 880302 0.053191 0.005652\n",
      "\n",
      "00790310 880303 0 0.002895\n",
      "\n",
      "00790310 880304 -0.020202 0.004586\n",
      "\n",
      "00790310 880307 0.041237 0.00374\n",
      "\n",
      "00790310 880308 0.039604 0.006258\n",
      "\n",
      "00790310 880309 0.009524 0.008291\n",
      "\n",
      "00790310 880310 -0.04717 -0.004363\n",
      "\n",
      "00790310 880311 -0.009901 0.000796\n",
      "\n",
      "00790310 880314 0 0.002721\n",
      "\n",
      "00790310 880315 0.01 0.001341\n",
      "\n",
      "00790310 880316 -0.029703 0.004319\n",
      "\n",
      "00790310 880317 0.010204 0.005612\n",
      "\n",
      "00790310 880318 0.010101 0.003249\n",
      "\n",
      "00790310 880321 -0.03 -0.004265\n",
      "\n",
      "00790310 880322 0.030928 0.00276\n",
      "\n",
      "00790310 880323 -0.02 0.003259\n",
      "\n",
      "00790310 880324 -0.030612 -0.006748\n",
      "\n",
      "00790310 880325 -0.052632 -0.006075\n",
      "\n",
      "00790310 880328 -0.011111 -0.006236\n",
      "\n",
      "00790310 880329 0.022472 0.006625\n",
      "\n",
      "00790310 880330 -0.032967 -0.001708\n",
      "\n",
      "00790310 880331 0 0.007634\n",
      "\n",
      "00790310 880404 0.011364 -0.005177\n",
      "\n",
      "00790310 880405 0.022472 0.002342\n",
      "\n",
      "00790310 880406 0.054945 0.007862\n",
      "\n",
      "00790310 880407 0.041667 0.003649\n",
      "\n",
      "00790310 880408 0.07 0.008284\n",
      "\n",
      "00790310 880411 0.028037 0.000455\n",
      "\n",
      "00790310 880412 -0.009091 0.004093\n",
      "\n",
      "00790310 880413 -0.018349 0.000273\n",
      "\n",
      "00790310 880414 -0.056075 -0.017634\n",
      "\n",
      "00790310 880415 -0.009901 -0.001734\n",
      "\n",
      "00790310 880418 0.03 0.002671\n",
      "\n",
      "00790310 880419 -0.019417 0.004033\n",
      "\n",
      "00790310 880420 -0.009901 -0.004894\n",
      "\n",
      "00790310 880421 0 -0.000031\n",
      "\n",
      "00790310 880422 0.05 0.003857\n",
      "\n",
      "00790310 880425 0.028571 0.002482\n",
      "\n",
      "00790310 880426 0.018519 0.004963\n",
      "\n",
      "00790310 880427 0.036364 0.002056\n",
      "\n",
      "00790310 880428 0.017544 0.001157\n",
      "\n",
      "00790310 880429 -0.008621 0.003796\n",
      "\n",
      "00790310 880502 0 -0.001114\n",
      "\n",
      "00790310 880503 -0.008696 0.002655\n",
      "\n",
      "00790310 880504 0.017544 -0.000176\n",
      "\n",
      "00790310 880505 0 -0.001624\n",
      "\n",
      "00790310 880506 -0.017241 0.000376\n",
      "\n",
      "00790310 880509 -0.04386 -0.005489\n",
      "\n",
      "00790310 880510 0.018349 0.000986\n",
      "\n",
      "00790310 880511 0 -0.012381\n",
      "\n",
      "00790310 880512 0.045045 0.002235\n",
      "\n",
      "00790310 880513 0.034483 0.005115\n",
      "\n",
      "00790310 880516 0 0.000834\n",
      "\n",
      "00790310 880517 -0.016667 -0.001624\n",
      "\n",
      "00790310 880518 -0.033898 -0.010956\n",
      "\n",
      "00790310 880519 0.04386 -0.001865\n",
      "\n",
      "00790310 880520 -0.016807 0.003239\n",
      "\n",
      "00790310 880523 -0.034188 -0.003542\n",
      "\n",
      "00790310 880524 0.026549 0.0017\n",
      "\n",
      "00790310 880525 -0.008621 0.001598\n",
      "\n",
      "00790310 880526 -0.008696 0.003151\n",
      "\n",
      "00790310 880527 0 -0.000359\n",
      "\n",
      "00790310 880531 0.052632 0.006501\n",
      "\n",
      "00811710 880225 -0.036458 0.005164\n",
      "\n",
      "00811710 880226 0.010811 0.001747\n",
      "\n",
      "00811710 880229 0.018717 0.011278\n",
      "\n",
      "00811710 880301 0 0.001305\n",
      "\n",
      "00811710 880302 0.002625 0.005652\n",
      "\n",
      "00811710 880303 0.005236 0.002895\n",
      "\n",
      "00811710 880304 -0.007813 0.004586\n",
      "\n",
      "00811710 880307 0.002625 0.00374\n",
      "\n",
      "00811710 880308 0 0.006258\n",
      "\n",
      "00811710 880309 -0.010471 0.008291\n",
      "\n",
      "00811710 880310 -0.010582 -0.004363\n",
      "\n",
      "00811710 880311 -0.002674 0.000796\n",
      "\n",
      "00811710 880314 -0.008043 0.002721\n",
      "\n",
      "00811710 880315 0 0.001341\n",
      "\n",
      "00811710 880316 0 0.004319\n",
      "\n",
      "00811710 880317 -0.010811 0.005612\n",
      "\n",
      "00811710 880318 -0.008197 0.003249\n",
      "\n",
      "00811710 880321 -0.002755 -0.004265\n",
      "\n",
      "00811710 880322 -0.005525 0.00276\n",
      "\n",
      "00811710 880323 -0.005556 0.003259\n",
      "\n",
      "00811710 880324 -0.013966 -0.006748\n",
      "\n",
      "00811710 880325 -0.002833 -0.006075\n",
      "\n",
      "00811710 880328 -0.017045 -0.006236\n",
      "\n",
      "00811710 880329 0.00578 0.006625\n",
      "\n",
      "00811710 880330 -0.014368 -0.001708\n",
      "\n",
      "00811710 880331 0.023324 0.007634\n",
      "\n",
      "00811710 880404 -0.008547 -0.005177\n",
      "\n",
      "00811710 880405 0.031609 0.002342\n",
      "\n",
      "00811710 880406 -0.011142 0.007862\n",
      "\n",
      "00811710 880407 -0.016901 0.003649\n",
      "\n",
      "00811710 880408 0.014327 0.008284\n",
      "\n",
      "00811710 880411 0.00565 0.000455\n",
      "\n",
      "00811710 880412 0.016854 0.004093\n",
      "\n",
      "00811710 880413 0.002762 0.000273\n",
      "\n",
      "00811710 880414 -0.044077 -0.017634\n",
      "\n",
      "00811710 880415 -0.020173 -0.001734\n",
      "\n",
      "00811710 880418 0.002941 0.002671\n",
      "\n",
      "00811710 880419 -0.005865 0.004033\n",
      "\n",
      "00811710 880420 0.00295 -0.004894\n",
      "\n",
      "00811710 880421 0.002941 -0.000031\n",
      "\n",
      "00811710 880422 0.002933 0.003857\n",
      "\n",
      "00811710 880425 0.013216 0.002482\n",
      "\n",
      "00811710 880426 0.017595 0.004963\n",
      "\n",
      "00811710 880427 -0.014409 0.002056\n",
      "\n",
      "00811710 880428 0.008772 0.001157\n",
      "\n",
      "00811710 880429 -0.026087 0.003796\n",
      "\n",
      "00811710 880502 -0.008929 -0.001114\n",
      "\n",
      "00811710 880503 -0.006006 0.002655\n",
      "\n",
      "00811710 880504 0.003021 -0.000176\n",
      "\n",
      "00811710 880505 -0.003012 -0.001624\n",
      "\n",
      "00811710 880506 -0.018127 0.000376\n",
      "\n",
      "00811710 880509 -0.003077 -0.005489\n",
      "\n",
      "00811710 880510 -0.006173 0.000986\n",
      "\n",
      "00811710 880511 -0.012422 -0.012381\n",
      "\n",
      "00811710 880512 0.009434 0.002235\n",
      "\n",
      "00811710 880513 0.012461 0.005115\n",
      "\n",
      "00811710 880516 0.003077 0.000834\n",
      "\n",
      "00811710 880517 -0.018405 -0.001624\n",
      "\n",
      "00811710 880518 0.003125 -0.010956\n",
      "\n",
      "00811710 880519 0.006231 -0.001865\n",
      "\n",
      "00811710 880520 0.012384 0.003239\n",
      "\n",
      "00811710 880523 -0.003058 -0.003542\n",
      "\n",
      "00811710 880524 0.02454 0.0017\n",
      "\n",
      "00811710 880525 0.008982 0.001598\n",
      "\n",
      "00811710 880526 0 0.003151\n",
      "\n",
      "00811710 880527 0.002967 -0.000359\n",
      "\n",
      "00811710 880531 0.038462 0.006501\n",
      "\n"
     ]
    }
   ],
   "source": [
    "print(your_local_path)\n",
    "#f = open(your_local_path+'file1.txt', 'r')\n",
    "f = open(your_local_path+'capm_dem.txt', 'r')\n",
    "for line in f:   \n",
    "    print (line)                       \n",
    "f.close()"
   ]
  },
  {
   "cell_type": "code",
   "execution_count": 107,
   "metadata": {},
   "outputs": [
    {
     "data": {
      "text/plain": [
       "b'cde'"
      ]
     },
     "execution_count": 107,
     "metadata": {},
     "output_type": "execute_result"
    }
   ],
   "source": [
    "f = open(your_local_path+'testing.txt', 'rb')\n",
    "f.seek(2,0)\n",
    "f.read()"
   ]
  },
  {
   "cell_type": "code",
   "execution_count": 114,
   "metadata": {},
   "outputs": [
    {
     "data": {
      "text/plain": [
       "b'e'"
      ]
     },
     "execution_count": 114,
     "metadata": {},
     "output_type": "execute_result"
    }
   ],
   "source": [
    "f.seek(2)    # move two characters ahead\n",
    "f.seek(2, 1) # move two characters ahead from the current position\n",
    "f.read()"
   ]
  },
  {
   "cell_type": "code",
   "execution_count": 115,
   "metadata": {},
   "outputs": [
    {
     "data": {
      "text/plain": [
       "b'cde'"
      ]
     },
     "execution_count": 115,
     "metadata": {},
     "output_type": "execute_result"
    }
   ],
   "source": [
    "f.seek(-3, 2) # move to the 3rd character from the end of the file\n",
    "f.read()\n"
   ]
  },
  {
   "cell_type": "code",
   "execution_count": 117,
   "metadata": {
    "collapsed": true
   },
   "outputs": [],
   "source": [
    "\n",
    "capmdata = open(your_local_path+'capm_dem.txt','r')\n",
    "#print (\"Content is \", capmdata.read())\n",
    "capmdata.seek(0,0)\n",
    "copycapmdata = open(your_local_path+'capm_dem_copy123.txt',\"w\")\n",
    "\n",
    "copycapmdata.write(capmdata.read())\n",
    "copycapmdata.close()\n",
    "\n",
    "\n",
    "#crspdata.close()\n",
    " \n",
    "capmdata.close()"
   ]
  },
  {
   "cell_type": "markdown",
   "metadata": {},
   "source": [
    "** <font color='red'>Warning: This is for people willing to understand a little more advance concept. No worries if you don't understand immediately.</font>** \n",
    "\n",
    "**Python program __main__ concept**\n",
    "\n",
    "+ Source files .py extension, and can be run from command prompt by using python filename.py (optional arguments) command. \n",
    "+ Examine name.py. \n",
    "+ First line imports modules\n",
    "+ Next line defines a main() function. We can specify command line arguments. Command line args are in sys.argv[1], sys.argv[2]\n",
    "+ sys.argv[0] is the script name itself and can be ignored\n",
    "+ name = 'main' starts the program. \n",
    "+ When a Python file is run directly, the special variable \"__name__\" is set to \"__main__\". Therefore, it's common to have the boilerplate if __name__ ==... shown above to call a main() function when the module is run directly, but not when the module is imported by some other module."
   ]
  },
  {
   "cell_type": "code",
   "execution_count": 119,
   "metadata": {},
   "outputs": [
    {
     "name": "stdout",
     "output_type": "stream",
     "text": [
      "----------------------Ran apple.py----------------------\n",
      "**Inside function printmyfruitname()**\n",
      "Value of __name__ is: fruit\n",
      "Name of fruit:  Apple\n",
      "**Completed function printmyfruitname()**\n",
      "We are running apple.py\n"
     ]
    }
   ],
   "source": [
    "#print(\"----------------------Ran fruit.py----------------------\")\n",
    "#file = your_local_path + \"fruit.py\"   # Run fruit.py directly\n",
    "#%run $file\n",
    "print(\"----------------------Ran apple.py----------------------\")\n",
    "file = your_local_path + \"apple.py\"   # Import fruit.py and then call it's function\n",
    "%run $file"
   ]
  },
  {
   "cell_type": "markdown",
   "metadata": {},
   "source": [
    "** Exception Handling**\n",
    "\n",
    "**Exceptions**\n",
    "\n",
    "+ An exception is an <b>event that interrupts the ordinary sequential processing</b> of a program.\n",
    "+ For example, what if you are going to read a file and the file does not exist? Or what if you accidentally deleted it when the program was running? Similarly, what if your program had some invalid statements? Such situations are handled using exceptions.\n",
    "\n",
    "**Handling Exceptions**\n",
    "\n",
    "+ We can handle exceptions using the <b>try..except</b> statement. \n",
    "+ We basically put our <b>usual statements within the try-block</b> and put all our <b>error handlers in the except-block</b>."
   ]
  },
  {
   "cell_type": "code",
   "execution_count": 127,
   "metadata": {},
   "outputs": [
    {
     "name": "stdout",
     "output_type": "stream",
     "text": [
      "ZeroDivisionError: float division by zero\n",
      "None\n",
      "Average =  25.0\n",
      "TypeError: unsupported operand type(s) for +: 'int' and 'str'\n",
      "None\n",
      "Sai\n"
     ]
    }
   ],
   "source": [
    "def avg( numList ):\n",
    "    \"\"\"Raises TypeError or ZeroDivisionError exceptions.\"\"\"\n",
    "    sum = 0\n",
    "    for v in numList:\n",
    "        sum = sum + v\n",
    "    return float(sum)/len(numList)\n",
    "\n",
    "def avgReport(numList):\n",
    "     try:\n",
    "         m= avg(numList)\n",
    "         print (\"Average = \", m)\n",
    "     except TypeError as ex:\n",
    "         print (\"TypeError:\", ex)\n",
    "     except ZeroDivisionError as ex:\n",
    "         print (\"ZeroDivisionError:\", ex)\n",
    "                    \n",
    "list1 = [10,20,30,40]                      # If used this should run fine\n",
    "list2 = []                                 # If used this is empty, it would throw ZeroDivisionError\n",
    "list3 = [10,20,30,'abc']                   # If used this should throw TypeError \n",
    "\n",
    "\n",
    "print (avgReport(list2))\n",
    "avgReport(list1)\n",
    "print (avgReport(list3))\n",
    "print (\"Sai\")"
   ]
  },
  {
   "cell_type": "markdown",
   "metadata": {},
   "source": [
    "**Try..Finally**\n",
    "\n",
    "+ Suppose you are reading a file in your program. How do you ensure that the file object is closed properly whether or not an exception was raised? This can be done using the finally block.\n",
    "+ This final step will be performed before the try block is finished, either normally or by any exception.\n",
    "+ <b>The finally clause is always executed</b>. \n",
    "+ This includes all three possible cases: <b>if the try block finishes with no exceptions; if an exception is raised and handled; and if an exception is raised but not handled</b>. \n",
    "+ This last case means that every nested try statement with a finally clause will have that finally clause executed.\n",
    "+ Use a finally clause to close files, release locks, close database connections, write final log messages, and other kinds of final operations. \n",
    "+ In the following example, we use the finally clause to write a final log message.\n"
   ]
  },
  {
   "cell_type": "code",
   "execution_count": 128,
   "metadata": {},
   "outputs": [
    {
     "name": "stdout",
     "output_type": "stream",
     "text": [
      "Start avgReport\n",
      "ZeroDivisionError: float division by zero\n",
      "Finished avgReport\n"
     ]
    }
   ],
   "source": [
    "def avgReport( numList ):\n",
    "    try:\n",
    "        print(\"Start avgReport\")\n",
    "        m= avg(numList)\n",
    "        print(\"Average = \" + str(m))\n",
    "    except TypeError as ex:\n",
    "        print(\"TypeError: \"+ str(ex))\n",
    "    except ZeroDivisionError as ex:\n",
    "        print(\"ZeroDivisionError: \" + str(ex))\n",
    "    finally:\n",
    "         print(\"Finished avgReport\")\n",
    "\n",
    "list1 = [10,20,30,40]\n",
    "list2 = []\n",
    "list3 = [10,20,30,'abc']\n",
    "\n",
    "avgReport(list2)\n"
   ]
  },
  {
   "cell_type": "markdown",
   "metadata": {},
   "source": [
    "**Some common built-in exceptions**\n",
    "\n",
    "exception KeyboardInterrupt\n",
    " This is raised when a user hits ctrl-C to send an interrupt signal to the Python interpreter. \n",
    "\n",
    "exception AttributeError\n",
    " Attribute not found in an object.\n",
    "\n",
    "exception EOFError\n",
    " Read beyond end of file.\n",
    "\n",
    "exception FloatingPointError\n",
    " Floating point operation failed.\n",
    "\n",
    "exception IOError\n",
    " I/O operation failed.\n",
    "\n",
    "exception IndexError\n",
    " Sequence index out of range.\n",
    "\n",
    "exception KeyError\n",
    " Mapping key not found.\n",
    "\n",
    "exception TypeError\n",
    " Inappropriate argument type.\n",
    "\n",
    "exception ValueError\n",
    " Inappropriate argument value (of correct type).\n",
    "\n",
    "exception ZeroDivisionError\n",
    " Second argument to a division or modulo operation was zero.\n",
    "\n",
    "exception MemoryError\n",
    " Out of memory.\n",
    "\n",
    "exception RuntimeError\n",
    " Unspecified run-time error.\n",
    "\n",
    "exception SystemError\n",
    " Internal error in the Python interpreter\n",
    "\n",
    "exception ImportError\n",
    " Import can’t find module, or can’t find name in module.\n",
    "\n",
    "exception IndentationError\n",
    " Improper indentation.\n",
    "\n",
    "exception NameError\n",
    " Name not found globally.\n",
    "\n",
    "exception SyntaxError\n",
    " Invalid syntax.\n",
    "\n",
    "exception UnboundLocalError\n",
    " Local name referenced but not bound to a value.\n"
   ]
  }
 ],
 "metadata": {
  "anaconda-cloud": {},
  "kernelspec": {
   "display_name": "Python 3",
   "language": "python",
   "name": "python3"
  },
  "language_info": {
   "codemirror_mode": {
    "name": "ipython",
    "version": 3
   },
   "file_extension": ".py",
   "mimetype": "text/x-python",
   "name": "python",
   "nbconvert_exporter": "python",
   "pygments_lexer": "ipython3",
   "version": "3.6.4"
  }
 },
 "nbformat": 4,
 "nbformat_minor": 1
}
