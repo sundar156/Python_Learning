{
 "cells": [
  {
   "cell_type": "markdown",
   "metadata": {},
   "source": [
    "#Numpy"
   ]
  },
  {
   "cell_type": "code",
   "execution_count": 8,
   "metadata": {},
   "outputs": [
    {
     "name": "stdout",
     "output_type": "stream",
     "text": [
      "[6 6 6 6 6]\n",
      "[0 0 1 2 5]\n",
      "[1 2 0 0 0]\n",
      "f [3 4 5 6 7]\n",
      "15\n"
     ]
    }
   ],
   "source": [
    "import numpy as np\n",
    "dsa=np.array([1,2,3,4,5])\n",
    "ds2=np.array([5,4,3,2,1])\n",
    "fd=dsa+ds2\n",
    "print(fd)\n",
    "print(dsa//ds2)\n",
    "print(dsa%ds2)\n",
    "f=(dsa+2)\n",
    "print('f',f)\n",
    "print(ds2.sum())"
   ]
  },
  {
   "cell_type": "code",
   "execution_count": null,
   "metadata": {},
   "outputs": [],
   "source": []
  }
 ],
 "metadata": {
  "kernelspec": {
   "display_name": "Python 3",
   "language": "python",
   "name": "python3"
  },
  "language_info": {
   "codemirror_mode": {
    "name": "ipython",
    "version": 3
   },
   "file_extension": ".py",
   "mimetype": "text/x-python",
   "name": "python",
   "nbconvert_exporter": "python",
   "pygments_lexer": "ipython3",
   "version": "3.6.4"
  }
 },
 "nbformat": 4,
 "nbformat_minor": 2
}
