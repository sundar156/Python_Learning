{
 "cells": [
  {
   "cell_type": "code",
   "execution_count": 214,
   "metadata": {},
   "outputs": [],
   "source": [
    "your_local_path=\"../Machine_Learning/Infy_PredictiveUnderwriting/\"\n",
    "import pandas as pd\n",
    "import numpy as np\n",
    "from sklearn.model_selection import train_test_split\n",
    "from sklearn.linear_model import LinearRegression\n",
    "from sklearn import metrics"
   ]
  },
  {
   "cell_type": "code",
   "execution_count": 215,
   "metadata": {
    "scrolled": true
   },
   "outputs": [
    {
     "data": {
      "text/plain": [
       "8    19489\n",
       "6    11233\n",
       "7     8027\n",
       "2     6552\n",
       "1     6207\n",
       "5     5432\n",
       "4     1428\n",
       "3     1013\n",
       "Name: Response, dtype: int64"
      ]
     },
     "execution_count": 215,
     "metadata": {},
     "output_type": "execute_result"
    }
   ],
   "source": [
    "import seaborn as sns\n",
    "import matplotlib.pyplot as plt\n",
    "%matplotlib inline\n",
    "Underwriting_train = pd.read_csv(your_local_path + \"train.csv\")\n",
    "Underwriting_test = pd.read_csv(your_local_path + \"test.csv\")\n",
    "Underwriting_train.Response.value_counts()"
   ]
  },
  {
   "cell_type": "code",
   "execution_count": 216,
   "metadata": {
    "scrolled": true
   },
   "outputs": [],
   "source": [
    "#corr= Underwriting_train.corr()\n",
    "#corr"
   ]
  },
  {
   "cell_type": "code",
   "execution_count": 217,
   "metadata": {},
   "outputs": [],
   "source": [
    "# Stratified sampling\n",
    "#Underwriting_df.dtypes = int\n",
    "df_columns=['Product_Info_1','Product_Info_3','Product_Info_4','Product_Info_5','Product_Info_6','Product_Info_7','Ins_Age'\n",
    ",'Ht','Wt','BMI','Employment_Info_1','Employment_Info_2','Employment_Info_3','Employment_Info_4','Employment_Info_5','Employment_Info_6'\n",
    "          ,'InsuredInfo_1','InsuredInfo_2','InsuredInfo_3','InsuredInfo_4','InsuredInfo_5','InsuredInfo_6','InsuredInfo_7'\n",
    "           ,'Insurance_History_1','Insurance_History_2','Insurance_History_3','Insurance_History_4','Insurance_History_5',\n",
    "            'Insurance_History_7','Insurance_History_8','Insurance_History_9','Family_Hist_1','Family_Hist_2','Family_Hist_3','Family_Hist_4',\n",
    "           'Family_Hist_5','Medical_History_1','Medical_History_2','Medical_History_3','Medical_History_4','Medical_History_5','Medical_History_6','Medical_History_7'\n",
    "           ,'Medical_History_8','Medical_History_9','Medical_History_10','Medical_History_11','Medical_History_12','Medical_History_13','Medical_History_14'\n",
    "           ,'Medical_History_15','Medical_History_16','Medical_History_17','Medical_History_18','Medical_History_19','Medical_History_20'\n",
    "           ,'Medical_History_21','Medical_History_22','Medical_History_23','Medical_History_24','Medical_History_25','Medical_History_26','Medical_History_27'\n",
    "           ,'Medical_History_28','Medical_History_29','Medical_History_30','Medical_History_31','Medical_History_32','Medical_History_33','Medical_History_34'\n",
    "           ,'Medical_History_35','Medical_History_36','Medical_History_37','Medical_History_38','Medical_History_39','Medical_History_40','Medical_History_41','Medical_Keyword_1'\n",
    "           ,'Medical_Keyword_2','Medical_Keyword_3','Medical_Keyword_4','Medical_Keyword_5','Medical_Keyword_6','Medical_Keyword_7','Medical_Keyword_8'\n",
    "           ,'Medical_Keyword_9','Medical_Keyword_10','Medical_Keyword_11','Medical_Keyword_12','Medical_Keyword_13','Medical_Keyword_14','Medical_Keyword_15'\n",
    "           ,'Medical_Keyword_16','Medical_Keyword_17','Medical_Keyword_18','Medical_Keyword_19','Medical_Keyword_20','Medical_Keyword_21','Medical_Keyword_22'\n",
    "           ,'Medical_Keyword_23','Medical_Keyword_24','Medical_Keyword_25','Medical_Keyword_26','Medical_Keyword_27','Medical_Keyword_28','Medical_Keyword_29'\n",
    "           ,'Medical_Keyword_30','Medical_Keyword_31','Medical_Keyword_32','Medical_Keyword_33','Medical_Keyword_34','Medical_Keyword_35','Medical_Keyword_36'\n",
    "           ,'Medical_Keyword_37','Medical_Keyword_38','Medical_Keyword_39','Medical_Keyword_40','Medical_Keyword_41','Medical_Keyword_42','Medical_Keyword_43'\n",
    "           ,'Medical_Keyword_44','Medical_Keyword_45','Medical_Keyword_46','Medical_Keyword_47','Medical_Keyword_48']\n"
   ]
  },
  {
   "cell_type": "code",
   "execution_count": 218,
   "metadata": {},
   "outputs": [],
   "source": [
    "X=Underwriting_train[df_columns]\n",
    "#x=Underwriting_df\n",
    "y=Underwriting_train['Response']"
   ]
  },
  {
   "cell_type": "code",
   "execution_count": 219,
   "metadata": {
    "scrolled": true
   },
   "outputs": [],
   "source": [
    "# Stratified sampling\n",
    "from sklearn.model_selection import train_test_split\n",
    "X_train, X_test, y_train, y_test = train_test_split(X, y, test_size=0.33, random_state=101,stratify=y)"
   ]
  },
  {
   "cell_type": "code",
   "execution_count": 220,
   "metadata": {},
   "outputs": [],
   "source": [
    "# Building and fitting Random Forest\n",
    "from sklearn.ensemble import RandomForestClassifier\n",
    "forest = RandomForestClassifier(criterion= 'gini',n_estimators = 733, min_samples_split=12, min_samples_leaf= 1,\n",
    "                                 max_features='sqrt',max_depth = 30,bootstrap=True,class_weight=\"balanced\")"
   ]
  },
  {
   "cell_type": "code",
   "execution_count": 221,
   "metadata": {},
   "outputs": [],
   "source": [
    "my_forest = forest.fit(X_train, y_train)"
   ]
  },
  {
   "cell_type": "code",
   "execution_count": 222,
   "metadata": {},
   "outputs": [
    {
     "name": "stdout",
     "output_type": "stream",
     "text": [
      "0.8974487872313686\n",
      "0.554909165135742\n"
     ]
    }
   ],
   "source": [
    "print(my_forest.score(X_train, y_train))\n",
    "print(my_forest.score(X_test, y_test))"
   ]
  },
  {
   "cell_type": "code",
   "execution_count": 164,
   "metadata": {},
   "outputs": [],
   "source": [
    "#Making predictions\n",
    "pred = my_forest.predict(X_test)"
   ]
  },
  {
   "cell_type": "code",
   "execution_count": 165,
   "metadata": {},
   "outputs": [],
   "source": [
    "#print(my_forest.score(X_test, pred))"
   ]
  },
  {
   "cell_type": "code",
   "execution_count": 166,
   "metadata": {},
   "outputs": [
    {
     "data": {
      "text/plain": [
       "[('Product_Info_1', 0.0024846126284464335),\n",
       " ('Product_Info_3', 0.005100489607062708),\n",
       " ('Product_Info_4', 0.05170075696812524),\n",
       " ('Product_Info_5', 0.0009326081009583436),\n",
       " ('Product_Info_6', 0.004385899877496665),\n",
       " ('Product_Info_7', 0.0016805926539741995),\n",
       " ('Ins_Age', 0.03781654917075973),\n",
       " ('Ht', 0.0269279254731678),\n",
       " ('Wt', 0.06338170771336467),\n",
       " ('BMI', 0.0937669174870988),\n",
       " ('Employment_Info_1', 0.031243484914418276),\n",
       " ('Employment_Info_2', 0.014186058202316477),\n",
       " ('Employment_Info_3', 0.0038826066665009168),\n",
       " ('Employment_Info_4', 0.011154620369649098),\n",
       " ('Employment_Info_5', 0.003243367943119327),\n",
       " ('Employment_Info_6', 0.026183802119493768),\n",
       " ('InsuredInfo_1', 0.005867649503643128),\n",
       " ('InsuredInfo_2', 0.0019820632807642296),\n",
       " ('InsuredInfo_3', 0.015540983770886755),\n",
       " ('InsuredInfo_4', 0.0043207343672317065),\n",
       " ('InsuredInfo_5', 0.002808951263341849),\n",
       " ('InsuredInfo_6', 0.008239227494919218),\n",
       " ('InsuredInfo_7', 0.0036392478368079627),\n",
       " ('Insurance_History_1', 0.003576078972771497),\n",
       " ('Insurance_History_2', 0.0030183220171340623),\n",
       " ('Insurance_History_3', 0.002864284329998409),\n",
       " ('Insurance_History_4', 0.005200420807646855),\n",
       " ('Insurance_History_5', 0.020277628070209656),\n",
       " ('Insurance_History_7', 0.004162906501584059),\n",
       " ('Insurance_History_8', 0.005648520933876927),\n",
       " ('Insurance_History_9', 0.0035207420798306147),\n",
       " ('Family_Hist_1', 0.007008498527543801),\n",
       " ('Family_Hist_2', 0.021898392037936833),\n",
       " ('Family_Hist_3', 0.02282854630337044),\n",
       " ('Family_Hist_4', 0.026667839344827544),\n",
       " ('Family_Hist_5', 0.017164040673170705),\n",
       " ('Medical_History_1', 0.023961788565191246),\n",
       " ('Medical_History_2', 0.025106351321055702),\n",
       " ('Medical_History_3', 0.003491387803502949),\n",
       " ('Medical_History_4', 0.042036315989634684),\n",
       " ('Medical_History_5', 0.001987412570099903),\n",
       " ('Medical_History_6', 0.002791459197006471),\n",
       " ('Medical_History_7', 0.002563961773052737),\n",
       " ('Medical_History_8', 0.004414995142400251),\n",
       " ('Medical_History_9', 0.00500940021567849),\n",
       " ('Medical_History_10', 0.0006829373798793283),\n",
       " ('Medical_History_11', 0.0007423604635267603),\n",
       " ('Medical_History_12', 0.0029428573489272873),\n",
       " ('Medical_History_13', 0.005102349317523113),\n",
       " ('Medical_History_14', 0.0019196652833064448),\n",
       " ('Medical_History_15', 0.1327785853102759),\n",
       " ('Medical_History_16', 0.004255191605858923),\n",
       " ('Medical_History_17', 0.0021518341872344615),\n",
       " ('Medical_History_18', 0.003763541481967452),\n",
       " ('Medical_History_19', 0.0020837047625245457),\n",
       " ('Medical_History_20', 0.002342014308949486),\n",
       " ('Medical_History_21', 0.0033334881428516753),\n",
       " ('Medical_History_22', 0.001488367993318231),\n",
       " ('Medical_History_23', 0.01162726051860992),\n",
       " ('Medical_History_24', 0.0048430458897505005),\n",
       " ('Medical_History_25', 0.004221945207318715),\n",
       " ('Medical_History_26', 0.003874105492506282),\n",
       " ('Medical_History_27', 0.0011437561231679996),\n",
       " ('Medical_History_28', 0.004817243546064034),\n",
       " ('Medical_History_29', 0.004543278982378134),\n",
       " ('Medical_History_30', 0.004520343519256776),\n",
       " ('Medical_History_31', 0.0011245159494190369),\n",
       " ('Medical_History_32', 0.0012850197271472158),\n",
       " ('Medical_History_33', 0.005409951068620119),\n",
       " ('Medical_History_34', 0.004230837423198306),\n",
       " ('Medical_History_35', 0.00022582437218235735),\n",
       " ('Medical_History_36', 0.004711328156209102),\n",
       " ('Medical_History_37', 0.002848580792128001),\n",
       " ('Medical_History_38', 0.0005070603285967946),\n",
       " ('Medical_History_39', 0.0075258130901433625),\n",
       " ('Medical_History_40', 0.003395959313775458),\n",
       " ('Medical_History_41', 0.005217962142603334),\n",
       " ('Medical_Keyword_1', 0.0020627769088576667),\n",
       " ('Medical_Keyword_2', 0.0009291637767348661),\n",
       " ('Medical_Keyword_3', 0.009715608705401738),\n",
       " ('Medical_Keyword_4', 0.001235859955667945),\n",
       " ('Medical_Keyword_5', 0.0009150032558245832),\n",
       " ('Medical_Keyword_6', 0.0007718803456327515),\n",
       " ('Medical_Keyword_7', 0.0012588681485001328),\n",
       " ('Medical_Keyword_8', 0.0007634092274719955),\n",
       " ('Medical_Keyword_9', 0.0009090765797821463),\n",
       " ('Medical_Keyword_10', 0.002017339389470236),\n",
       " ('Medical_Keyword_11', 0.002752512545946503),\n",
       " ('Medical_Keyword_12', 0.0009683809223318757),\n",
       " ('Medical_Keyword_13', 0.0005024987884404014),\n",
       " ('Medical_Keyword_14', 0.0006434571849207261),\n",
       " ('Medical_Keyword_15', 0.010071933156709697),\n",
       " ('Medical_Keyword_16', 0.0011191357794672393),\n",
       " ('Medical_Keyword_17', 0.0008682525007230222),\n",
       " ('Medical_Keyword_18', 0.0007338885880268541),\n",
       " ('Medical_Keyword_19', 0.0007239007499498695),\n",
       " ('Medical_Keyword_20', 0.0005424107644282863),\n",
       " ('Medical_Keyword_21', 0.0010553420384795899),\n",
       " ('Medical_Keyword_22', 0.001894674140241515),\n",
       " ('Medical_Keyword_23', 0.005140410828880217),\n",
       " ('Medical_Keyword_24', 0.001394792029029146),\n",
       " ('Medical_Keyword_25', 0.0033286478999392495),\n",
       " ('Medical_Keyword_26', 0.0011848484745654569),\n",
       " ('Medical_Keyword_27', 0.0007723981470776968),\n",
       " ('Medical_Keyword_28', 0.0009964047133614485),\n",
       " ('Medical_Keyword_29', 0.0009854287202571105),\n",
       " ('Medical_Keyword_30', 0.0014036824371594057),\n",
       " ('Medical_Keyword_31', 0.0012628178822460907),\n",
       " ('Medical_Keyword_32', 0.0015132657861027159),\n",
       " ('Medical_Keyword_33', 0.0014854320566951274),\n",
       " ('Medical_Keyword_34', 0.0015281357263751008),\n",
       " ('Medical_Keyword_35', 0.0006813092212802103),\n",
       " ('Medical_Keyword_36', 0.0010331416439124496),\n",
       " ('Medical_Keyword_37', 0.003768131451906027),\n",
       " ('Medical_Keyword_38', 0.001055403649126193),\n",
       " ('Medical_Keyword_39', 0.0009281062275655109),\n",
       " ('Medical_Keyword_40', 0.003001328658481902),\n",
       " ('Medical_Keyword_41', 0.0005787510581434435),\n",
       " ('Medical_Keyword_42', 0.0028739312485670148),\n",
       " ('Medical_Keyword_43', 0.0007754096547269446),\n",
       " ('Medical_Keyword_44', 0.0006724078395857295),\n",
       " ('Medical_Keyword_45', 0.0008585826713394574),\n",
       " ('Medical_Keyword_46', 0.0007229024912098755),\n",
       " ('Medical_Keyword_47', 0.001624355029813041),\n",
       " ('Medical_Keyword_48', 0.002643721179353582)]"
      ]
     },
     "execution_count": 166,
     "metadata": {},
     "output_type": "execute_result"
    }
   ],
   "source": [
    "list(zip(X_train.columns,my_forest.feature_importances_))"
   ]
  },
  {
   "cell_type": "code",
   "execution_count": 188,
   "metadata": {},
   "outputs": [],
   "source": [
    "#df_columns_Important=['Product_Info_4','Ins_Age','Ht','Wt','BMI','Employment_Info_1','Employment_Info_2','Employment_Info_4',\n",
    "#'Employment_Info_6','InsuredInfo_3','Insurance_History_5','Family_Hist_2','Family_Hist_3','Family_Hist_4',\n",
    "#'Family_Hist_5','Medical_History_1','Medical_History_2','Medical_History_4','Medical_History_15','Medical_History_23',\n",
    "#'Medical_Keyword_15']\n",
    "#X=Underwriting_train[df_columns_Important]\n",
    "## Stratified sampling\n",
    "#from sklearn.model_selection import train_test_split\n",
    "#X_train, X_test, y_train, y_test = train_test_split(X, y, test_size=0.33, random_state=101,stratify=y)"
   ]
  },
  {
   "cell_type": "code",
   "execution_count": 189,
   "metadata": {
    "scrolled": true
   },
   "outputs": [
    {
     "data": {
      "text/plain": [
       "array([[ 462,  266,   75,   82,  231,  280,  258,  394],\n",
       "       [ 248,  531,   65,   64,  286,  327,  269,  372],\n",
       "       [   7,    3,  177,   93,   19,   17,    7,   11],\n",
       "       [   5,    0,   33,  345,    0,   38,    7,   43],\n",
       "       [  71,  167,    3,    0, 1057,  227,  116,  152],\n",
       "       [ 230,  204,    6,   11,  292, 1768,  577,  619],\n",
       "       [ 100,   21,    0,    1,   39,  502, 1174,  812],\n",
       "       [  52,   19,    0,    0,   20,  565,  408, 5368]])"
      ]
     },
     "execution_count": 189,
     "metadata": {},
     "output_type": "execute_result"
    }
   ],
   "source": [
    "from sklearn.metrics import confusion_matrix, classification_report\n",
    "\n",
    "df_confusion_rf = confusion_matrix(y_test, pred)\n",
    "df_confusion_rf"
   ]
  },
  {
   "cell_type": "code",
   "execution_count": 190,
   "metadata": {},
   "outputs": [
    {
     "data": {
      "text/plain": [
       "<matplotlib.axes._subplots.AxesSubplot at 0x1898a7198>"
      ]
     },
     "execution_count": 190,
     "metadata": {},
     "output_type": "execute_result"
    },
    {
     "data": {
      "image/png": "[encoded data removed]",
      "text/plain": [
       "<Figure size 432x288 with 2 Axes>"
      ]
     },
     "metadata": {},
     "output_type": "display_data"
    }
   ],
   "source": [
    "cmap = sns.cubehelix_palette(50, hue=0.05, rot=0, light=0.9, dark=0, as_cmap=True)\n",
    "sns.heatmap(df_confusion_rf, cmap = cmap,xticklabels=['Actual'],yticklabels=['Predicted'], annot=True,\n",
    "            fmt='d')"
   ]
  },
  {
   "cell_type": "code",
   "execution_count": 191,
   "metadata": {},
   "outputs": [],
   "source": [
    "#metrics.co Cross Validate to find optimal values for hyper params\n",
    "#criterion= 'gini',n_estimators = 733, min_samples_split=12, min_samples_leaf= 1,\n",
    " #                                max_features='sqrt',max_depth = 30,bootstrap=True,class_weight=\"balanced\"\n",
    "X=Underwriting_train[df_columns]\n",
    "max_depth = [10,30,35] \n",
    "criterion = ['gini', 'entropy']\n",
    "min_sample_split=[2,10,12]\n",
    "min_sample_leaf1 =[1,2,3,5]\n",
    "bootstrap1=['True','False']\n",
    "#max_features1=['sqrt','log2']\n",
    "from sklearn.model_selection import GridSearchCV"
   ]
  },
  {
   "cell_type": "code",
   "execution_count": 192,
   "metadata": {},
   "outputs": [],
   "source": [
    "# Building the model\n",
    "from sklearn import tree\n",
    "my_tree_three = RandomForestClassifier(class_weight=\"balanced\")\n",
    "\n",
    "# Cross-validation tells how well a model performs on a dataset using multiple samples of train data\n",
    "grid = GridSearchCV(estimator = my_tree_three, cv=3, \n",
    "                    param_grid = dict(max_depth = max_depth,min_samples_leaf= min_sample_leaf1,criterion = criterion,min_samples_split=min_sample_split))"
   ]
  },
  {
   "cell_type": "code",
   "execution_count": 193,
   "metadata": {},
   "outputs": [
    {
     "data": {
      "text/plain": [
       "GridSearchCV(cv=3, error_score='raise',\n",
       "       estimator=RandomForestClassifier(bootstrap=True, class_weight='balanced',\n",
       "            criterion='gini', max_depth=None, max_features='auto',\n",
       "            max_leaf_nodes=None, min_impurity_decrease=0.0,\n",
       "            min_impurity_split=None, min_samples_leaf=1,\n",
       "            min_samples_split=2, min_weight_fraction_leaf=0.0,\n",
       "            n_estimators=10, n_jobs=1, oob_score=False, random_state=None,\n",
       "            verbose=0, warm_start=False),\n",
       "       fit_params=None, iid=True, n_jobs=1,\n",
       "       param_grid={'max_depth': [10, 30, 35], 'min_samples_leaf': [1, 2, 3, 5], 'criterion': ['gini', 'entropy'], 'min_samples_split': [2, 10, 12]},\n",
       "       pre_dispatch='2*n_jobs', refit=True, return_train_score='warn',\n",
       "       scoring=None, verbose=0)"
      ]
     },
     "execution_count": 193,
     "metadata": {},
     "output_type": "execute_result"
    }
   ],
   "source": [
    "grid.fit(X_train,y_train)"
   ]
  },
  {
   "cell_type": "code",
   "execution_count": 194,
   "metadata": {},
   "outputs": [
    {
     "data": {
      "text/plain": [
       "0.5082820158351138"
      ]
     },
     "execution_count": 194,
     "metadata": {},
     "output_type": "execute_result"
    }
   ],
   "source": [
    "grid.best_score_\n",
    "#grid.cv_results_"
   ]
  },
  {
   "cell_type": "code",
   "execution_count": 195,
   "metadata": {},
   "outputs": [
    {
     "data": {
      "text/plain": [
       "{'criterion': 'gini',\n",
       " 'max_depth': 10,\n",
       " 'min_samples_leaf': 1,\n",
       " 'min_samples_split': 10}"
      ]
     },
     "execution_count": 195,
     "metadata": {},
     "output_type": "execute_result"
    }
   ],
   "source": [
    "grid.best_params_"
   ]
  },
  {
   "cell_type": "code",
   "execution_count": 175,
   "metadata": {},
   "outputs": [],
   "source": [
    "#grid.fit"
   ]
  },
  {
   "cell_type": "code",
   "execution_count": 196,
   "metadata": {},
   "outputs": [],
   "source": [
    "# Building the model based on new parameters\n",
    "\n",
    "\n",
    "my_tree_three = RandomForestClassifier(criterion= 'gini', max_depth= 10, min_samples_split= 10, min_samples_leaf= 1,\n",
    "                                            random_state=42, class_weight=\"balanced\")"
   ]
  },
  {
   "cell_type": "code",
   "execution_count": 197,
   "metadata": {},
   "outputs": [
    {
     "data": {
      "text/plain": [
       "RandomForestClassifier(bootstrap=True, class_weight='balanced',\n",
       "            criterion='gini', max_depth=10, max_features='auto',\n",
       "            max_leaf_nodes=None, min_impurity_decrease=0.0,\n",
       "            min_impurity_split=None, min_samples_leaf=1,\n",
       "            min_samples_split=10, min_weight_fraction_leaf=0.0,\n",
       "            n_estimators=10, n_jobs=1, oob_score=False, random_state=42,\n",
       "            verbose=0, warm_start=False)"
      ]
     },
     "execution_count": 197,
     "metadata": {},
     "output_type": "execute_result"
    }
   ],
   "source": [
    "my_tree_three.fit(X_train,y_train)"
   ]
  },
  {
   "cell_type": "code",
   "execution_count": 198,
   "metadata": {},
   "outputs": [
    {
     "data": {
      "text/plain": [
       "0.5535000628377529"
      ]
     },
     "execution_count": 198,
     "metadata": {},
     "output_type": "execute_result"
    }
   ],
   "source": [
    "my_tree_three.score(X_train,y_train)"
   ]
  },
  {
   "cell_type": "code",
   "execution_count": 199,
   "metadata": {},
   "outputs": [
    {
     "data": {
      "text/plain": [
       "0.5048479281486018"
      ]
     },
     "execution_count": 199,
     "metadata": {},
     "output_type": "execute_result"
    }
   ],
   "source": [
    "my_tree_three.score(X_test,y_test)"
   ]
  },
  {
   "cell_type": "code",
   "execution_count": 200,
   "metadata": {},
   "outputs": [],
   "source": [
    "# Use Randomized Search\n",
    "# Different parameters we want to test\n",
    "# Number of trees in random forest\n",
    "n_estimators = [int(x) for x in np.linspace(start = 200, stop = 1000, num = 10)]\n",
    "# Number of features to consider at every split\n",
    "max_features = ['auto', 'sqrt']\n",
    "# Maximum number of levels in tree\n",
    "max_depth = [int(x) for x in np.linspace(10, 110, num = 11)]\n",
    "max_depth.append(None)\n",
    "# Minimum number of samples required to split a node\n",
    "min_samples_split = [2, 5, 10]\n",
    "# Minimum number of samples required at each leaf node\n",
    "min_samples_leaf = [1, 2, 4]\n",
    "# Method of selecting samples for training each tree\n",
    "bootstrap = [True, False]"
   ]
  },
  {
   "cell_type": "code",
   "execution_count": 201,
   "metadata": {},
   "outputs": [],
   "source": [
    "random_grid = {'n_estimators': n_estimators,\n",
    "               'max_features': max_features,\n",
    "               'max_depth': max_depth,\n",
    "               'min_samples_split': min_samples_split,\n",
    "               'min_samples_leaf': min_samples_leaf,\n",
    "               'bootstrap': bootstrap}"
   ]
  },
  {
   "cell_type": "code",
   "execution_count": 202,
   "metadata": {},
   "outputs": [],
   "source": [
    "from sklearn.model_selection import RandomizedSearchCV\n",
    "forest_two = RandomForestClassifier(class_weight=\"balanced\")\n",
    "\n",
    "# Fitting 3 folds for each of 100 candidates, totalling 300 fits\n",
    "rf_random = RandomizedSearchCV(estimator = forest_two, param_distributions = random_grid, \n",
    "                               n_iter = 10, cv = 3, verbose=2, random_state=42)"
   ]
  },
  {
   "cell_type": "code",
   "execution_count": 203,
   "metadata": {},
   "outputs": [
    {
     "name": "stdout",
     "output_type": "stream",
     "text": [
      "Fitting 3 folds for each of 10 candidates, totalling 30 fits\n",
      "[CV] n_estimators=200, min_samples_split=10, min_samples_leaf=2, max_features=sqrt, max_depth=50, bootstrap=True \n",
      "[CV]  n_estimators=200, min_samples_split=10, min_samples_leaf=2, max_features=sqrt, max_depth=50, bootstrap=True, total=   8.2s\n",
      "[CV] n_estimators=200, min_samples_split=10, min_samples_leaf=2, max_features=sqrt, max_depth=50, bootstrap=True \n"
     ]
    },
    {
     "name": "stderr",
     "output_type": "stream",
     "text": [
      "[Parallel(n_jobs=1)]: Done   1 out of   1 | elapsed:    9.3s remaining:    0.0s\n"
     ]
    },
    {
     "name": "stdout",
     "output_type": "stream",
     "text": [
      "[CV]  n_estimators=200, min_samples_split=10, min_samples_leaf=2, max_features=sqrt, max_depth=50, bootstrap=True, total=   8.6s\n",
      "[CV] n_estimators=200, min_samples_split=10, min_samples_leaf=2, max_features=sqrt, max_depth=50, bootstrap=True \n",
      "[CV]  n_estimators=200, min_samples_split=10, min_samples_leaf=2, max_features=sqrt, max_depth=50, bootstrap=True, total=   8.0s\n",
      "[CV] n_estimators=377, min_samples_split=10, min_samples_leaf=4, max_features=sqrt, max_depth=90, bootstrap=False \n",
      "[CV]  n_estimators=377, min_samples_split=10, min_samples_leaf=4, max_features=sqrt, max_depth=90, bootstrap=False, total=  21.0s\n",
      "[CV] n_estimators=377, min_samples_split=10, min_samples_leaf=4, max_features=sqrt, max_depth=90, bootstrap=False \n",
      "[CV]  n_estimators=377, min_samples_split=10, min_samples_leaf=4, max_features=sqrt, max_depth=90, bootstrap=False, total=  20.4s\n",
      "[CV] n_estimators=377, min_samples_split=10, min_samples_leaf=4, max_features=sqrt, max_depth=90, bootstrap=False \n",
      "[CV]  n_estimators=377, min_samples_split=10, min_samples_leaf=4, max_features=sqrt, max_depth=90, bootstrap=False, total=  20.3s\n",
      "[CV] n_estimators=377, min_samples_split=2, min_samples_leaf=2, max_features=auto, max_depth=60, bootstrap=False \n",
      "[CV]  n_estimators=377, min_samples_split=2, min_samples_leaf=2, max_features=auto, max_depth=60, bootstrap=False, total=  24.0s\n",
      "[CV] n_estimators=377, min_samples_split=2, min_samples_leaf=2, max_features=auto, max_depth=60, bootstrap=False \n",
      "[CV]  n_estimators=377, min_samples_split=2, min_samples_leaf=2, max_features=auto, max_depth=60, bootstrap=False, total=  23.9s\n",
      "[CV] n_estimators=377, min_samples_split=2, min_samples_leaf=2, max_features=auto, max_depth=60, bootstrap=False \n",
      "[CV]  n_estimators=377, min_samples_split=2, min_samples_leaf=2, max_features=auto, max_depth=60, bootstrap=False, total=  24.0s\n",
      "[CV] n_estimators=733, min_samples_split=5, min_samples_leaf=1, max_features=sqrt, max_depth=30, bootstrap=True \n",
      "[CV]  n_estimators=733, min_samples_split=5, min_samples_leaf=1, max_features=sqrt, max_depth=30, bootstrap=True, total=  31.5s\n",
      "[CV] n_estimators=733, min_samples_split=5, min_samples_leaf=1, max_features=sqrt, max_depth=30, bootstrap=True \n",
      "[CV]  n_estimators=733, min_samples_split=5, min_samples_leaf=1, max_features=sqrt, max_depth=30, bootstrap=True, total=  31.5s\n",
      "[CV] n_estimators=733, min_samples_split=5, min_samples_leaf=1, max_features=sqrt, max_depth=30, bootstrap=True \n",
      "[CV]  n_estimators=733, min_samples_split=5, min_samples_leaf=1, max_features=sqrt, max_depth=30, bootstrap=True, total=  31.5s\n",
      "[CV] n_estimators=555, min_samples_split=10, min_samples_leaf=1, max_features=auto, max_depth=80, bootstrap=False \n",
      "[CV]  n_estimators=555, min_samples_split=10, min_samples_leaf=1, max_features=auto, max_depth=80, bootstrap=False, total=  33.2s\n",
      "[CV] n_estimators=555, min_samples_split=10, min_samples_leaf=1, max_features=auto, max_depth=80, bootstrap=False \n",
      "[CV]  n_estimators=555, min_samples_split=10, min_samples_leaf=1, max_features=auto, max_depth=80, bootstrap=False, total=  33.8s\n",
      "[CV] n_estimators=555, min_samples_split=10, min_samples_leaf=1, max_features=auto, max_depth=80, bootstrap=False \n",
      "[CV]  n_estimators=555, min_samples_split=10, min_samples_leaf=1, max_features=auto, max_depth=80, bootstrap=False, total=  33.1s\n",
      "[CV] n_estimators=288, min_samples_split=10, min_samples_leaf=1, max_features=sqrt, max_depth=60, bootstrap=False \n",
      "[CV]  n_estimators=288, min_samples_split=10, min_samples_leaf=1, max_features=sqrt, max_depth=60, bootstrap=False, total=  17.4s\n",
      "[CV] n_estimators=288, min_samples_split=10, min_samples_leaf=1, max_features=sqrt, max_depth=60, bootstrap=False \n",
      "[CV]  n_estimators=288, min_samples_split=10, min_samples_leaf=1, max_features=sqrt, max_depth=60, bootstrap=False, total=  17.3s\n",
      "[CV] n_estimators=288, min_samples_split=10, min_samples_leaf=1, max_features=sqrt, max_depth=60, bootstrap=False \n",
      "[CV]  n_estimators=288, min_samples_split=10, min_samples_leaf=1, max_features=sqrt, max_depth=60, bootstrap=False, total=  17.2s\n",
      "[CV] n_estimators=1000, min_samples_split=2, min_samples_leaf=2, max_features=auto, max_depth=50, bootstrap=False \n",
      "[CV]  n_estimators=1000, min_samples_split=2, min_samples_leaf=2, max_features=auto, max_depth=50, bootstrap=False, total= 1.1min\n",
      "[CV] n_estimators=1000, min_samples_split=2, min_samples_leaf=2, max_features=auto, max_depth=50, bootstrap=False \n",
      "[CV]  n_estimators=1000, min_samples_split=2, min_samples_leaf=2, max_features=auto, max_depth=50, bootstrap=False, total= 1.1min\n",
      "[CV] n_estimators=1000, min_samples_split=2, min_samples_leaf=2, max_features=auto, max_depth=50, bootstrap=False \n",
      "[CV]  n_estimators=1000, min_samples_split=2, min_samples_leaf=2, max_features=auto, max_depth=50, bootstrap=False, total= 1.1min\n",
      "[CV] n_estimators=200, min_samples_split=5, min_samples_leaf=2, max_features=sqrt, max_depth=10, bootstrap=True \n",
      "[CV]  n_estimators=200, min_samples_split=5, min_samples_leaf=2, max_features=sqrt, max_depth=10, bootstrap=True, total=   4.2s\n",
      "[CV] n_estimators=200, min_samples_split=5, min_samples_leaf=2, max_features=sqrt, max_depth=10, bootstrap=True \n",
      "[CV]  n_estimators=200, min_samples_split=5, min_samples_leaf=2, max_features=sqrt, max_depth=10, bootstrap=True, total=   4.3s\n",
      "[CV] n_estimators=200, min_samples_split=5, min_samples_leaf=2, max_features=sqrt, max_depth=10, bootstrap=True \n",
      "[CV]  n_estimators=200, min_samples_split=5, min_samples_leaf=2, max_features=sqrt, max_depth=10, bootstrap=True, total=   4.3s\n",
      "[CV] n_estimators=644, min_samples_split=2, min_samples_leaf=4, max_features=auto, max_depth=100, bootstrap=True \n",
      "[CV]  n_estimators=644, min_samples_split=2, min_samples_leaf=4, max_features=auto, max_depth=100, bootstrap=True, total=  23.3s\n",
      "[CV] n_estimators=644, min_samples_split=2, min_samples_leaf=4, max_features=auto, max_depth=100, bootstrap=True \n",
      "[CV]  n_estimators=644, min_samples_split=2, min_samples_leaf=4, max_features=auto, max_depth=100, bootstrap=True, total=  23.4s\n",
      "[CV] n_estimators=644, min_samples_split=2, min_samples_leaf=4, max_features=auto, max_depth=100, bootstrap=True \n",
      "[CV]  n_estimators=644, min_samples_split=2, min_samples_leaf=4, max_features=auto, max_depth=100, bootstrap=True, total=  23.6s\n",
      "[CV] n_estimators=1000, min_samples_split=5, min_samples_leaf=2, max_features=auto, max_depth=50, bootstrap=True \n",
      "[CV]  n_estimators=1000, min_samples_split=5, min_samples_leaf=2, max_features=auto, max_depth=50, bootstrap=True, total=  40.8s\n",
      "[CV] n_estimators=1000, min_samples_split=5, min_samples_leaf=2, max_features=auto, max_depth=50, bootstrap=True \n",
      "[CV]  n_estimators=1000, min_samples_split=5, min_samples_leaf=2, max_features=auto, max_depth=50, bootstrap=True, total=  41.3s\n",
      "[CV] n_estimators=1000, min_samples_split=5, min_samples_leaf=2, max_features=auto, max_depth=50, bootstrap=True \n",
      "[CV]  n_estimators=1000, min_samples_split=5, min_samples_leaf=2, max_features=auto, max_depth=50, bootstrap=True, total=  40.8s\n"
     ]
    },
    {
     "name": "stderr",
     "output_type": "stream",
     "text": [
      "[Parallel(n_jobs=1)]: Done  30 out of  30 | elapsed: 15.1min finished\n"
     ]
    },
    {
     "data": {
      "text/plain": [
       "RandomizedSearchCV(cv=3, error_score='raise',\n",
       "          estimator=RandomForestClassifier(bootstrap=True, class_weight='balanced',\n",
       "            criterion='gini', max_depth=None, max_features='auto',\n",
       "            max_leaf_nodes=None, min_impurity_decrease=0.0,\n",
       "            min_impurity_split=None, min_samples_leaf=1,\n",
       "            min_samples_split=2, min_weight_fraction_leaf=0.0,\n",
       "            n_estimators=10, n_jobs=1, oob_score=False, random_state=None,\n",
       "            verbose=0, warm_start=False),\n",
       "          fit_params=None, iid=True, n_iter=10, n_jobs=1,\n",
       "          param_distributions={'n_estimators': [200, 288, 377, 466, 555, 644, 733, 822, 911, 1000], 'max_features': ['auto', 'sqrt'], 'max_depth': [10, 20, 30, 40, 50, 60, 70, 80, 90, 100, 110, None], 'min_samples_split': [2, 5, 10], 'min_samples_leaf': [1, 2, 4], 'bootstrap': [True, False]},\n",
       "          pre_dispatch='2*n_jobs', random_state=42, refit=True,\n",
       "          return_train_score='warn', scoring=None, verbose=2)"
      ]
     },
     "execution_count": 203,
     "metadata": {},
     "output_type": "execute_result"
    }
   ],
   "source": [
    "rf_random.fit(X_train,y_train)"
   ]
  },
  {
   "cell_type": "code",
   "execution_count": 204,
   "metadata": {},
   "outputs": [
    {
     "name": "stdout",
     "output_type": "stream",
     "text": [
      "{'n_estimators': 733, 'min_samples_split': 5, 'min_samples_leaf': 1, 'max_features': 'sqrt', 'max_depth': 30, 'bootstrap': True}\n"
     ]
    }
   ],
   "source": [
    "print(rf_random.best_params_)"
   ]
  },
  {
   "cell_type": "code",
   "execution_count": 205,
   "metadata": {},
   "outputs": [
    {
     "data": {
      "text/plain": [
       "0.540329269825311"
      ]
     },
     "execution_count": 205,
     "metadata": {},
     "output_type": "execute_result"
    }
   ],
   "source": [
    "rf_random.best_score_"
   ]
  },
  {
   "cell_type": "code",
   "execution_count": 210,
   "metadata": {},
   "outputs": [],
   "source": [
    "forest2 = RandomForestClassifier(criterion= 'gini',n_estimators = 733, min_samples_split= 5, min_samples_leaf= 1,\n",
    "                                 max_features='sqrt',max_depth = 30,bootstrap=True,class_weight=\"balanced\")"
   ]
  },
  {
   "cell_type": "code",
   "execution_count": 211,
   "metadata": {},
   "outputs": [],
   "source": [
    "my_forest2 = forest2.fit(X_train, y_train)"
   ]
  },
  {
   "cell_type": "code",
   "execution_count": 212,
   "metadata": {},
   "outputs": [],
   "source": [
    "# Making predictions\n",
    "pred = my_forest2.predict(X_test)"
   ]
  },
  {
   "cell_type": "code",
   "execution_count": 213,
   "metadata": {},
   "outputs": [
    {
     "name": "stdout",
     "output_type": "stream",
     "text": [
      "0.9886640693728792\n",
      "0.5460808328230251\n"
     ]
    }
   ],
   "source": [
    "print(my_forest2.score(X_train, y_train))\n",
    "print(my_forest2.score(X_test, y_test))"
   ]
  },
  {
   "cell_type": "code",
   "execution_count": null,
   "metadata": {},
   "outputs": [],
   "source": []
  }
 ],
 "metadata": {
  "kernelspec": {
   "display_name": "Python 3",
   "language": "python",
   "name": "python3"
  },
  "language_info": {
   "codemirror_mode": {
    "name": "ipython",
    "version": 3
   },
   "file_extension": ".py",
   "mimetype": "text/x-python",
   "name": "python",
   "nbconvert_exporter": "python",
   "pygments_lexer": "ipython3",
   "version": "3.6.4"
  }
 },
 "nbformat": 4,
 "nbformat_minor": 2
}
