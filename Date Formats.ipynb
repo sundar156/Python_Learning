{
 "cells": [
  {
   "cell_type": "markdown",
   "metadata": {},
   "source": [
    "#Date Formats Assignment"
   ]
  },
  {
   "cell_type": "code",
   "execution_count": 88,
   "metadata": {},
   "outputs": [
    {
     "name": "stdout",
     "output_type": "stream",
     "text": [
      "2019-01-13 01:21:01.483863\n",
      "January\n",
      "Sun\n",
      "AM\n",
      "Sunday\n",
      "013\n",
      "1\n",
      "9999\n",
      "2019-01-13\n",
      "2019 13 01\n",
      "-----\n",
      "Sunday, 13 January 2019\n",
      "13 Jan, 2019\n",
      "2019-January-13\n",
      "13/01/2019\n",
      "2019-January-13\n",
      "2019/January/13 01:21:01 \n",
      "-----\n",
      "64 days, 0:00:00\n",
      "Current date & time Sun Jan 13 01:21:01 2019\n",
      "The {1} is {0:13}, the {2} is {0:January}\n"
     ]
    }
   ],
   "source": [
    "#from datetime \n",
    "import datetime\n",
    "from datetime import date\n",
    "#help(datetime.strptime)                                        \n",
    "#print(datetime.today())\n",
    "\n",
    "x = datetime.datetime.now()\n",
    "\n",
    "print(x)\n",
    "print(x.strftime('%B'))\n",
    "print(x.strftime(\"%a\"))\n",
    "print(x.strftime(\"%p\"))\n",
    "print(x.strftime(\"%A\"))\n",
    "\n",
    "\n",
    "print(x.strftime(\"%j\"))\n",
    "print(datetime.MINYEAR)\n",
    "print(datetime.MAXYEAR)\n",
    "print(date.today())\n",
    "\n",
    "print(x.strftime('%Y %d %m'))\n",
    "print(x.strftime('-----'))\n",
    "print(x.strftime('%A, %d %B %Y'))\n",
    "print(x.strftime('%d %b, %Y'))\n",
    "print(x.strftime('%Y-%B-%d'))\n",
    "print(x.strftime('%d/%m/%Y'))\n",
    "print(x.strftime('%Y-%B-%d'))\n",
    "print(x.strftime('%Y/%B/%d %H:%M:%S %Z'))\n",
    "\n",
    "print(x.strftime('-----'))\n",
    "\n",
    "date1 = datetime.datetime(2015, 5, 16)\n",
    "date2 = datetime.datetime(2015, 7, 19)\n",
    "datediff = date2 - date1\n",
    "print(datediff)\n",
    "\n",
    "print (\"Current date & time \" + x.strftime(\"%c\"))\n",
    "print(x.strftime('The {1} is {0:%d}, the {2} is {0:%B}'))\n"
   ]
  }
 ],
 "metadata": {
  "kernelspec": {
   "display_name": "Python 3",
   "language": "python",
   "name": "python3"
  },
  "language_info": {
   "codemirror_mode": {
    "name": "ipython",
    "version": 3
   },
   "file_extension": ".py",
   "mimetype": "text/x-python",
   "name": "python",
   "nbconvert_exporter": "python",
   "pygments_lexer": "ipython3",
   "version": "3.6.4"
  }
 },
 "nbformat": 4,
 "nbformat_minor": 2
}
